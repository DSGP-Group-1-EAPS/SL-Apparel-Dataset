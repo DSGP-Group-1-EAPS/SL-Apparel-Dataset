{
  "nbformat": 4,
  "nbformat_minor": 0,
  "metadata": {
    "colab": {
      "provenance": [],
      "authorship_tag": "ABX9TyMmw5NFfCKDBhhk4eIz5YFK",
      "include_colab_link": true
    },
    "kernelspec": {
      "name": "python3",
      "display_name": "Python 3"
    },
    "language_info": {
      "name": "python"
    }
  },
  "cells": [
    {
      "cell_type": "markdown",
      "metadata": {
        "id": "view-in-github",
        "colab_type": "text"
      },
      "source": [
        "<a href=\"https://colab.research.google.com/github/DSGP-Group-1-EAPS/SL-Apparel-Dataset/blob/main/Binary_Classification_Model_.ipynb\" target=\"_parent\"><img src=\"https://colab.research.google.com/assets/colab-badge.svg\" alt=\"Open In Colab\"/></a>"
      ]
    },
    {
      "cell_type": "code",
      "execution_count": 3,
      "metadata": {
        "colab": {
          "base_uri": "https://localhost:8080/"
        },
        "id": "ABTsHmAboTwG",
        "outputId": "bd9d9136-d646-480f-f944-0cda85b64d5d"
      },
      "outputs": [
        {
          "output_type": "stream",
          "name": "stdout",
          "text": [
            "Drive already mounted at /content/drive; to attempt to forcibly remount, call drive.mount(\"/content/drive\", force_remount=True).\n",
            "Accuracy: 0.91\n",
            "Confusion Matrix:\n",
            "[[16423     9]\n",
            " [ 1574     9]]\n",
            "Classification Report:\n",
            "              precision    recall  f1-score   support\n",
            "\n",
            "           0       0.91      1.00      0.95     16432\n",
            "           1       0.50      0.01      0.01      1583\n",
            "\n",
            "    accuracy                           0.91     18015\n",
            "   macro avg       0.71      0.50      0.48     18015\n",
            "weighted avg       0.88      0.91      0.87     18015\n",
            "\n"
          ]
        }
      ],
      "source": [
        "import pandas as pd\n",
        "from sklearn.model_selection import train_test_split\n",
        "from sklearn.ensemble import RandomForestClassifier\n",
        "from sklearn.metrics import accuracy_score, classification_report, confusion_matrix\n",
        "from google.colab import drive\n",
        "\n",
        "# Mount Google Drive\n",
        "drive.mount('/content/drive')\n",
        "\n",
        "# Load the preprocessed data\n",
        "df = pd.read_excel('/content/drive/MyDrive/Colab Notebooks/DSGP_COURSEWORK/SL Apparel Dataset model/preprocessed_data.xlsx')\n",
        "\n",
        "# Features and target variable\n",
        "features = ['Encoded Reason', 'Encoded Status', 'Encoded Absenteeism Type', 'Encoded Shift']\n",
        "X = df[features]\n",
        "y = df['Encoded Absent/Present']\n",
        "\n",
        "# Split the dataset\n",
        "X_train, X_test, y_train, y_test = train_test_split(X, y, test_size=0.2, random_state=42)\n",
        "\n",
        "# Initialize the model\n",
        "model = RandomForestClassifier(random_state=42)\n",
        "\n",
        "# Train the model\n",
        "model.fit(X_train, y_train)\n",
        "\n",
        "# Make predictions\n",
        "y_pred = model.predict(X_test)\n",
        "\n",
        "# Evaluate the model\n",
        "accuracy = accuracy_score(y_test, y_pred)\n",
        "print(f\"Accuracy: {accuracy:.2f}\")\n",
        "\n",
        "print(\"Confusion Matrix:\")\n",
        "print(confusion_matrix(y_test, y_pred))\n",
        "\n",
        "print(\"Classification Report:\")\n",
        "print(classification_report(y_test, y_pred))\n"
      ]
    },
    {
      "cell_type": "code",
      "source": [
        "# Predict probabilities\n",
        "y_probabilities = model.predict_proba(X_test)[:, 1]\n",
        "\n",
        "# Identify highly likely employees (probability > 0.8)\n",
        "threshold = 0.8\n",
        "highly_likely_employees = df.loc[y_test.index][y_probabilities > threshold]\n",
        "\n",
        "# Display highly likely employees\n",
        "print(\"Highly Likely Employees:\")\n",
        "print(highly_likely_employees)"
      ],
      "metadata": {
        "colab": {
          "base_uri": "https://localhost:8080/"
        },
        "id": "2gV2Jl-Qpk6O",
        "outputId": "eedbf60b-2a1f-4fb7-b642-d876c77abadf"
      },
      "execution_count": 4,
      "outputs": [
        {
          "output_type": "stream",
          "name": "stdout",
          "text": [
            "Highly Likely Employees:\n",
            "Empty DataFrame\n",
            "Columns: [Date, Shift, Code, Absenteeism Type, Status, Leave Type, Absent/Present, Reason, Encoded Reason, Encoded Absent/Present, Encoded Status, Encoded Absenteeism Type, Encoded Shift]\n",
            "Index: []\n"
          ]
        }
      ]
    },
    {
      "cell_type": "markdown",
      "source": [
        "##Different code"
      ],
      "metadata": {
        "id": "CObuz32sq9kh"
      }
    },
    {
      "cell_type": "code",
      "source": [
        "import pandas as pd\n",
        "from sklearn.model_selection import train_test_split\n",
        "from sklearn.ensemble import RandomForestClassifier\n",
        "from sklearn.preprocessing import LabelEncoder\n",
        "from google.colab import drive\n",
        "\n",
        "# Mount Google Drive\n",
        "drive.mount('/content/drive')\n",
        "\n",
        "# Load the preprocessed data\n",
        "df = pd.read_excel('/content/drive/MyDrive/Colab Notebooks/DSGP_COURSEWORK/SL Apparel Dataset model/preprocessed_data.xlsx')\n",
        "\n",
        "# Create a target variable (e.g., took leave in the next month)\n",
        "df['TookLeaveNextMonth'] = df['Absent/Present'].eq('Absent').shift(-1)\n",
        "\n",
        "# Features and target variable\n",
        "features = ['Encoded Reason', 'Encoded Status', 'Encoded Absenteeism Type', 'Encoded Shift']\n",
        "X = df[features]\n",
        "y = df['TookLeaveNextMonth']\n",
        "\n",
        "# Handle missing values in the target variable\n",
        "y = y.fillna(0)  # Fill missing values with 0 or choose an appropriate strategy\n",
        "\n",
        "# Ensure binary classes in the target variable\n",
        "y = y.astype(int)\n",
        "\n",
        "# Split the dataset\n",
        "X_train, X_test, y_train, y_test = train_test_split(X, y, test_size=0.2, random_state=42)\n",
        "\n",
        "# Initialize the model\n",
        "model = RandomForestClassifier(random_state=42)\n",
        "\n",
        "# Train the model\n",
        "model.fit(X_train, y_train)\n",
        "\n",
        "# Make predictions\n",
        "y_prob = model.predict_proba(X_test)[:, 1]\n",
        "\n",
        "# Define probability threshold\n",
        "threshold = 0.8\n",
        "\n",
        "# Filter employees with probability above the threshold\n",
        "highly_likely_employees = df.loc[X_test.index, ['Code', 'Encoded Absent/Present', 'Leave Type', 'Reason']]\n",
        "highly_likely_employees['Probability'] = y_prob\n",
        "\n",
        "# Display the result\n",
        "result = highly_likely_employees[highly_likely_employees['Probability'] > threshold]\n",
        "print(\"Highly Likely Employees:\")\n",
        "print(result[['Code', 'Probability']])\n"
      ],
      "metadata": {
        "colab": {
          "base_uri": "https://localhost:8080/"
        },
        "id": "B0XiK15Vq79x",
        "outputId": "310d8ced-0665-41e9-b604-f075a95c8624"
      },
      "execution_count": 2,
      "outputs": [
        {
          "output_type": "stream",
          "name": "stdout",
          "text": [
            "Drive already mounted at /content/drive; to attempt to forcibly remount, call drive.mount(\"/content/drive\", force_remount=True).\n",
            "Highly Likely Employees:\n",
            "         Code  Probability\n",
            "51273  AA1020     0.995360\n",
            "75297  AA2889     0.981685\n",
            "49296   AA745     0.989119\n",
            "40999   AA933     0.993470\n",
            "70357  AA1214     0.968826\n",
            "...       ...          ...\n",
            "32027  AA2810     0.995579\n",
            "87640  AA2925     0.987327\n",
            "57120   AA603     0.974451\n",
            "32529  AA3645     0.995579\n",
            "72360  AA1138     1.000000\n",
            "\n",
            "[14668 rows x 2 columns]\n"
          ]
        }
      ]
    },
    {
      "cell_type": "code",
      "source": [
        "import pandas as pd\n",
        "from sklearn.model_selection import train_test_split\n",
        "from sklearn.ensemble import RandomForestClassifier\n",
        "from sklearn.preprocessing import LabelEncoder\n",
        "from sklearn.metrics import accuracy_score, classification_report, confusion_matrix\n",
        "import matplotlib.pyplot as plt\n",
        "import seaborn as sns\n",
        "from google.colab import drive\n",
        "\n",
        "# Mount Google Drive\n",
        "drive.mount('/content/drive')\n",
        "\n",
        "# Load the preprocessed data\n",
        "df = pd.read_excel('/content/drive/MyDrive/Colab Notebooks/DSGP_COURSEWORK/SL Apparel Dataset model/preprocessed_data.xlsx')\n",
        "\n",
        "# Create a target variable (e.g., took leave in the next month)\n",
        "df['TookLeaveNextMonth'] = df['Absent/Present'].eq('Absent').shift(-1)\n",
        "\n",
        "# Features and target variable\n",
        "features = ['Encoded Reason', 'Encoded Status', 'Encoded Absenteeism Type', 'Encoded Shift']\n",
        "X = df[features]\n",
        "y = df['TookLeaveNextMonth']\n",
        "\n",
        "# Handle missing values in the target variable\n",
        "y = y.fillna(0)  # Fill missing values with 0 or choose an appropriate strategy\n",
        "print(y)\n",
        "# Ensure binary classes in the target variable\n",
        "y = y.astype(int)\n",
        "\n",
        "# Split the dataset\n",
        "X_train, X_test, y_train, y_test = train_test_split(X, y, test_size=0.2, random_state=42)\n",
        "\n",
        "# Initialize the model\n",
        "model = RandomForestClassifier(random_state=42)\n",
        "\n",
        "# Train the model\n",
        "model.fit(X_train, y_train)\n",
        "\n",
        "# Make predictions on the test set\n",
        "y_pred = model.predict(X_test)\n",
        "y_prob = model.predict_proba(X_test)[:, 1]\n",
        "\n",
        "# Define probability threshold\n",
        "threshold = 0.8\n",
        "\n",
        "# Filter employees with probability above the threshold\n",
        "highly_likely_employees = df.loc[X_test.index, ['Code', 'Encoded Absent/Present', 'Leave Type', 'Reason']]\n",
        "highly_likely_employees['Probability'] = y_prob\n",
        "\n",
        "# Display the result\n",
        "result = highly_likely_employees[highly_likely_employees['Probability'] > threshold]\n",
        "\n",
        "# Display accuracy\n",
        "accuracy = accuracy_score(y_test, y_pred)\n",
        "print(f\"Accuracy: {accuracy:.2f}\")\n",
        "\n",
        "# Display confusion matrix and classification report\n",
        "print(\"Confusion Matrix:\")\n",
        "print(confusion_matrix(y_test, y_pred))\n",
        "\n",
        "print(\"Classification Report:\")\n",
        "print(classification_report(y_test, y_pred))\n",
        "\n",
        "# Display highly likely employees\n",
        "print(\"\\nHighly Likely Employees:\")\n",
        "print(result[['Code', 'Probability']])\n"
      ],
      "metadata": {
        "colab": {
          "base_uri": "https://localhost:8080/"
        },
        "id": "bgf1Gg2nxoHM",
        "outputId": "5ccedf15-f57e-430b-f4d3-400a79924c7d"
      },
      "execution_count": 5,
      "outputs": [
        {
          "output_type": "stream",
          "name": "stdout",
          "text": [
            "Drive already mounted at /content/drive; to attempt to forcibly remount, call drive.mount(\"/content/drive\", force_remount=True).\n",
            "0        False\n",
            "1        False\n",
            "2        False\n",
            "3        False\n",
            "4        False\n",
            "         ...  \n",
            "90069     True\n",
            "90070     True\n",
            "90071     True\n",
            "90072     True\n",
            "90073        0\n",
            "Name: TookLeaveNextMonth, Length: 90074, dtype: object\n",
            "Accuracy: 0.91\n",
            "Confusion Matrix:\n",
            "[[    8  1606]\n",
            " [   10 16391]]\n",
            "Classification Report:\n",
            "              precision    recall  f1-score   support\n",
            "\n",
            "           0       0.44      0.00      0.01      1614\n",
            "           1       0.91      1.00      0.95     16401\n",
            "\n",
            "    accuracy                           0.91     18015\n",
            "   macro avg       0.68      0.50      0.48     18015\n",
            "weighted avg       0.87      0.91      0.87     18015\n",
            "\n",
            "\n",
            "Highly Likely Employees:\n",
            "         Code  Probability\n",
            "51273  AA1020     0.995360\n",
            "75297  AA2889     0.981685\n",
            "49296   AA745     0.989119\n",
            "40999   AA933     0.993470\n",
            "70357  AA1214     0.968826\n",
            "...       ...          ...\n",
            "32027  AA2810     0.995579\n",
            "87640  AA2925     0.987327\n",
            "57120   AA603     0.974451\n",
            "32529  AA3645     0.995579\n",
            "72360  AA1138     1.000000\n",
            "\n",
            "[14668 rows x 2 columns]\n",
            "73340\n"
          ]
        }
      ]
    },
    {
      "cell_type": "markdown",
      "source": [
        "##Separating the datset into induvidual dataframes for each month"
      ],
      "metadata": {
        "id": "kN1hH4gv5_nG"
      }
    },
    {
      "cell_type": "code",
      "source": [
        "import pandas as pd\n",
        "\n",
        "# Load the preprocessed data\n",
        "df = pd.read_excel('/content/drive/MyDrive/Colab Notebooks/DSGP_COURSEWORK/SL Apparel Dataset model/preprocessed_data.xlsx')\n",
        "\n",
        "# Convert 'Date' column to datetime format\n",
        "df['Date'] = pd.to_datetime(df['Date'])\n",
        "\n",
        "# Separate the dataset into monthly sets\n",
        "unique_months = pd.to_datetime(df['Date']).dt.to_period(\"M\").unique()\n",
        "monthly_datasets = {month: df[df['Date'].dt.to_period(\"M\") == month] for month in unique_months}\n",
        "\n",
        "# Define a function to get the encoded columns for a given month\n",
        "def get_encoded_data(month_data):\n",
        "    encoded_columns = ['Encoded Reason', 'Encoded Status', 'Encoded Absenteeism Type', 'Encoded Shift']\n",
        "    return month_data[encoded_columns]\n",
        "\n",
        "# Example: Access the DataFrame for December 2022 with only encoded columns\n",
        "dec_2022_data = get_encoded_data(monthly_datasets[pd.Period('2022-12')])\n",
        "\n",
        "# Repeat the above for every month\n",
        "jan_2022_data = get_encoded_data(monthly_datasets[pd.Period('2022-01')])\n",
        "feb_2022_data = get_encoded_data(monthly_datasets[pd.Period('2022-02')])\n",
        "mar_2022_data = get_encoded_data(monthly_datasets[pd.Period('2022-03')])\n",
        "apr_2022_data = get_encoded_data(monthly_datasets[pd.Period('2022-04')])\n",
        "may_2022_data = get_encoded_data(monthly_datasets[pd.Period('2022-05')])\n",
        "jun_2022_data = get_encoded_data(monthly_datasets[pd.Period('2022-06')])\n",
        "jul_2022_data = get_encoded_data(monthly_datasets[pd.Period('2022-07')])\n",
        "aug_2022_data = get_encoded_data(monthly_datasets[pd.Period('2022-08')])\n",
        "sep_2022_data = get_encoded_data(monthly_datasets[pd.Period('2022-09')])\n",
        "oct_2022_data = get_encoded_data(monthly_datasets[pd.Period('2022-10')])\n",
        "nov_2022_data = get_encoded_data(monthly_datasets[pd.Period('2022-11')])\n",
        "dec_2022_data = get_encoded_data(monthly_datasets[pd.Period('2022-12')])\n",
        "jan_2023_data = get_encoded_data(monthly_datasets[pd.Period('2023-01')])\n",
        "feb_2023_data = get_encoded_data(monthly_datasets[pd.Period('2023-02')])\n",
        "mar_2023_data = get_encoded_data(monthly_datasets[pd.Period('2023-03')])\n",
        "apr_2023_data = get_encoded_data(monthly_datasets[pd.Period('2023-04')])\n",
        "may_2023_data = get_encoded_data(monthly_datasets[pd.Period('2023-05')])\n",
        "jun_2023_data = get_encoded_data(monthly_datasets[pd.Period('2023-06')])\n",
        "jul_2023_data = get_encoded_data(monthly_datasets[pd.Period('2023-07')])\n",
        "aug_2023_data = get_encoded_data(monthly_datasets[pd.Period('2023-08')])\n",
        "sep_2023_data = get_encoded_data(monthly_datasets[pd.Period('2023-09')])\n",
        "oct_2023_data = get_encoded_data(monthly_datasets[pd.Period('2023-10')])\n",
        "nov_2023_data = get_encoded_data(monthly_datasets[pd.Period('2023-11')])\n",
        "dec_2023_data = get_encoded_data(monthly_datasets[pd.Period('2023-12')])\n",
        "\n",
        "print(dec_2022_data)\n"
      ],
      "metadata": {
        "colab": {
          "base_uri": "https://localhost:8080/"
        },
        "id": "coMxkMu55JKi",
        "outputId": "83f3b0b2-c35c-4055-829f-7de3e67318dd"
      },
      "execution_count": 14,
      "outputs": [
        {
          "output_type": "stream",
          "name": "stdout",
          "text": [
            "       Encoded Reason  Encoded Status  Encoded Absenteeism Type  Encoded Shift\n",
            "60064              11               1                         0              0\n",
            "60065              11               1                         0              0\n",
            "60066              15               1                         0              0\n",
            "60067              11               1                         0              1\n",
            "60068              11               1                         0              1\n",
            "...               ...             ...                       ...            ...\n",
            "63960               9               1                         0              1\n",
            "63961              14               0                         1              1\n",
            "63962              11               1                         0              0\n",
            "63963              14               0                         1              1\n",
            "63964               9               1                         0              1\n",
            "\n",
            "[3901 rows x 4 columns]\n"
          ]
        }
      ]
    }
  ]
}