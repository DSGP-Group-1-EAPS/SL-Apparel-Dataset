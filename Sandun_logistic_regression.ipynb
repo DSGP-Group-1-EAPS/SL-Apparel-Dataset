{
  "cells": [
    {
      "cell_type": "markdown",
      "metadata": {
        "id": "view-in-github",
        "colab_type": "text"
      },
      "source": [
        "<a href=\"https://colab.research.google.com/github/DSGP-Group-1-EAPS/SL-Apparel-Dataset/blob/Sandun-Karunatilleke/Sandun_logistic_regression.ipynb\" target=\"_parent\"><img src=\"https://colab.research.google.com/assets/colab-badge.svg\" alt=\"Open In Colab\"/></a>"
      ]
    },
    {
      "cell_type": "markdown",
      "metadata": {
        "id": "05aLO7Ude9jp"
      },
      "source": [
        "##Logistic Regression"
      ]
    },
    {
      "cell_type": "code",
      "execution_count": null,
      "metadata": {
        "colab": {
          "base_uri": "https://localhost:8080/"
        },
        "id": "_U9yoQsxe9BK",
        "outputId": "7341b36c-a2c0-4261-af40-77a889037cfb"
      },
      "outputs": [
        {
          "output_type": "stream",
          "name": "stdout",
          "text": [
            "Drive already mounted at /content/drive; to attempt to forcibly remount, call drive.mount(\"/content/drive\", force_remount=True).\n",
            "Sample of the dataset:\n",
            "        Date    Shift   Code Absenteeism Type    Status  Leave Type  \\\n",
            "0 2021-12-01  Shift A  AA369         Informed  Notified           1   \n",
            "1 2021-12-01  Shift A  AA362         Informed  Notified           1   \n",
            "2 2021-12-01  Shift A  AA359         Informed  Notified           1   \n",
            "3 2021-12-01  Shift A  AA541         Informed  Notified           1   \n",
            "4 2021-12-01  Shift A  AA398         Informed  Notified           1   \n",
            "\n",
            "  Absent/Present     Reason Joined Date  YearsWorked  Encoded Reason  \\\n",
            "0            MAT  Maternity  2015-09-11            6              11   \n",
            "1            MAT  Maternity  2018-11-14            3              11   \n",
            "2            MAT  Maternity  2019-10-09            2              11   \n",
            "3            MAT  Maternity  2020-10-02            1              11   \n",
            "4            MAT  Maternity  2008-02-29           13              11   \n",
            "\n",
            "   Encoded Absent/Present  Encoded Status  Encoded Absenteeism Type  \\\n",
            "0                       1               1                         0   \n",
            "1                       1               1                         0   \n",
            "2                       1               1                         0   \n",
            "3                       1               1                         0   \n",
            "4                       1               1                         0   \n",
            "\n",
            "   Encoded Shift  TookLeaveNextMonth  \n",
            "0              0                   0  \n",
            "1              0                   0  \n",
            "2              0                   0  \n",
            "3              0                   0  \n",
            "4              0                   0  \n",
            "\n",
            "Model Evaluation:\n",
            "Accuracy: 0.9865\n"
          ]
        }
      ],
      "source": [
        "import pandas as pd\n",
        "from sklearn.model_selection import train_test_split\n",
        "from sklearn.linear_model import LogisticRegression\n",
        "from sklearn.metrics import accuracy_score, classification_report, confusion_matrix\n",
        "from sklearn.preprocessing import StandardScaler\n",
        "from google.colab import drive\n",
        "\n",
        "# Mounting the Google Drive\n",
        "drive.mount('/content/drive')\n",
        "\n",
        "# Reading the data from the excel file and removing blank spaces in each cell\n",
        "data = pd.read_excel('/content/drive/MyDrive/Colab Notebooks/DSGP_COURSEWORK/SL Apparel Dataset model/Ranidu_preprocessed_dataset.xlsx')\n",
        "#https://docs.google.com/spreadsheets/d/1-0cJu4Wt_S_8UaaTJ_w7go1nE9kONRG5/edit?usp=drive_link&ouid=105208527154871137997&rtpof=true&sd=true\n",
        "#https://drive.google.com/drive/folders/1xz11vVUTE22tZMv4wlXLBjeaPeUQV_ri?usp=drive_link\n",
        "# Display the first few rows of the dataset\n",
        "print(\"Sample of the dataset:\")\n",
        "print(data.head())\n",
        "\n",
        "# Extract features and target variable\n",
        "X = data.drop('TookLeaveNextMonth', axis=1)\n",
        "y = data['TookLeaveNextMonth']\n",
        "\n",
        "# Train-test split\n",
        "X_train, X_test, y_train, y_test = train_test_split(X, y, test_size=0.2, random_state=42)\n",
        "\n",
        "# Drop non-numeric columns before scaling\n",
        "X_train_numeric = X_train.select_dtypes(include=['number'])\n",
        "X_test_numeric = X_test.select_dtypes(include=['number'])\n",
        "\n",
        "# Feature scaling (optional but can be beneficial for logistic regression)\n",
        "scaler = StandardScaler()\n",
        "X_train_scaled = scaler.fit_transform(X_train_numeric)\n",
        "X_test_scaled = scaler.transform(X_test_numeric)\n",
        "\n",
        "# Create and train the logistic regression model\n",
        "model = LogisticRegression(random_state=42)\n",
        "model.fit(X_train_scaled, y_train)\n",
        "\n",
        "# Make predictions on the test set\n",
        "y_pred = model.predict(X_test_scaled)\n",
        "\n",
        "# Evaluate the model\n",
        "accuracy = accuracy_score(y_test, y_pred)\n",
        "conf_matrix = confusion_matrix(y_test, y_pred)\n",
        "classification_rep = classification_report(y_test, y_pred)\n",
        "\n",
        "# Display results\n",
        "print(\"\\nModel Evaluation:\")\n",
        "print(f\"Accuracy: {accuracy:.4f}\")\n",
        "#print(\"\\nConfusion Matrix:\")\n",
        "#print(conf_matrix)\n",
        "#print(\"\\nClassification Report:\")\n",
        "#print(classification_rep)\n"
      ]
    },
    {
      "cell_type": "code",
      "source": [
        "import pandas as pd\n",
        "from sklearn.model_selection import train_test_split\n",
        "from sklearn.linear_model import LogisticRegression\n",
        "from sklearn.metrics import accuracy_score, confusion_matrix\n",
        "from sklearn.preprocessing import StandardScaler\n",
        "from google.colab import drive\n",
        "\n",
        "# Mounting the Google Drive\n",
        "drive.mount('/content/drive')\n",
        "\n",
        "# Reading the data from the excel file and removing blank spaces in each cell\n",
        "data = pd.read_excel('/content/drive/MyDrive/Colab Notebooks/DSGP_COURSEWORK/SL Apparel Dataset model/Ranidu_preprocessed_dataset.xlsx')\n",
        "\n",
        "# Extract features and target variable\n",
        "features = ['Encoded Reason', 'Encoded Status', 'Encoded Absenteeism Type', 'Encoded Shift', 'YearsWorked']\n",
        "X = data[features]\n",
        "y = data['TookLeaveNextMonth']\n",
        "\n",
        "# Filter data until December 2022 for training\n",
        "training_data = data[data['Date'] <= '2022-12-31']\n",
        "\n",
        "# Features and target variable for training\n",
        "X_train = training_data[features]\n",
        "y_train = training_data['TookLeaveNextMonth']\n",
        "\n",
        "# Drop non-numeric columns before scaling\n",
        "X_train_numeric = X_train.select_dtypes(include=['number'])\n",
        "X_test_numeric = X.select_dtypes(include=['number'])\n",
        "\n",
        "# Feature scaling (optional but can be beneficial for logistic regression)\n",
        "scaler = StandardScaler()\n",
        "X_train_scaled = scaler.fit_transform(X_train_numeric)\n",
        "X_test_scaled = scaler.transform(X_test_numeric)\n",
        "\n",
        "# Create and train the logistic regression model\n",
        "model = LogisticRegression(random_state=42)\n",
        "model.fit(X_train_scaled, y_train)\n",
        "\n",
        "# Make predictions for January 2023\n",
        "jan_2023_data = data[data['Date'].dt.to_period(\"M\") == '2023-01']\n",
        "X_jan_2023 = jan_2023_data[features]\n",
        "X_jan_2023_scaled = scaler.transform(X_jan_2023)\n",
        "y_prob_jan_2023 = model.predict_proba(X_jan_2023_scaled)[:, 1]\n",
        "\n",
        "# Define probability threshold (90%)\n",
        "threshold = 0.99  # Adjust as needed\n",
        "\n",
        "# Filter instances where the model is 90% sure\n",
        "highly_likely_indices_jan_2023 = y_prob_jan_2023 >= threshold\n",
        "employees_taking_leave_jan_2023 = jan_2023_data.loc[highly_likely_indices_jan_2023, 'Code']\n",
        "\n",
        "# Display the result\n",
        "num_employees_taking_leave_jan_2023 = len(employees_taking_leave_jan_2023)\n",
        "print(f\"Number of employees predicted to take leave in January 2023 with 90% probability: {num_employees_taking_leave_jan_2023}\")\n",
        "print(employees_taking_leave_jan_2023)\n",
        "\n",
        "# True labels for January 2023\n",
        "y_true_jan_2023 = jan_2023_data['TookLeaveNextMonth']\n",
        "\n",
        "# Calculate accuracy\n",
        "accuracy_jan_2023 = accuracy_score(y_true_jan_2023, highly_likely_indices_jan_2023)\n",
        "\n",
        "# Calculate confusion matrix\n",
        "conf_matrix_jan_2023 = confusion_matrix(y_true_jan_2023, highly_likely_indices_jan_2023)\n",
        "\n",
        "# Display the results\n",
        "print(f\"\\nAccuracy for predicting January 2023: {accuracy_jan_2023:.4f}\")\n",
        "print(\"\\nConfusion Matrix:\")\n",
        "print(conf_matrix_jan_2023)"
      ],
      "metadata": {
        "colab": {
          "base_uri": "https://localhost:8080/"
        },
        "id": "VnVysGYlrvCw",
        "outputId": "1fa7c27a-9874-45f9-8ef2-804fd9a993c2"
      },
      "execution_count": null,
      "outputs": [
        {
          "output_type": "stream",
          "name": "stdout",
          "text": [
            "Drive already mounted at /content/drive; to attempt to forcibly remount, call drive.mount(\"/content/drive\", force_remount=True).\n",
            "Number of employees predicted to take leave in January 2023 with 90% probability: 151\n",
            "63979    AA1073\n",
            "63985    AA3506\n",
            "63987    AA1744\n",
            "64006    AA2669\n",
            "64087    AA1073\n",
            "          ...  \n",
            "67646     AA516\n",
            "67653    AA3137\n",
            "67697    AA2661\n",
            "67711    AA2418\n",
            "67724    AA1230\n",
            "Name: Code, Length: 151, dtype: object\n",
            "\n",
            "Accuracy for predicting January 2023: 0.0908\n",
            "\n",
            "Confusion Matrix:\n",
            "[[ 203   12]\n",
            " [3412  139]]\n"
          ]
        }
      ]
    }
  ],
  "metadata": {
    "colab": {
      "collapsed_sections": [
        "CObuz32sq9kh"
      ],
      "provenance": [],
      "include_colab_link": true
    },
    "kernelspec": {
      "display_name": "Python 3",
      "name": "python3"
    },
    "language_info": {
      "name": "python"
    }
  },
  "nbformat": 4,
  "nbformat_minor": 0
}