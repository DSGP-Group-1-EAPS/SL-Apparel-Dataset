{
  "nbformat": 4,
  "nbformat_minor": 0,
  "metadata": {
    "colab": {
      "provenance": [],
      "authorship_tag": "ABX9TyM4mTcoatPJKaZ+jyAjz9vz",
      "include_colab_link": true
    },
    "kernelspec": {
      "name": "python3",
      "display_name": "Python 3"
    },
    "language_info": {
      "name": "python"
    }
  },
  "cells": [
    {
      "cell_type": "markdown",
      "metadata": {
        "id": "view-in-github",
        "colab_type": "text"
      },
      "source": [
        "<a href=\"https://colab.research.google.com/github/DSGP-Group-1-EAPS/SL-Apparel-Dataset/blob/Kavindu-Deshanjana/EAPS_Data_Preprocess.ipynb\" target=\"_parent\"><img src=\"https://colab.research.google.com/assets/colab-badge.svg\" alt=\"Open In Colab\"/></a>"
      ]
    },
    {
      "cell_type": "code",
      "execution_count": 1,
      "metadata": {
        "colab": {
          "base_uri": "https://localhost:8080/"
        },
        "id": "8m66y1zpQ4S0",
        "outputId": "a861c823-543a-474e-bb48-9bd79c479f59"
      },
      "outputs": [
        {
          "output_type": "stream",
          "name": "stdout",
          "text": [
            "Mounted at /content/drive\n",
            "Done\n"
          ]
        }
      ],
      "source": [
        "import pandas as pd\n",
        "from sklearn.model_selection import train_test_split\n",
        "from sklearn.preprocessing import StandardScaler, LabelEncoder\n",
        "from google.colab import drive\n",
        "\n",
        "# Mounting the Google Drive\n",
        "drive.mount('/content/drive')\n",
        "\n",
        "# Reading the data from the excel file and removing blank spaces in each cell\n",
        "df = pd.read_excel('/content/drive/MyDrive/DSGP_COURSEWORK/SL Apparel Dataset model/SL Apparel Industry Dataset.xlsx').apply(lambda x: x.str.strip() if x.dtype == \"object\" else x)\n",
        "\n",
        "# Making the 'Absenteeism Type' considered as String\n",
        "df['Absenteeism Type'] = df['Absenteeism Type'].astype(str)\n",
        "\n",
        "# Removing rows with 'Resignation', 'VOP', 'Funeral' from the 'Reason' colunm\n",
        "reasons_to_remove = ['Resignation', 'VOP', 'Funeral']\n",
        "df = df[~df['Reason'].isin(reasons_to_remove)]\n",
        "\n",
        "# Removing rows where 'Leave Type' is 0.5\n",
        "df = df[df['Leave Type'] != 0.5]\n",
        "\n",
        "# Removing all the rows except for 'Shift A' and 'Shift B' in the 'Shift' colunm\n",
        "df = df[df['Shift'] != 'A']\n",
        "df = df[df['Shift'] != 'Shift']\n",
        "df = df[df['Shift'] != 'Other Teams']\n",
        "df = df[df['Shift'] != 'Shift e']\n",
        "\n",
        "# Removing 'Department' and 'Reason Mapping' columns\n",
        "df = df.drop(['Department', 'Reason Mapping'], axis=1)\n",
        "\n",
        "# Removing rows where 'Absent/Present' is 'Present'\n",
        "df = df[df['Absent/Present'] != 'Present']\n",
        "\n",
        "# Removing rows where 'Absenteeism Type' is 1\n",
        "df = df[df['Absenteeism Type'] != '1']\n",
        "\n",
        "# Removing the rows if it has a blank cell in it\n",
        "df = df.dropna()\n",
        "\n",
        "# Using LabelEncoder to encode the values in columns\n",
        "label_encoder = LabelEncoder()\n",
        "df['Encoded Reason'] = label_encoder.fit_transform(df['Reason'])\n",
        "df['Encoded Absent/Present'] = label_encoder.fit_transform(df['Absent/Present'])\n",
        "df['Encoded Status'] = label_encoder.fit_transform(df['Status'])\n",
        "df['Encoded Absenteeism Type'] = label_encoder.fit_transform(df['Absenteeism Type'])\n",
        "df['Encoded Shift'] = label_encoder.fit_transform(df['Shift'])\n",
        "\n",
        "# Creating a mapping dictionary with the original values for clear understanding\n",
        "reason_mapping = {\n",
        "    'Reason': dict(zip(df['Encoded Reason'], df['Reason'])),\n",
        "    'Absent_Present': dict(zip(df['Encoded Absent/Present'], df['Absent/Present'])),\n",
        "    'Status': dict(zip(df['Encoded Status'], df['Status'])),\n",
        "    'Absenteeism_Type': dict(zip(df['Encoded Absenteeism Type'], df['Absenteeism Type'])),\n",
        "    'Shift': dict(zip(df['Encoded Shift'], df['Shift']))\n",
        "}\n",
        "\n",
        "# Saving the mapping dictionary to a text file\n",
        "with open('/content/drive/MyDrive/DSGP_COURSEWORK/SL Apparel Dataset model/reason_mapping.txt', 'w') as f:\n",
        "    for category, mappings in reason_mapping.items():\n",
        "        f.write(f\"{category}:\\n\")\n",
        "        for encoded_value, original_value in mappings.items():\n",
        "            f.write(f\"  {encoded_value}: {original_value}\\n\")\n",
        "\n",
        "# Save the new preprocessed data to a text file in google drive\n",
        "df.to_excel('/content/drive/MyDrive/DSGP_COURSEWORK/SL Apparel Dataset model/preprocessed_data.xlsx', index=False)\n",
        "print(\"Done\")\n"
      ]
    }
  ]
}