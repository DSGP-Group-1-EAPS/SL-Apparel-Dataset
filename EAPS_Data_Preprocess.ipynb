import pandas as pd
from sklearn.model_selection import train_test_split
from sklearn.preprocessing import StandardScaler, LabelEncoder

# Step 1: Read the Data
df = pd.read_excel('your_dataset.xlsx')

# Step 2: Filter Rows Based on Reasons
reasons_to_remove = ['Resignation', 'VOP', 'Funeral']
df = df[~df['Reason'].isin(reasons_to_remove)]

# Step 3: Remove Rows with Leave Type 0.5
df = df[df['Leave Type'] != 0.5]

# Step 4: Remove Department and Reason Mapping Columns
df = df.drop(['Department', 'Reason Mapping'], axis=1)

# Step 5: Remove Rows with 'Present' in Absent/Present Column
df = df[df['Absent/Present'] != 'Present']

# Step 6: Handle Date Column
df['Year'] = df['Date'].dt.year
df['Month'] = df['Date'].dt.month
df['Day'] = df['Date'].dt.day

# Step 7: One-hot Encode or Label Encode Remaining Categorical Variables
df = pd.get_dummies(df, columns=['Shift'], drop_first=True)
label_encoder = LabelEncoder()
df['Absenteeism Type'] = label_encoder.fit_transform(df['Absenteeism Type'])
df['Status'] = label_encoder.fit_transform(df['Status'])

# Step 8: Handle Numerical Variables (Scaling)
scaler = StandardScaler()
numerical_columns = ['Leave Type', 'Year', 'Month', 'Day']
df[numerical_columns] = scaler.fit_transform(df[numerical_columns])

# Step 9: Impute Missing Values (if needed)
# Example: df['column_name'].fillna(df['column_name'].mean(), inplace=True)

# Step 10: Feature Engineering (if needed)
# Example: Create new features based on existing columns

# Step 11: Split Data into Training and Testing Sets
X = df.drop('Target_column_name', axis=1)  # Replace 'Target_column_name' with your target variable
y = df['Target_column_name']
X_train, X_test, y_train, y_test = train_test_split(X, y, test_size=0.2, random_state=42)

# Step 12: Save the Processed Data to a New Excel File
X_train.to_excel('X_train.xlsx', index=False)
X_test.to_excel('X_test.xlsx', index=False)
y_train.to_excel('y_train.xlsx', index=False)
y_test.to_excel('y_test.xlsx', index=False)
