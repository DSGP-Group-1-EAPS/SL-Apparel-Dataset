{
  "nbformat": 4,
  "nbformat_minor": 0,
  "metadata": {
    "colab": {
      "provenance": [],
      "authorship_tag": "ABX9TyMlQESjIaKqS78nKs/EMEqL",
      "include_colab_link": true
    },
    "kernelspec": {
      "name": "python3",
      "display_name": "Python 3"
    },
    "language_info": {
      "name": "python"
    }
  },
  "cells": [
    {
      "cell_type": "markdown",
      "metadata": {
        "id": "view-in-github",
        "colab_type": "text"
      },
      "source": [
        "<a href=\"https://colab.research.google.com/github/DSGP-Group-1-EAPS/SL-Apparel-Dataset/blob/Kavindu-Deshanjana/EAPS_Data_Preprocess.ipynb\" target=\"_parent\"><img src=\"https://colab.research.google.com/assets/colab-badge.svg\" alt=\"Open In Colab\"/></a>"
      ]
    },
    {
      "cell_type": "code",
      "execution_count": 2,
      "metadata": {
        "colab": {
          "base_uri": "https://localhost:8080/"
        },
        "id": "8m66y1zpQ4S0",
        "outputId": "7268cabe-e583-4c27-dcfb-e6fd546081d9"
      },
      "outputs": [
        {
          "output_type": "stream",
          "name": "stdout",
          "text": [
            "Drive already mounted at /content/drive; to attempt to forcibly remount, call drive.mount(\"/content/drive\", force_remount=True).\n",
            "Date                datetime64[ns]\n",
            "Shift                       object\n",
            "Code                        object\n",
            "Absenteeism Type            object\n",
            "Status                      object\n",
            "Leave Type                 float64\n",
            "Absent/Present              object\n",
            "Reason                      object\n",
            "dtype: object\n",
            "Column names: Index(['Date', 'Shift', 'Code', 'Absenteeism Type', 'Status', 'Leave Type',\n",
            "       'Absent/Present', 'Reason', 'Encoded_Reason', 'Encoded_Absent_Present',\n",
            "       'Encoded_Status', 'Encoded_Absenteeism_Type', 'Encoded_Shift'],\n",
            "      dtype='object')\n",
            "Done\n"
          ]
        }
      ],
      "source": [
        "import pandas as pd\n",
        "from sklearn.model_selection import train_test_split\n",
        "from sklearn.preprocessing import StandardScaler, LabelEncoder\n",
        "from google.colab import drive\n",
        "\n",
        "# Mount Google Drive\n",
        "drive.mount('/content/drive')\n",
        "\n",
        "# Step 1: Read the Data\n",
        "df = pd.read_excel('/content/drive/MyDrive/DSGP_COURSEWORK/SL Apparel Dataset model/SL Apparel Industry Dataset.xlsx')\n",
        "\n",
        "df['Absenteeism Type'] = df['Absenteeism Type'].astype(str)\n",
        "\n",
        "# Step 2: Filter Rows Based on Reasons\n",
        "reasons_to_remove = ['Resignation', 'VOP', 'Funeral ', 'Funeral']\n",
        "df = df[~df['Reason'].isin(reasons_to_remove)]\n",
        "\n",
        "# Step 3: Remove Rows with Leave Type 0.5\n",
        "df = df[df['Leave Type'] != 0.5]\n",
        "\n",
        "# Step 4: Remove Department and Reason Mapping Columns\n",
        "df = df.drop(['Department', 'Reason Mapping'], axis=1)\n",
        "\n",
        "# Step 5: Remove Rows with 'Present' in Absent/Present Column\n",
        "df = df[df['Absent/Present'] != 'Present']\n",
        "df = df[df['Absent/Present'] != '']\n",
        "\n",
        "# Step 5: Remove Rows with '1' and blanks in Absenteeism Type Column\n",
        "df = df[df['Absenteeism Type'] != '1']\n",
        "df = df[df['Absenteeism Type'] != '']\n",
        "\n",
        "# Step 6: Label Encode 'Reason Mapping' Column\n",
        "print(df.dtypes)\n",
        "\n",
        "label_encoder = LabelEncoder()\n",
        "df['Encoded_Reason'] = label_encoder.fit_transform(df['Reason'])\n",
        "df['Encoded_Absent_Present'] = label_encoder.fit_transform(df['Absent/Present'])\n",
        "df['Encoded_Status'] = label_encoder.fit_transform(df['Status'])\n",
        "df['Encoded_Absenteeism_Type'] = label_encoder.fit_transform(df['Absenteeism Type'])\n",
        "df['Encoded_Shift'] = label_encoder.fit_transform(df['Shift'])\n",
        "print(\"Column names:\", df.columns)\n",
        "\n",
        "# Step 7: Create a Mapping Dictionary for Encoded Values and Original Reasons\n",
        "reason_mapping = {\n",
        "    'Reason': dict(zip(df['Encoded_Reason'], df['Reason'])),\n",
        "    'Absent_Present': dict(zip(df['Encoded_Absent_Present'], df['Absent/Present'])),\n",
        "    'Status': dict(zip(df['Encoded_Status'], df['Status'])),\n",
        "    'Absenteeism_Type': dict(zip(df['Encoded_Absenteeism_Type'], df['Absenteeism Type'])),\n",
        "    'Shift': dict(zip(df['Encoded_Shift'], df['Shift']))\n",
        "}\n",
        "\n",
        "# Step 8: Save the Mapping Dictionary to a Text File\n",
        "with open('/content/drive/MyDrive/DSGP_COURSEWORK/SL Apparel Dataset model/reason_mapping.txt', 'w') as f:\n",
        "    for category, mappings in reason_mapping.items():\n",
        "        f.write(f\"{category}:\\n\")\n",
        "        for encoded_value, original_value in mappings.items():\n",
        "            f.write(f\"  {encoded_value}: {original_value}\\n\")\n",
        "\n",
        "# Step 9: Save the Processed Data to a New Excel File\n",
        "df.to_excel('/content/drive/MyDrive/DSGP_COURSEWORK/SL Apparel Dataset model/preprocessed_data.xlsx', index=False)\n",
        "print(\"Done\")\n"
      ]
    }
  ]
}