{
  "cells": [
    {
      "cell_type": "markdown",
      "metadata": {
        "id": "view-in-github",
        "colab_type": "text"
      },
      "source": [
        "<a href=\"https://colab.research.google.com/github/DSGP-Group-1-EAPS/SL-Apparel-Dataset/blob/Ranidu-Gurusinghe/Time_Series_Forecasting_Model.ipynb\" target=\"_parent\"><img src=\"https://colab.research.google.com/assets/colab-badge.svg\" alt=\"Open In Colab\"/></a>"
      ]
    },
    {
      "cell_type": "code",
      "execution_count": null,
      "metadata": {
        "colab": {
          "base_uri": "https://localhost:8080/"
        },
        "id": "Nu9-ukPmXnUY",
        "outputId": "09360780-23b8-4d6c-ef42-fbc0491e127a"
      },
      "outputs": [
        {
          "name": "stdout",
          "output_type": "stream",
          "text": [
            "Requirement already satisfied: pandas in /usr/local/lib/python3.10/dist-packages (1.5.3)\n",
            "Collecting fbprophet\n",
            "  Downloading fbprophet-0.7.1.tar.gz (64 kB)\n",
            "\u001b[2K     \u001b[90m━━━━━━━━━━━━━━━━━━━━━━━━━━━━━━━━━━━━━━━━\u001b[0m \u001b[32m64.0/64.0 kB\u001b[0m \u001b[31m1.9 MB/s\u001b[0m eta \u001b[36m0:00:00\u001b[0m\n",
            "\u001b[?25h  Preparing metadata (setup.py) ... \u001b[?25l\u001b[?25hdone\n",
            "Requirement already satisfied: python-dateutil>=2.8.1 in /usr/local/lib/python3.10/dist-packages (from pandas) (2.8.2)\n",
            "Requirement already satisfied: pytz>=2020.1 in /usr/local/lib/python3.10/dist-packages (from pandas) (2023.3.post1)\n",
            "Requirement already satisfied: numpy>=1.21.0 in /usr/local/lib/python3.10/dist-packages (from pandas) (1.23.5)\n",
            "Requirement already satisfied: Cython>=0.22 in /usr/local/lib/python3.10/dist-packages (from fbprophet) (3.0.8)\n",
            "Collecting cmdstanpy==0.9.5 (from fbprophet)\n",
            "  Downloading cmdstanpy-0.9.5-py3-none-any.whl (37 kB)\n",
            "Collecting pystan>=2.14 (from fbprophet)\n",
            "  Downloading pystan-3.8.0-py3-none-any.whl (13 kB)\n",
            "Requirement already satisfied: matplotlib>=2.0.0 in /usr/local/lib/python3.10/dist-packages (from fbprophet) (3.7.1)\n",
            "Collecting LunarCalendar>=0.0.9 (from fbprophet)\n",
            "  Downloading LunarCalendar-0.0.9-py2.py3-none-any.whl (18 kB)\n",
            "Collecting convertdate>=2.1.2 (from fbprophet)\n",
            "  Downloading convertdate-2.4.0-py3-none-any.whl (47 kB)\n",
            "\u001b[2K     \u001b[90m━━━━━━━━━━━━━━━━━━━━━━━━━━━━━━━━━━━━━━━━\u001b[0m \u001b[32m47.9/47.9 kB\u001b[0m \u001b[31m4.8 MB/s\u001b[0m eta \u001b[36m0:00:00\u001b[0m\n",
            "\u001b[?25hRequirement already satisfied: holidays>=0.10.2 in /usr/local/lib/python3.10/dist-packages (from fbprophet) (0.41)\n",
            "Collecting setuptools-git>=1.2 (from fbprophet)\n",
            "  Downloading setuptools_git-1.2-py2.py3-none-any.whl (10 kB)\n",
            "Requirement already satisfied: tqdm>=4.36.1 in /usr/local/lib/python3.10/dist-packages (from fbprophet) (4.66.1)\n",
            "Collecting pymeeus<=1,>=0.3.13 (from convertdate>=2.1.2->fbprophet)\n",
            "  Downloading PyMeeus-0.5.12.tar.gz (5.8 MB)\n",
            "\u001b[2K     \u001b[90m━━━━━━━━━━━━━━━━━━━━━━━━━━━━━━━━━━━━━━━━\u001b[0m \u001b[32m5.8/5.8 MB\u001b[0m \u001b[31m20.3 MB/s\u001b[0m eta \u001b[36m0:00:00\u001b[0m\n",
            "\u001b[?25h  Preparing metadata (setup.py) ... \u001b[?25l\u001b[?25hdone\n",
            "Collecting ephem>=3.7.5.3 (from LunarCalendar>=0.0.9->fbprophet)\n",
            "  Downloading ephem-4.1.5-cp310-cp310-manylinux_2_17_x86_64.manylinux2014_x86_64.whl (1.8 MB)\n",
            "\u001b[2K     \u001b[90m━━━━━━━━━━━━━━━━━━━━━━━━━━━━━━━━━━━━━━━━\u001b[0m \u001b[32m1.8/1.8 MB\u001b[0m \u001b[31m43.4 MB/s\u001b[0m eta \u001b[36m0:00:00\u001b[0m\n",
            "\u001b[?25hRequirement already satisfied: contourpy>=1.0.1 in /usr/local/lib/python3.10/dist-packages (from matplotlib>=2.0.0->fbprophet) (1.2.0)\n",
            "Requirement already satisfied: cycler>=0.10 in /usr/local/lib/python3.10/dist-packages (from matplotlib>=2.0.0->fbprophet) (0.12.1)\n",
            "Requirement already satisfied: fonttools>=4.22.0 in /usr/local/lib/python3.10/dist-packages (from matplotlib>=2.0.0->fbprophet) (4.47.2)\n",
            "Requirement already satisfied: kiwisolver>=1.0.1 in /usr/local/lib/python3.10/dist-packages (from matplotlib>=2.0.0->fbprophet) (1.4.5)\n",
            "Requirement already satisfied: packaging>=20.0 in /usr/local/lib/python3.10/dist-packages (from matplotlib>=2.0.0->fbprophet) (23.2)\n",
            "Requirement already satisfied: pillow>=6.2.0 in /usr/local/lib/python3.10/dist-packages (from matplotlib>=2.0.0->fbprophet) (9.4.0)\n",
            "Requirement already satisfied: pyparsing>=2.3.1 in /usr/local/lib/python3.10/dist-packages (from matplotlib>=2.0.0->fbprophet) (3.1.1)\n",
            "Requirement already satisfied: aiohttp<4.0,>=3.6 in /usr/local/lib/python3.10/dist-packages (from pystan>=2.14->fbprophet) (3.9.1)\n",
            "Collecting clikit<0.7,>=0.6 (from pystan>=2.14->fbprophet)\n",
            "  Downloading clikit-0.6.2-py2.py3-none-any.whl (91 kB)\n",
            "\u001b[2K     \u001b[90m━━━━━━━━━━━━━━━━━━━━━━━━━━━━━━━━━━━━━━━━\u001b[0m \u001b[32m91.8/91.8 kB\u001b[0m \u001b[31m13.2 MB/s\u001b[0m eta \u001b[36m0:00:00\u001b[0m\n",
            "\u001b[?25hCollecting httpstan<4.12,>=4.11 (from pystan>=2.14->fbprophet)\n",
            "  Downloading httpstan-4.11.0-cp310-cp310-manylinux_2_17_x86_64.manylinux2014_x86_64.whl (43.8 MB)\n",
            "\u001b[2K     \u001b[90m━━━━━━━━━━━━━━━━━━━━━━━━━━━━━━━━━━━━━━━━\u001b[0m \u001b[32m43.8/43.8 MB\u001b[0m \u001b[31m15.0 MB/s\u001b[0m eta \u001b[36m0:00:00\u001b[0m\n",
            "\u001b[?25hCollecting pysimdjson<6.0.0,>=5.0.2 (from pystan>=2.14->fbprophet)\n",
            "  Downloading pysimdjson-5.0.2-cp310-cp310-manylinux_2_17_x86_64.manylinux2014_x86_64.whl (1.8 MB)\n",
            "\u001b[2K     \u001b[90m━━━━━━━━━━━━━━━━━━━━━━━━━━━━━━━━━━━━━━━━\u001b[0m \u001b[32m1.8/1.8 MB\u001b[0m \u001b[31m76.0 MB/s\u001b[0m eta \u001b[36m0:00:00\u001b[0m\n",
            "\u001b[?25hRequirement already satisfied: setuptools in /usr/local/lib/python3.10/dist-packages (from pystan>=2.14->fbprophet) (67.7.2)\n",
            "Requirement already satisfied: six>=1.5 in /usr/local/lib/python3.10/dist-packages (from python-dateutil>=2.8.1->pandas) (1.16.0)\n",
            "Requirement already satisfied: attrs>=17.3.0 in /usr/local/lib/python3.10/dist-packages (from aiohttp<4.0,>=3.6->pystan>=2.14->fbprophet) (23.2.0)\n",
            "Requirement already satisfied: multidict<7.0,>=4.5 in /usr/local/lib/python3.10/dist-packages (from aiohttp<4.0,>=3.6->pystan>=2.14->fbprophet) (6.0.4)\n",
            "Requirement already satisfied: yarl<2.0,>=1.0 in /usr/local/lib/python3.10/dist-packages (from aiohttp<4.0,>=3.6->pystan>=2.14->fbprophet) (1.9.4)\n",
            "Requirement already satisfied: frozenlist>=1.1.1 in /usr/local/lib/python3.10/dist-packages (from aiohttp<4.0,>=3.6->pystan>=2.14->fbprophet) (1.4.1)\n",
            "Requirement already satisfied: aiosignal>=1.1.2 in /usr/local/lib/python3.10/dist-packages (from aiohttp<4.0,>=3.6->pystan>=2.14->fbprophet) (1.3.1)\n",
            "Requirement already satisfied: async-timeout<5.0,>=4.0 in /usr/local/lib/python3.10/dist-packages (from aiohttp<4.0,>=3.6->pystan>=2.14->fbprophet) (4.0.3)\n",
            "Collecting crashtest<0.4.0,>=0.3.0 (from clikit<0.7,>=0.6->pystan>=2.14->fbprophet)\n",
            "  Downloading crashtest-0.3.1-py3-none-any.whl (7.0 kB)\n",
            "Collecting pastel<0.3.0,>=0.2.0 (from clikit<0.7,>=0.6->pystan>=2.14->fbprophet)\n",
            "  Downloading pastel-0.2.1-py2.py3-none-any.whl (6.0 kB)\n",
            "Collecting pylev<2.0,>=1.3 (from clikit<0.7,>=0.6->pystan>=2.14->fbprophet)\n",
            "  Downloading pylev-1.4.0-py2.py3-none-any.whl (6.1 kB)\n",
            "Requirement already satisfied: appdirs<2.0,>=1.4 in /usr/local/lib/python3.10/dist-packages (from httpstan<4.12,>=4.11->pystan>=2.14->fbprophet) (1.4.4)\n",
            "Collecting marshmallow<4.0,>=3.10 (from httpstan<4.12,>=4.11->pystan>=2.14->fbprophet)\n",
            "  Downloading marshmallow-3.20.2-py3-none-any.whl (49 kB)\n",
            "\u001b[2K     \u001b[90m━━━━━━━━━━━━━━━━━━━━━━━━━━━━━━━━━━━━━━━━\u001b[0m \u001b[32m49.4/49.4 kB\u001b[0m \u001b[31m6.8 MB/s\u001b[0m eta \u001b[36m0:00:00\u001b[0m\n",
            "\u001b[?25hCollecting webargs<9.0,>=8.0 (from httpstan<4.12,>=4.11->pystan>=2.14->fbprophet)\n",
            "  Downloading webargs-8.4.0-py3-none-any.whl (31 kB)\n",
            "Requirement already satisfied: idna>=2.0 in /usr/local/lib/python3.10/dist-packages (from yarl<2.0,>=1.0->aiohttp<4.0,>=3.6->pystan>=2.14->fbprophet) (3.6)\n",
            "Building wheels for collected packages: fbprophet, pymeeus\n",
            "  \u001b[1;31merror\u001b[0m: \u001b[1msubprocess-exited-with-error\u001b[0m\n",
            "  \n",
            "  \u001b[31m×\u001b[0m \u001b[32mpython setup.py bdist_wheel\u001b[0m did not run successfully.\n",
            "  \u001b[31m│\u001b[0m exit code: \u001b[1;36m1\u001b[0m\n",
            "  \u001b[31m╰─>\u001b[0m See above for output.\n",
            "  \n",
            "  \u001b[1;35mnote\u001b[0m: This error originates from a subprocess, and is likely not a problem with pip.\n",
            "  Building wheel for fbprophet (setup.py) ... \u001b[?25lerror\n",
            "\u001b[31m  ERROR: Failed building wheel for fbprophet\u001b[0m\u001b[31m\n",
            "\u001b[0m\u001b[?25h  Running setup.py clean for fbprophet\n",
            "  Building wheel for pymeeus (setup.py) ... \u001b[?25l\u001b[?25hdone\n",
            "  Created wheel for pymeeus: filename=PyMeeus-0.5.12-py3-none-any.whl size=732001 sha256=ad0cf197ce5313b9305a90c8637d0d4b86d5ca3b0c242a18c37452ef9c1ede53\n",
            "  Stored in directory: /root/.cache/pip/wheels/d6/67/78/aa2e8d108639dd23a5e9e72a4fc88bb44f5541894382712f48\n",
            "Successfully built pymeeus\n",
            "Failed to build fbprophet\n",
            "\u001b[31mERROR: Could not build wheels for fbprophet, which is required to install pyproject.toml-based projects\u001b[0m\u001b[31m\n",
            "\u001b[0m"
          ]
        }
      ],
      "source": [
        "!pip install pandas fbprophet\n"
      ]
    },
    {
      "cell_type": "code",
      "execution_count": 10,
      "metadata": {
        "colab": {
          "base_uri": "https://localhost:8080/"
        },
        "id": "4IVz9qY0-EZN",
        "outputId": "ed0a000b-939c-4043-db77-f702bc210383"
      },
      "outputs": [
        {
          "output_type": "stream",
          "name": "stdout",
          "text": [
            "Drive already mounted at /content/drive; to attempt to forcibly remount, call drive.mount(\"/content/drive\", force_remount=True).\n"
          ]
        }
      ],
      "source": [
        "from google.colab import drive\n",
        "import pandas as pd\n",
        "\n",
        "# Mounting the Google Drive\n",
        "drive.mount('/content/drive')\n",
        "\n",
        "# Load the preprocessed data\n",
        "df = pd.read_excel('/content/drive/MyDrive/Colab Notebooks/DSGP_COURSEWORK/SL Apparel Dataset model/preprocessed_data_new.xlsx', parse_dates=['Date'])"
      ]
    },
    {
      "cell_type": "code",
      "execution_count": 29,
      "metadata": {
        "colab": {
          "base_uri": "https://localhost:8080/"
        },
        "id": "A0YRSRp49-_P",
        "outputId": "476abe75-afc8-4dad-d30f-99f709c25a3e"
      },
      "outputs": [
        {
          "output_type": "stream",
          "name": "stdout",
          "text": [
            "            Date   Code  LeaveYear  LeaveMonth  NumLeaves\n",
            "88742 2023-12-22  AA634       2023          12          1\n",
            "88743 2023-12-22  AA715       2023          12          1\n",
            "88744 2023-12-22  AA723       2023          12          1\n",
            "88745 2023-12-22  AA761       2023          12          1\n",
            "88746 2023-12-22  AA793       2023          12          1\n"
          ]
        }
      ],
      "source": [
        "# Group by 'Year', 'Month', then count the number of entries (leaves) for each group\n",
        "monthly_leave_count = df.groupby(['Date', 'Code', 'LeaveYear', 'LeaveMonth']).size().reset_index(name='NumLeaves')\n",
        "\n",
        "# Display the aggregated data\n",
        "print(monthly_leave_count.tail())\n"
      ]
    },
    {
      "cell_type": "code",
      "source": [
        "\n",
        "# Function to calculate total leaves for the previous 2 months and average leaves\n",
        "def calculate_previous_months_and_average(group):\n",
        "    group['TotalLeavesPreviousMonth'] = group['NumLeaves'].shift(1)\n",
        "    group['TotalLeavesPrevious2Months'] = group['NumLeaves'].shift(1) + group['NumLeaves'].shift(2)\n",
        "    group['AverageLeaves'] = group['NumLeaves'].expanding().mean().shift(1)\n",
        "    return group\n",
        "\n",
        "# Apply the function within each group\n",
        "monthly_leave_count = monthly_leave_count.groupby('Code').apply(calculate_previous_months_and_average)\n",
        "\n",
        "# Fill NaN values with 0 for the first months\n",
        "monthly_leave_count.fillna(0, inplace=True)\n",
        "\n",
        "# Display the DataFrame with the new features\n",
        "print(monthly_leave_count.tail())\n"
      ],
      "metadata": {
        "colab": {
          "base_uri": "https://localhost:8080/"
        },
        "id": "8SGi8sEyAsNE",
        "outputId": "512768a2-fb12-48c4-ed80-acaf043e95aa"
      },
      "execution_count": 31,
      "outputs": [
        {
          "output_type": "stream",
          "name": "stderr",
          "text": [
            "<ipython-input-31-858fa1628030>:9: FutureWarning: Not prepending group keys to the result index of transform-like apply. In the future, the group keys will be included in the index, regardless of whether the applied function returns a like-indexed object.\n",
            "To preserve the previous behavior, use\n",
            "\n",
            "\t>>> .groupby(..., group_keys=False)\n",
            "\n",
            "To adopt the future behavior and silence this warning, use \n",
            "\n",
            "\t>>> .groupby(..., group_keys=True)\n",
            "  monthly_leave_count = monthly_leave_count.groupby('Code').apply(calculate_previous_months_and_average)\n"
          ]
        },
        {
          "output_type": "stream",
          "name": "stdout",
          "text": [
            "            Date   Code  LeaveYear  LeaveMonth  NumLeaves  \\\n",
            "88742 2023-12-22  AA634       2023          12          1   \n",
            "88743 2023-12-22  AA715       2023          12          1   \n",
            "88744 2023-12-22  AA723       2023          12          1   \n",
            "88745 2023-12-22  AA761       2023          12          1   \n",
            "88746 2023-12-22  AA793       2023          12          1   \n",
            "\n",
            "       TotalLeavesPreviousMonth  TotalLeavesPrevious2Months  AverageLeaves  \n",
            "88742                       1.0                         2.0       1.066667  \n",
            "88743                       1.0                         2.0       1.057143  \n",
            "88744                       1.0                         2.0       1.000000  \n",
            "88745                       1.0                         2.0       1.034483  \n",
            "88746                       1.0                         3.0       1.076923  \n"
          ]
        }
      ]
    },
    {
      "cell_type": "code",
      "source": [
        "\n",
        "\n",
        "# Define the cutoff date for training (until 2022-12)\n",
        "train_cutoff_date = pd.to_datetime('2022-12-31')\n",
        "\n",
        "# Split the data into training and testing sets\n",
        "train_data = monthly_leave_count[monthly_leave_count['Date'] <= train_cutoff_date]\n",
        "test_data = monthly_leave_count[monthly_leave_count['Date'] > train_cutoff_date]\n",
        "\n",
        "# Display the shapes of the training and testing sets\n",
        "print(\"Training set shape:\\n\", train_data, \"\\n\")\n",
        "print(\"Testing set shape:\\n\", test_data.shape)\n"
      ],
      "metadata": {
        "colab": {
          "base_uri": "https://localhost:8080/"
        },
        "id": "XxgL27ytC0SE",
        "outputId": "7e2a8a44-b06a-47fb-e776-66967f75008d"
      },
      "execution_count": 32,
      "outputs": [
        {
          "output_type": "stream",
          "name": "stdout",
          "text": [
            "Training set shape:\n",
            "             Date    Code  LeaveYear  LeaveMonth  NumLeaves  \\\n",
            "0     2021-12-01  AA1118       2021          12          1   \n",
            "1     2021-12-01  AA1134       2021          12          1   \n",
            "2     2021-12-01  AA1142       2021          12          1   \n",
            "3     2021-12-01  AA1148       2021          12          1   \n",
            "4     2021-12-01  AA1194       2021          12          1   \n",
            "...          ...     ...        ...         ...        ...   \n",
            "63144 2022-12-29   AA920       2022          12          1   \n",
            "63145 2022-12-29   AA924       2022          12          1   \n",
            "63146 2022-12-29   AA943       2022          12          1   \n",
            "63147 2022-12-29   AA958       2022          12          1   \n",
            "63148 2022-12-29   AA997       2022          12          1   \n",
            "\n",
            "       TotalLeavesPreviousMonth  TotalLeavesPrevious2Months  AverageLeaves  \n",
            "0                           0.0                         0.0       0.000000  \n",
            "1                           0.0                         0.0       0.000000  \n",
            "2                           0.0                         0.0       0.000000  \n",
            "3                           0.0                         0.0       0.000000  \n",
            "4                           0.0                         0.0       0.000000  \n",
            "...                         ...                         ...            ...  \n",
            "63144                       1.0                         2.0       1.000000  \n",
            "63145                       1.0                         2.0       1.062500  \n",
            "63146                       1.0                         2.0       1.030488  \n",
            "63147                       1.0                         2.0       1.000000  \n",
            "63148                       1.0                         2.0       1.000000  \n",
            "\n",
            "[63149 rows x 8 columns] \n",
            "\n",
            "Testing set shape:\n",
            " (25598, 8)\n"
          ]
        }
      ]
    },
    {
      "cell_type": "code",
      "source": [
        "from sklearn.ensemble import RandomForestClassifier\n",
        "from sklearn.metrics import accuracy_score, confusion_matrix, classification_report\n",
        "\n",
        "# Features and target variable for training\n",
        "X_train = train_data[['LeaveYear', 'LeaveMonth', 'TotalLeavesPreviousMonth', 'TotalLeavesPrevious2Months', 'AverageLeaves']]\n",
        "y_train = train_data['NumLeaves']\n",
        "\n",
        "# Features and target variable for testing\n",
        "X_test = test_data[['LeaveYear', 'LeaveMonth', 'TotalLeavesPreviousMonth', 'TotalLeavesPrevious2Months', 'AverageLeaves']]\n",
        "y_test = test_data['NumLeaves']\n",
        "\n",
        "# Initialize the RandomForestClassifier\n",
        "model = RandomForestClassifier(random_state=42)\n",
        "\n",
        "# Train the model on the training set\n",
        "model.fit(X_train, y_train)\n",
        "\n",
        "# Make predictions on the testing set\n",
        "y_pred = model.predict(X_test)\n",
        "\n",
        "# Evaluate the model\n",
        "accuracy = accuracy_score(y_test, y_pred)\n",
        "conf_matrix = confusion_matrix(y_test, y_pred)\n",
        "class_report = classification_report(y_test, y_pred)\n",
        "\n",
        "# Display results\n",
        "print(f\"Accuracy: {accuracy * 100:.2f}%\")\n",
        "print(\"\\nConfusion Matrix:\")\n",
        "print(conf_matrix)\n",
        "print(\"\\nClassification Report:\")\n",
        "print(class_report)\n"
      ],
      "metadata": {
        "colab": {
          "base_uri": "https://localhost:8080/"
        },
        "id": "ele2FX1VFqmI",
        "outputId": "ee3bb910-049a-451c-e0ec-babad80e8d1d"
      },
      "execution_count": 33,
      "outputs": [
        {
          "output_type": "stream",
          "name": "stdout",
          "text": [
            "Accuracy: 97.96%\n",
            "\n",
            "Confusion Matrix:\n",
            "[[25055    59     0]\n",
            " [  456    22     0]\n",
            " [    6     0     0]]\n",
            "\n",
            "Classification Report:\n",
            "              precision    recall  f1-score   support\n",
            "\n",
            "           1       0.98      1.00      0.99     25114\n",
            "           2       0.27      0.05      0.08       478\n",
            "           3       0.00      0.00      0.00         6\n",
            "\n",
            "    accuracy                           0.98     25598\n",
            "   macro avg       0.42      0.35      0.36     25598\n",
            "weighted avg       0.97      0.98      0.97     25598\n",
            "\n"
          ]
        },
        {
          "output_type": "stream",
          "name": "stderr",
          "text": [
            "/usr/local/lib/python3.10/dist-packages/sklearn/metrics/_classification.py:1344: UndefinedMetricWarning: Precision and F-score are ill-defined and being set to 0.0 in labels with no predicted samples. Use `zero_division` parameter to control this behavior.\n",
            "  _warn_prf(average, modifier, msg_start, len(result))\n",
            "/usr/local/lib/python3.10/dist-packages/sklearn/metrics/_classification.py:1344: UndefinedMetricWarning: Precision and F-score are ill-defined and being set to 0.0 in labels with no predicted samples. Use `zero_division` parameter to control this behavior.\n",
            "  _warn_prf(average, modifier, msg_start, len(result))\n",
            "/usr/local/lib/python3.10/dist-packages/sklearn/metrics/_classification.py:1344: UndefinedMetricWarning: Precision and F-score are ill-defined and being set to 0.0 in labels with no predicted samples. Use `zero_division` parameter to control this behavior.\n",
            "  _warn_prf(average, modifier, msg_start, len(result))\n"
          ]
        }
      ]
    },
    {
      "cell_type": "code",
      "execution_count": 45,
      "metadata": {
        "colab": {
          "base_uri": "https://localhost:8080/",
          "height": 687
        },
        "id": "rHq3xC9n535I",
        "outputId": "de34894e-2997-4b43-dfff-c4471f0572ce"
      },
      "outputs": [
        {
          "output_type": "stream",
          "name": "stderr",
          "text": [
            "/usr/local/lib/python3.10/dist-packages/statsmodels/tsa/base/tsa_model.py:473: ValueWarning: A date index has been provided, but it has no associated frequency information and so will be ignored when e.g. forecasting.\n",
            "  self._init_dates(dates, freq)\n",
            "/usr/local/lib/python3.10/dist-packages/statsmodels/tsa/base/tsa_model.py:473: ValueWarning: A date index has been provided, but it has no associated frequency information and so will be ignored when e.g. forecasting.\n",
            "  self._init_dates(dates, freq)\n",
            "/usr/local/lib/python3.10/dist-packages/statsmodels/tsa/statespace/sarimax.py:866: UserWarning: Too few observations to estimate starting parameters for ARMA and trend. All parameters except for variances will be set to zeros.\n",
            "  warn('Too few observations to estimate starting parameters%s.'\n",
            "/usr/local/lib/python3.10/dist-packages/statsmodels/tsa/statespace/sarimax.py:866: UserWarning: Too few observations to estimate starting parameters for seasonal ARMA. All parameters except for variances will be set to zeros.\n",
            "  warn('Too few observations to estimate starting parameters%s.'\n",
            "/usr/local/lib/python3.10/dist-packages/statsmodels/tsa/base/tsa_model.py:836: ValueWarning: No supported index is available. Prediction results will be given with an integer index beginning at `start`.\n",
            "  return get_prediction_index(\n",
            "/usr/local/lib/python3.10/dist-packages/statsmodels/tsa/base/tsa_model.py:836: FutureWarning: No supported index is available. In the next version, calling this method in a model without a supported index will result in an exception.\n",
            "  return get_prediction_index(\n"
          ]
        },
        {
          "output_type": "stream",
          "name": "stdout",
          "text": [
            "Root Mean Squared Error (RMSE): 1.0801236811897013\n"
          ]
        },
        {
          "output_type": "display_data",
          "data": {
            "text/plain": [
              "<Figure size 640x480 with 1 Axes>"
            ],
            "image/png": "[encoded data removed]"
          },
          "metadata": {}
        }
      ],
      "source": [
        "import pandas as pd\n",
        "import numpy as np\n",
        "import matplotlib.pyplot as plt\n",
        "from statsmodels.tsa.statespace.sarimax import SARIMAX\n",
        "from sklearn.metrics import mean_squared_error\n",
        "from math import sqrt\n",
        "\n",
        "# Assuming 'Code' is the column containing employee codes\n",
        "# Create new columns 'Year' and 'Month' to store the year and month of each entry\n",
        "df['Year'] = df['Date'].dt.year\n",
        "df['Month'] = df['Date'].dt.month\n",
        "\n",
        "# Group by 'Code', 'Year', 'Month', then count the number of entries (leaves) for each group\n",
        "monthly_leave_count = df.groupby(['Code', 'Year', 'Month']).size().reset_index(name='NumLeaves')\n",
        "\n",
        "# Assuming 'Code' is the employee code you're interested in\n",
        "employee_code = 'AA983'\n",
        "\n",
        "# Filter data for the specific employee\n",
        "employee_data = monthly_leave_count[monthly_leave_count['Code'] == employee_code]\n",
        "\n",
        "# Create a time series for the number of leaves\n",
        "time_series = pd.Series(employee_data['NumLeaves'].values, index=pd.to_datetime(employee_data[['Year', 'Month']].assign(day=1)))\n",
        "\n",
        "# Split the time series into training and testing sets\n",
        "train_size = int(len(time_series) * 0.8)\n",
        "train, test = time_series[0:train_size], time_series[train_size:]\n",
        "\n",
        "# Fit SARIMAX model\n",
        "order = (1, 1, 1)  # You can adjust these parameters based on model performance\n",
        "seasonal_order = (1, 1, 1, 12)\n",
        "model = SARIMAX(train, order=order, seasonal_order=seasonal_order)\n",
        "result = model.fit(disp=False)\n",
        "\n",
        "# Make predictions for the test set\n",
        "predictions = result.get_forecast(steps=len(test))\n",
        "predicted_values = predictions.predicted_mean\n",
        "\n",
        "# Evaluate the model\n",
        "rmse = sqrt(mean_squared_error(test, predicted_values))\n",
        "print(f'Root Mean Squared Error (RMSE): {rmse}')\n",
        "\n",
        "# Plot actual vs predicted values\n",
        "plt.plot(train, label='Training Data')\n",
        "plt.plot(test, label='Actual Data')\n",
        "plt.plot(predicted_values, label='Predicted Data', color='red')\n",
        "plt.legend()\n",
        "plt.show()\n"
      ]
    },
    {
      "cell_type": "code",
      "execution_count": 50,
      "metadata": {
        "id": "ZZG_PBlqBR-O",
        "colab": {
          "base_uri": "https://localhost:8080/",
          "height": 614
        },
        "outputId": "b34a6898-6850-43ed-eea5-fba5d9170084"
      },
      "outputs": [
        {
          "output_type": "stream",
          "name": "stderr",
          "text": [
            "/usr/local/lib/python3.10/dist-packages/statsmodels/tsa/base/tsa_model.py:473: ValueWarning: A date index has been provided, but it has no associated frequency information and so will be ignored when e.g. forecasting.\n",
            "  self._init_dates(dates, freq)\n",
            "/usr/local/lib/python3.10/dist-packages/statsmodels/tsa/base/tsa_model.py:473: ValueWarning: A date index has been provided, but it has no associated frequency information and so will be ignored when e.g. forecasting.\n",
            "  self._init_dates(dates, freq)\n",
            "/usr/local/lib/python3.10/dist-packages/statsmodels/tsa/base/tsa_model.py:836: ValueWarning: No supported index is available. Prediction results will be given with an integer index beginning at `start`.\n",
            "  return get_prediction_index(\n",
            "/usr/local/lib/python3.10/dist-packages/statsmodels/tsa/base/tsa_model.py:836: FutureWarning: No supported index is available. In the next version, calling this method in a model without a supported index will result in an exception.\n",
            "  return get_prediction_index(\n"
          ]
        },
        {
          "output_type": "stream",
          "name": "stdout",
          "text": [
            "Root Mean Squared Error (RMSE): 1.0\n"
          ]
        },
        {
          "output_type": "display_data",
          "data": {
            "text/plain": [
              "<Figure size 640x480 with 1 Axes>"
            ],
            "image/png": "[encoded data removed]"
          },
          "metadata": {}
        }
      ],
      "source": [
        "import pandas as pd\n",
        "import numpy as np\n",
        "import matplotlib.pyplot as plt\n",
        "from statsmodels.tsa.statespace.sarimax import SARIMAX\n",
        "from sklearn.metrics import mean_squared_error\n",
        "from math import sqrt\n",
        "\n",
        "# Assuming 'Code' is the column containing employee codes\n",
        "# Create new columns 'Year' and 'Month' to store the year and month of each entry\n",
        "df['Year'] = df['Date'].dt.year\n",
        "df['Month'] = df['Date'].dt.month\n",
        "\n",
        "# Group by 'Code', 'Year', 'Month', then count the number of entries (leaves) for each group\n",
        "monthly_leave_count = df.groupby(['Date','Code', 'Year', 'Month']).size().reset_index(name='NumLeaves')\n",
        "\n",
        "# Assuming 'Code' is the employee code you're interested in\n",
        "employee_code = 'AA983'\n",
        "\n",
        "# Filter data for the specific employee\n",
        "employee_data = monthly_leave_count[monthly_leave_count['Code'] == employee_code]\n",
        "\n",
        "# Filter data for training until 2022-12-31\n",
        "train_data = employee_data[employee_data['Date'] <= '2022-12-31']\n",
        "\n",
        "# Create a time series for the number of leaves\n",
        "time_series_train = pd.Series(train_data['NumLeaves'].values, index=pd.to_datetime(train_data[['Year', 'Month']].assign(day=1)))\n",
        "\n",
        "# Filter data for testing from 2023-01-01 onwards\n",
        "test_data = employee_data[employee_data['Date'] >= '2023-01-01']\n",
        "\n",
        "# Create a time series for the number of leaves\n",
        "time_series_test = pd.Series(test_data['NumLeaves'].values, index=pd.to_datetime(test_data[['Year', 'Month']].assign(day=1)))\n",
        "\n",
        "# Fit SARIMAX model\n",
        "order = (0, 0, 0)  # You can adjust these parameters based on model performance\n",
        "seasonal_order = (0, 0, 0, 12)\n",
        "\n",
        "model = SARIMAX(time_series_train, order=order, seasonal_order=seasonal_order)\n",
        "result = model.fit(disp=False)\n",
        "\n",
        "# Make predictions for the test set\n",
        "predictions = result.get_forecast(steps=len(time_series_test))\n",
        "predicted_values = predictions.predicted_mean\n",
        "\n",
        "# Evaluate the model\n",
        "rmse = sqrt(mean_squared_error(time_series_test, predicted_values))\n",
        "print(f'Root Mean Squared Error (RMSE): {rmse}')\n",
        "\n",
        "# Plot actual vs predicted values\n",
        "plt.plot(time_series_train, label='Training Data')\n",
        "plt.plot(time_series_test, label='Actual Data')\n",
        "plt.plot(predicted_values, label='Predicted Data', color='red')\n",
        "plt.legend()\n",
        "plt.show()\n"
      ]
    }
  ],
  "metadata": {
    "accelerator": "GPU",
    "colab": {
      "provenance": [],
      "authorship_tag": "ABX9TyNOQy52OeDSuUJMpdHAL4ZZ",
      "include_colab_link": true
    },
    "kernelspec": {
      "display_name": "Python 3",
      "name": "python3"
    },
    "language_info": {
      "name": "python"
    }
  },
  "nbformat": 4,
  "nbformat_minor": 0
}