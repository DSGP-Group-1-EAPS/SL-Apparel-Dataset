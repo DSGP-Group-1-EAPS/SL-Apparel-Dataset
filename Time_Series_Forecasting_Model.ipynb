{
  "nbformat": 4,
  "nbformat_minor": 0,
  "metadata": {
    "colab": {
      "provenance": [],
      "gpuType": "T4",
      "authorship_tag": "ABX9TyPOBoJy8WZGOjQTeLEjWUyb",
      "include_colab_link": true
    },
    "kernelspec": {
      "name": "python3",
      "display_name": "Python 3"
    },
    "language_info": {
      "name": "python"
    },
    "accelerator": "GPU"
  },
  "cells": [
    {
      "cell_type": "markdown",
      "metadata": {
        "id": "view-in-github",
        "colab_type": "text"
      },
      "source": [
        "<a href=\"https://colab.research.google.com/github/DSGP-Group-1-EAPS/SL-Apparel-Dataset/blob/Ranidu-Gurusinghe/Time_Series_Forecasting_Model.ipynb\" target=\"_parent\"><img src=\"https://colab.research.google.com/assets/colab-badge.svg\" alt=\"Open In Colab\"/></a>"
      ]
    },
    {
      "cell_type": "code",
      "execution_count": null,
      "metadata": {
        "colab": {
          "base_uri": "https://localhost:8080/"
        },
        "id": "dWy1B0-908U2",
        "outputId": "bf6f9d5f-fd70-48b4-e4d4-5c6b63d064b3"
      },
      "outputs": [
        {
          "output_type": "stream",
          "name": "stdout",
          "text": [
            "Drive already mounted at /content/drive; to attempt to forcibly remount, call drive.mount(\"/content/drive\", force_remount=True).\n"
          ]
        },
        {
          "output_type": "stream",
          "name": "stderr",
          "text": [
            "/usr/local/lib/python3.10/dist-packages/statsmodels/tsa/base/tsa_model.py:473: ValueWarning: A date index has been provided, but it has no associated frequency information and so will be ignored when e.g. forecasting.\n",
            "  self._init_dates(dates, freq)\n",
            "/usr/local/lib/python3.10/dist-packages/statsmodels/tsa/base/tsa_model.py:473: ValueWarning: A date index has been provided, but it has no associated frequency information and so will be ignored when e.g. forecasting.\n",
            "  self._init_dates(dates, freq)\n",
            "/usr/local/lib/python3.10/dist-packages/statsmodels/base/model.py:607: ConvergenceWarning: Maximum Likelihood optimization failed to converge. Check mle_retvals\n",
            "  warnings.warn(\"Maximum Likelihood optimization failed to \"\n"
          ]
        }
      ],
      "source": [
        "import pandas as pd\n",
        "import numpy as np\n",
        "import matplotlib.pyplot as plt\n",
        "from statsmodels.tsa.statespace.sarimax import SARIMAX\n",
        "from sklearn.metrics import mean_squared_error\n",
        "from math import sqrt\n",
        "from google.colab import drive\n",
        "\n",
        "# Mounting the Google Drive\n",
        "drive.mount('/content/drive')\n",
        "\n",
        "# Load the time series data\n",
        "df = pd.read_excel('/content/drive/MyDrive/Colab Notebooks/DSGP_COURSEWORK/SL Apparel Dataset model/Ranidu_preprocessed_dataset.xlsx', parse_dates=['Date'], index_col='Date')\n",
        "\n",
        "# Extract relevant features\n",
        "features = ['Encoded Absenteeism Type', 'Encoded Shift', 'Encoded Status', 'YearsWorked']\n",
        "ts_data = df[features + ['TookLeaveNextMonth']]\n",
        "\n",
        "# Split the data into training and testing sets\n",
        "train_size = int(len(ts_data) * 0.8)\n",
        "train, test = ts_data[0:train_size], ts_data[train_size:]\n",
        "\n",
        "# Build and train the SARIMA model\n",
        "order = (1, 1, 1)  # Replace with appropriate order (p, d, q)\n",
        "seasonal_order = (1, 1, 1, 12)  # Replace with appropriate seasonal order (P, D, Q, S)\n",
        "\n",
        "model = SARIMAX(train['TookLeaveNextMonth'], exog=train[features], order=order, seasonal_order=seasonal_order)\n",
        "result = model.fit(disp=False)\n",
        "\n",
        "# Make predictions on the test set\n",
        "predictions = result.get_forecast(steps=len(test), exog=test[features])\n",
        "predicted_mean = predictions.predicted_mean\n",
        "\n",
        "# Calculate RMSE (Root Mean Squared Error)\n",
        "rmse = sqrt(mean_squared_error(test['TookLeaveNextMonth'], predicted_mean))\n",
        "\n",
        "# Plot the predictions and the actual values\n",
        "plt.figure(figsize=(12, 6))\n",
        "plt.plot(train['TookLeaveNextMonth'], label='Training Data')\n",
        "plt.plot(test['TookLeaveNextMonth'], label='Actual Data')\n",
        "plt.plot(predicted_mean, label='SARIMA Predictions')\n",
        "plt.title(f'SARIMA Predictions (RMSE: {rmse:.2f})')\n",
        "plt.xlabel('Date')\n",
        "plt.ylabel('TookLeaveNextMonth')\n",
        "plt.legend()\n",
        "plt.show()\n",
        "\n",
        "# Display RMSE\n",
        "print(f\"Root Mean Squared Error (RMSE): {rmse:.2f}\")\n"
      ]
    },
    {
      "cell_type": "code",
      "source": [
        "import pandas as pd\n",
        "import numpy as np\n",
        "import matplotlib.pyplot as plt\n",
        "from statsmodels.tsa.statespace.sarimax import SARIMAX\n",
        "from sklearn.metrics import mean_squared_error\n",
        "from math import sqrt\n",
        "from google.colab import drive\n",
        "import gc\n",
        "\n",
        "# Mounting the Google Drive\n",
        "drive.mount('/content/drive')\n",
        "\n",
        "# Load the time series data\n",
        "df = pd.read_excel('/content/drive/MyDrive/Colab Notebooks/DSGP_COURSEWORK/SL Apparel Dataset model/Ranidu_preprocessed_dataset.xlsx', parse_dates=['Date'], index_col='Date')\n",
        "\n",
        "# Extract relevant features\n",
        "features = ['Encoded Absenteeism Type', 'Encoded Shift', 'Encoded Status', 'YearsWorked']\n",
        "ts_data = df[features + ['TookLeaveNextMonth']]\n",
        "\n",
        "# Define the end date for training (December 2022)\n",
        "train_end_date = '2022-12-31'\n",
        "\n",
        "# Split the data into training and testing sets\n",
        "train = ts_data[ts_data.index <= train_end_date]\n",
        "test = ts_data[ts_data.index > train_end_date]\n",
        "\n",
        "# Initialize SARIMA parameters\n",
        "order = (1, 1, 1)  # Replace with appropriate order (p, d, q)\n",
        "seasonal_order = (1, 1, 1, 12)  # Replace with appropriate seasonal order (P, D, Q, S)\n",
        "\n",
        "# Initialize lists to store predictions and actual values\n",
        "all_predictions = []\n",
        "all_actuals = []\n",
        "\n",
        "# Iterate over each month in 2023\n",
        "for month in range(1, 13):\n",
        "    # Filter the test set for the current month\n",
        "    test_month = test[test.index.month == month]\n",
        "\n",
        "    # Build and train the SARIMA model\n",
        "    model = SARIMAX(train['TookLeaveNextMonth'], exog=train[features], order=order, seasonal_order=seasonal_order)\n",
        "    result = model.fit(disp=False)\n",
        "\n",
        "    # Make predictions on the test set for the current month\n",
        "    predictions = result.get_forecast(steps=len(test_month), exog=test_month[features])\n",
        "    predicted_mean = predictions.predicted_mean\n",
        "\n",
        "    # Append predictions and actual values to the lists\n",
        "    all_predictions.extend(predicted_mean)\n",
        "    all_actuals.extend(test_month['TookLeaveNextMonth'])\n",
        "\n",
        "# Calculate RMSE (Root Mean Squared Error)\n",
        "rmse = sqrt(mean_squared_error(all_actuals, all_predictions))\n",
        "\n",
        "# Plot the predictions and the actual values\n",
        "plt.figure(figsize=(12, 6))\n",
        "plt.plot(ts_data['TookLeaveNextMonth'], label='Actual Data')\n",
        "plt.plot(all_predictions, label='SARIMA Predictions')\n",
        "plt.title(f'SARIMA Predictions for 2023 (RMSE: {rmse:.2f})')\n",
        "plt.xlabel('Date')\n",
        "plt.ylabel('TookLeaveNextMonth')\n",
        "plt.legend()\n",
        "plt.show()\n",
        "\n",
        "# Display RMSE\n",
        "print(f\"Root Mean Squared Error (RMSE) for 2023: {rmse:.2f}\")\n",
        "gc.collect()\n"
      ],
      "metadata": {
        "colab": {
          "base_uri": "https://localhost:8080/"
        },
        "id": "rHq3xC9n535I",
        "outputId": "4b6feff0-6021-4b16-801a-87f815c146f4"
      },
      "execution_count": null,
      "outputs": [
        {
          "output_type": "stream",
          "name": "stdout",
          "text": [
            "Drive already mounted at /content/drive; to attempt to forcibly remount, call drive.mount(\"/content/drive\", force_remount=True).\n"
          ]
        },
        {
          "output_type": "stream",
          "name": "stderr",
          "text": [
            "/usr/local/lib/python3.10/dist-packages/statsmodels/tsa/base/tsa_model.py:473: ValueWarning: A date index has been provided, but it has no associated frequency information and so will be ignored when e.g. forecasting.\n",
            "  self._init_dates(dates, freq)\n",
            "/usr/local/lib/python3.10/dist-packages/statsmodels/tsa/base/tsa_model.py:473: ValueWarning: A date index has been provided, but it has no associated frequency information and so will be ignored when e.g. forecasting.\n",
            "  self._init_dates(dates, freq)\n",
            "/usr/local/lib/python3.10/dist-packages/statsmodels/tsa/statespace/sarimax.py:966: UserWarning: Non-stationary starting autoregressive parameters found. Using zeros as starting parameters.\n",
            "  warn('Non-stationary starting autoregressive parameters'\n",
            "/usr/local/lib/python3.10/dist-packages/statsmodels/tsa/statespace/sarimax.py:978: UserWarning: Non-invertible starting MA parameters found. Using zeros as starting parameters.\n",
            "  warn('Non-invertible starting MA parameters found.'\n",
            "/usr/local/lib/python3.10/dist-packages/statsmodels/base/model.py:607: ConvergenceWarning: Maximum Likelihood optimization failed to converge. Check mle_retvals\n",
            "  warnings.warn(\"Maximum Likelihood optimization failed to \"\n",
            "/usr/local/lib/python3.10/dist-packages/statsmodels/tsa/base/tsa_model.py:836: ValueWarning: No supported index is available. Prediction results will be given with an integer index beginning at `start`.\n",
            "  return get_prediction_index(\n",
            "/usr/local/lib/python3.10/dist-packages/statsmodels/tsa/base/tsa_model.py:836: FutureWarning: No supported index is available. In the next version, calling this method in a model without a supported index will result in an exception.\n",
            "  return get_prediction_index(\n",
            "/usr/local/lib/python3.10/dist-packages/statsmodels/tsa/base/tsa_model.py:473: ValueWarning: A date index has been provided, but it has no associated frequency information and so will be ignored when e.g. forecasting.\n",
            "  self._init_dates(dates, freq)\n",
            "/usr/local/lib/python3.10/dist-packages/statsmodels/tsa/base/tsa_model.py:473: ValueWarning: A date index has been provided, but it has no associated frequency information and so will be ignored when e.g. forecasting.\n",
            "  self._init_dates(dates, freq)\n",
            "/usr/local/lib/python3.10/dist-packages/statsmodels/tsa/statespace/sarimax.py:966: UserWarning: Non-stationary starting autoregressive parameters found. Using zeros as starting parameters.\n",
            "  warn('Non-stationary starting autoregressive parameters'\n",
            "/usr/local/lib/python3.10/dist-packages/statsmodels/tsa/statespace/sarimax.py:978: UserWarning: Non-invertible starting MA parameters found. Using zeros as starting parameters.\n",
            "  warn('Non-invertible starting MA parameters found.'\n",
            "/usr/local/lib/python3.10/dist-packages/statsmodels/base/model.py:607: ConvergenceWarning: Maximum Likelihood optimization failed to converge. Check mle_retvals\n",
            "  warnings.warn(\"Maximum Likelihood optimization failed to \"\n",
            "/usr/local/lib/python3.10/dist-packages/statsmodels/tsa/base/tsa_model.py:836: ValueWarning: No supported index is available. Prediction results will be given with an integer index beginning at `start`.\n",
            "  return get_prediction_index(\n",
            "/usr/local/lib/python3.10/dist-packages/statsmodels/tsa/base/tsa_model.py:836: FutureWarning: No supported index is available. In the next version, calling this method in a model without a supported index will result in an exception.\n",
            "  return get_prediction_index(\n",
            "/usr/local/lib/python3.10/dist-packages/statsmodels/tsa/base/tsa_model.py:473: ValueWarning: A date index has been provided, but it has no associated frequency information and so will be ignored when e.g. forecasting.\n",
            "  self._init_dates(dates, freq)\n",
            "/usr/local/lib/python3.10/dist-packages/statsmodels/tsa/base/tsa_model.py:473: ValueWarning: A date index has been provided, but it has no associated frequency information and so will be ignored when e.g. forecasting.\n",
            "  self._init_dates(dates, freq)\n",
            "/usr/local/lib/python3.10/dist-packages/statsmodels/tsa/statespace/sarimax.py:966: UserWarning: Non-stationary starting autoregressive parameters found. Using zeros as starting parameters.\n",
            "  warn('Non-stationary starting autoregressive parameters'\n",
            "/usr/local/lib/python3.10/dist-packages/statsmodels/tsa/statespace/sarimax.py:978: UserWarning: Non-invertible starting MA parameters found. Using zeros as starting parameters.\n",
            "  warn('Non-invertible starting MA parameters found.'\n",
            "/usr/local/lib/python3.10/dist-packages/statsmodels/base/model.py:607: ConvergenceWarning: Maximum Likelihood optimization failed to converge. Check mle_retvals\n",
            "  warnings.warn(\"Maximum Likelihood optimization failed to \"\n"
          ]
        }
      ]
    },
    {
      "cell_type": "code",
      "source": [],
      "metadata": {
        "id": "ZZG_PBlqBR-O"
      },
      "execution_count": null,
      "outputs": []
    }
  ]
}