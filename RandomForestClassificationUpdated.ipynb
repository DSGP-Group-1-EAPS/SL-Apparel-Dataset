{
  "nbformat": 4,
  "nbformat_minor": 0,
  "metadata": {
    "colab": {
      "provenance": [],
      "authorship_tag": "ABX9TyNQv/DBrUnIKRFEm//TrEmx",
      "include_colab_link": true
    },
    "kernelspec": {
      "name": "python3",
      "display_name": "Python 3"
    },
    "language_info": {
      "name": "python"
    }
  },
  "cells": [
    {
      "cell_type": "markdown",
      "metadata": {
        "id": "view-in-github",
        "colab_type": "text"
      },
      "source": [
        "<a href=\"https://colab.research.google.com/github/DSGP-Group-1-EAPS/SL-Apparel-Dataset/blob/main/RandomForestClassificationUpdated.ipynb\" target=\"_parent\"><img src=\"https://colab.research.google.com/assets/colab-badge.svg\" alt=\"Open In Colab\"/></a>"
      ]
    },
    {
      "cell_type": "code",
      "source": [
        "from google.colab import drive\n",
        "import pandas as pd\n",
        "!pip install scikit-learn==1.4.1.post1"
      ],
      "metadata": {
        "colab": {
          "base_uri": "https://localhost:8080/"
        },
        "id": "Im_o3IheOyxw",
        "outputId": "cd702ae8-dc2f-4956-bae7-9cd28f964c9d"
      },
      "execution_count": 1,
      "outputs": [
        {
          "output_type": "stream",
          "name": "stdout",
          "text": [
            "Collecting scikit-learn==1.4.1.post1\n",
            "  Downloading scikit_learn-1.4.1.post1-cp310-cp310-manylinux_2_17_x86_64.manylinux2014_x86_64.whl (12.1 MB)\n",
            "\u001b[2K     \u001b[90m━━━━━━━━━━━━━━━━━━━━━━━━━━━━━━━━━━━━━━━━\u001b[0m \u001b[32m12.1/12.1 MB\u001b[0m \u001b[31m44.3 MB/s\u001b[0m eta \u001b[36m0:00:00\u001b[0m\n",
            "\u001b[?25hRequirement already satisfied: numpy<2.0,>=1.19.5 in /usr/local/lib/python3.10/dist-packages (from scikit-learn==1.4.1.post1) (1.25.2)\n",
            "Requirement already satisfied: scipy>=1.6.0 in /usr/local/lib/python3.10/dist-packages (from scikit-learn==1.4.1.post1) (1.11.4)\n",
            "Requirement already satisfied: joblib>=1.2.0 in /usr/local/lib/python3.10/dist-packages (from scikit-learn==1.4.1.post1) (1.3.2)\n",
            "Requirement already satisfied: threadpoolctl>=2.0.0 in /usr/local/lib/python3.10/dist-packages (from scikit-learn==1.4.1.post1) (3.3.0)\n",
            "Installing collected packages: scikit-learn\n",
            "  Attempting uninstall: scikit-learn\n",
            "    Found existing installation: scikit-learn 1.2.2\n",
            "    Uninstalling scikit-learn-1.2.2:\n",
            "      Successfully uninstalled scikit-learn-1.2.2\n",
            "Successfully installed scikit-learn-1.4.1.post1\n"
          ]
        }
      ]
    },
    {
      "cell_type": "markdown",
      "source": [
        "##Loading the data"
      ],
      "metadata": {
        "id": "dqAsCFxjOucE"
      }
    },
    {
      "cell_type": "code",
      "execution_count": 2,
      "metadata": {
        "id": "ewcu9VnDaY77",
        "colab": {
          "base_uri": "https://localhost:8080/"
        },
        "outputId": "70e5f5de-b745-402b-ae61-0c4bedbc573a"
      },
      "outputs": [
        {
          "output_type": "stream",
          "name": "stdout",
          "text": [
            "Mounted at /content/drive\n",
            "        Date    Shift   Code          Department Absenteeism Type    Status  \\\n",
            "0 2021-12-01  Shift A  AA369  Team - MAT 4A - BD         Informed  Notified   \n",
            "1 2021-12-01  Shift A  AA362  Team - MAT 4A - BD         Informed  Notified   \n",
            "2 2021-12-01  Shift A  AA359  Team - MAT 4A - BD         Informed  Notified   \n",
            "3 2021-12-01  Shift A  AA541  Team - MAT 4A - BD         Informed  Notified   \n",
            "4 2021-12-01  Shift A  AA398  Team - MAT 3A - BD         Informed  Notified   \n",
            "\n",
            "   Leave Type Absent/Present     Reason Joined Date  ...  LeaveMonth  \\\n",
            "0           1            MAT  Maternity  2015-09-11  ...          12   \n",
            "1           1            MAT  Maternity  2018-11-14  ...          12   \n",
            "2           1            MAT  Maternity  2019-10-09  ...          12   \n",
            "3           1            MAT  Maternity  2020-10-02  ...          12   \n",
            "4           1            MAT  Maternity  2008-02-29  ...          12   \n",
            "\n",
            "   Encoded Reason  Encoded Status  Encoded Absenteeism Type  Encoded Shift  \\\n",
            "0              11               1                         0              0   \n",
            "1              11               1                         0              0   \n",
            "2              11               1                         0              0   \n",
            "3              11               1                         0              0   \n",
            "4              11               1                         0              0   \n",
            "\n",
            "   LeaveYear  NumOfLeaveDays  TookLeaveNextMonth  LeavesNextMonth  \\\n",
            "0       2021               4                   0                0   \n",
            "1       2021               4                   1               24   \n",
            "2       2021               4                   1               16   \n",
            "3       2021               4                   1                2   \n",
            "4       2021               4                   1                1   \n",
            "\n",
            "   TargetCategory  \n",
            "0               A  \n",
            "1               B  \n",
            "2               B  \n",
            "3               A  \n",
            "4               A  \n",
            "\n",
            "[5 rows x 23 columns]\n"
          ]
        }
      ],
      "source": [
        "# Mount Google Drive\n",
        "drive.mount('/content/drive')\n",
        "\n",
        "# Load the preprocessed data from Excel file\n",
        "file_path = '/content/drive/MyDrive/Colab Notebooks/DSGP_COURSEWORK/SL Apparel Dataset model/Dataset/preprocessed_data_new.xlsx'\n",
        "data = pd.read_excel(file_path)\n",
        "\n",
        "# Display the loaded data\n",
        "print(data.head())"
      ]
    },
    {
      "cell_type": "code",
      "source": [
        "leave_days_by_month = data.groupby(['LeaveYear', 'LeaveMonth']).size().reset_index(name='TotalLeaveDays')\n",
        "print(leave_days_by_month)\n",
        "\n",
        "monthly_totals = {}\n",
        "\n",
        "for index, row in leave_days_by_month.iterrows():\n",
        "    year = row['LeaveYear']\n",
        "    month = row['LeaveMonth']\n",
        "    total_leave_days = row['TotalLeaveDays']\n",
        "    monthly_totals[(year, month)] = total_leave_days\n",
        "\n",
        "# Create a new column 'MonthlyTotal' by mapping the (year, month) tuple to its corresponding total leave count\n",
        "data['MonthlyTotal'] = data.apply(lambda row: monthly_totals.get((row['LeaveYear'], row['LeaveMonth']), 0), axis=1)\n",
        "\n",
        "# Display the updated DataFrame\n",
        "print(data)\n"
      ],
      "metadata": {
        "colab": {
          "base_uri": "https://localhost:8080/"
        },
        "id": "7HufA-cQOxHY",
        "outputId": "91d985d7-c6bd-4c0d-ceb7-2155e8f5fe96"
      },
      "execution_count": 4,
      "outputs": [
        {
          "output_type": "stream",
          "name": "stdout",
          "text": [
            "    LeaveYear  LeaveMonth  TotalLeaveDays\n",
            "0        2021          12            3184\n",
            "1        2022           1            2181\n",
            "2        2022           2            2353\n",
            "3        2022           3            2471\n",
            "4        2022           4            1770\n",
            "5        2022           5            3351\n",
            "6        2022           6            2834\n",
            "7        2022           7            1580\n",
            "8        2022           8            1724\n",
            "9        2022           9            1575\n",
            "10       2022          10            1905\n",
            "11       2022          11            1664\n",
            "12       2022          12            1155\n",
            "13       2023           1            1104\n",
            "14       2023           2             412\n",
            "15       2023           3            1264\n",
            "16       2023           4             469\n",
            "17       2023           5            1758\n",
            "18       2023           6            1260\n",
            "19       2023           7            1098\n",
            "20       2023           8            1082\n",
            "21       2023           9            1030\n",
            "22       2023          10            1169\n",
            "23       2023          11            1351\n",
            "24       2023          12             922\n",
            "            Date    Shift    Code                    Department  \\\n",
            "0     2021-12-01  Shift A   AA369            Team - MAT 4A - BD   \n",
            "1     2021-12-01  Shift A   AA362            Team - MAT 4A - BD   \n",
            "2     2021-12-01  Shift A   AA359            Team - MAT 4A - BD   \n",
            "3     2021-12-01  Shift A   AA541            Team - MAT 4A - BD   \n",
            "4     2021-12-01  Shift A   AA398            Team - MAT 3A - BD   \n",
            "...          ...      ...     ...                           ...   \n",
            "40661 2023-12-22  Shift A  AA2212  Sewing Team - 145A - II - BD   \n",
            "40662 2023-12-22  Shift A   AA723   Sewing Team - 109A - I - BD   \n",
            "40663 2023-12-22  Shift A  AA1280   Sewing Team - 152A - I - BD   \n",
            "40664 2023-12-22  Shift A  AA1964   Sewing Team - 135A - I - BD   \n",
            "40665 2023-12-22  Shift A    AA12   Sewing Team - 153A - I - BD   \n",
            "\n",
            "      Absenteeism Type    Status  Leave Type Absent/Present           Reason  \\\n",
            "0             Informed  Notified           1            MAT        Maternity   \n",
            "1             Informed  Notified           1            MAT        Maternity   \n",
            "2             Informed  Notified           1            MAT        Maternity   \n",
            "3             Informed  Notified           1            MAT        Maternity   \n",
            "4             Informed  Notified           1            MAT        Maternity   \n",
            "...                ...       ...         ...            ...              ...   \n",
            "40661       Uninformed  Notified           1         Absent   Health Related   \n",
            "40662         Informed  Notified           1         Absent  Personal Reason   \n",
            "40663         Informed  Notified           1         Absent  Personal Reason   \n",
            "40664         Informed  Notified           1         Absent  Personal Reason   \n",
            "40665         Informed  Notified           1         Absent  Personal Reason   \n",
            "\n",
            "      Joined Date  ...  Encoded Reason  Encoded Status  \\\n",
            "0      2015-09-11  ...              11               1   \n",
            "1      2018-11-14  ...              11               1   \n",
            "2      2019-10-09  ...              11               1   \n",
            "3      2020-10-02  ...              11               1   \n",
            "4      2008-02-29  ...              11               1   \n",
            "...           ...  ...             ...             ...   \n",
            "40661  2018-06-12  ...               9               1   \n",
            "40662  2017-11-15  ...              15               1   \n",
            "40663  2018-12-19  ...              15               1   \n",
            "40664  2021-07-02  ...              15               1   \n",
            "40665  2021-01-20  ...              15               1   \n",
            "\n",
            "       Encoded Absenteeism Type  Encoded Shift  LeaveYear  NumOfLeaveDays  \\\n",
            "0                             0              0       2021               4   \n",
            "1                             0              0       2021               4   \n",
            "2                             0              0       2021               4   \n",
            "3                             0              0       2021               4   \n",
            "4                             0              0       2021               4   \n",
            "...                         ...            ...        ...             ...   \n",
            "40661                         1              0       2023               1   \n",
            "40662                         0              0       2023               1   \n",
            "40663                         0              0       2023               1   \n",
            "40664                         0              0       2023               1   \n",
            "40665                         0              0       2023               1   \n",
            "\n",
            "       TookLeaveNextMonth  LeavesNextMonth  TargetCategory  MonthlyTotal  \n",
            "0                       0                0               A          3184  \n",
            "1                       1               24               B          3184  \n",
            "2                       1               16               B          3184  \n",
            "3                       1                2               A          3184  \n",
            "4                       1                1               A          3184  \n",
            "...                   ...              ...             ...           ...  \n",
            "40661                   0                0               A           922  \n",
            "40662                   0                0               A           922  \n",
            "40663                   0                0               A           922  \n",
            "40664                   0                0               A           922  \n",
            "40665                   0                0               A           922  \n",
            "\n",
            "[40666 rows x 24 columns]\n"
          ]
        }
      ]
    },
    {
      "cell_type": "code",
      "source": [
        "def onehot_encode(df, column, prefix):\n",
        "    df = df.copy()\n",
        "\n",
        "    dummies = pd.get_dummies(df[column], prefix=prefix)\n",
        "    df = pd.concat([df, dummies], axis=1)\n",
        "    df = df.drop(column, axis=1)\n",
        "\n",
        "    return df"
      ],
      "metadata": {
        "id": "euxaNlRgO9tq"
      },
      "execution_count": 5,
      "outputs": []
    },
    {
      "cell_type": "code",
      "source": [
        "from sklearn.model_selection import train_test_split\n",
        "def preprocess_inputs(df):\n",
        "    df = df.copy()\n",
        "    rf_selected_features = ['Date','DaysWorked', 'DayOfWeek', 'Encoded Code', 'LeaveMonth', 'Encoded Status',\n",
        "                        'Encoded Absenteeism Type', 'Encoded Shift', 'LeaveYear', 'NumOfLeaveDays', 'MonthlyTotal',\n",
        "                        'Reason_0', 'Reason_1', 'Reason_2', 'Reason_3', 'Reason_4', 'Reason_5',\n",
        "                        'Reason_6', 'Reason_7', 'Reason_8', 'Reason_9', 'Reason_10', 'Reason_11',\n",
        "                        'Reason_12', 'Reason_13', 'Reason_14', 'Reason_15', 'Reason_16', 'Reason_17',\n",
        "                        'Reason_18', 'TargetCategory']\n",
        "\n",
        "    # One-hot encode the reason column\n",
        "    df = onehot_encode(\n",
        "        df,\n",
        "        column='Encoded Reason',\n",
        "        prefix='Reason'\n",
        "    )\n",
        "\n",
        "    df = df[rf_selected_features]\n",
        "\n",
        "    # Filter the data for November 2023\n",
        "    testing_data_november = df[(df['LeaveYear'] == 2023) & (df['LeaveMonth'] >= 11)]\n",
        "    print(\"Nov\", testing_data_november.shape)\n",
        "    df = df[df['Date'] < '2023-11-01']\n",
        "    testing_data_october = df[(df['LeaveYear'] == 2023) & (df['LeaveMonth'] >= 10)]\n",
        "    print(\"Oct\", testing_data_october.shape)\n",
        "    df = df[df['Date'] < '2023-10-01']\n",
        "    testing_data_september = df[(df['LeaveYear'] == 2023) & (df['LeaveMonth'] >= 9)]\n",
        "    print(\"Sept\", testing_data_september.shape)\n",
        "\n",
        "\n",
        "\n",
        "    testing_data = df[df['Date'] > '2023-09-01']\n",
        "    df = df[df['Date'] < '2023-10-01']\n",
        "    df = df.drop('Date', axis=1)\n",
        "    testing_data = testing_data.drop('Date', axis=1)\n",
        "    testing_data_october_copy = testing_data_october.copy()\n",
        "    testing_data_october_copy = testing_data_october_copy.drop('Date', axis=1)\n",
        "\n",
        "\n",
        "\n",
        "    # Split df into X and y\n",
        "    Y_train = df['TargetCategory'].copy()\n",
        "    X_train = df.drop('TargetCategory', axis=1)\n",
        "    X_test = testing_data_october_copy.drop('TargetCategory', axis=1)\n",
        "    Y_test = testing_data_october_copy['TargetCategory'].copy()\n",
        "    print(X_test['LeaveMonth'])\n",
        "\n",
        "    return testing_data_september, testing_data_october, testing_data_november, X_train, X_test, Y_train, Y_test"
      ],
      "metadata": {
        "id": "c6Viz2gXPABS"
      },
      "execution_count": 8,
      "outputs": []
    },
    {
      "cell_type": "code",
      "source": [
        "# Split the remaining data into training and testing sets\n",
        "testing_data_september, testing_data_october, testing_data_november, X_train, X_test, y_train, y_test = preprocess_inputs(data)\n",
        "\n",
        "\n",
        "print(X_train.shape)\n",
        "print(y_train.shape)\n",
        "print(X_test.shape)\n",
        "print(y_test.shape)\n",
        "print(X_test)\n",
        "testing_data_september.to_excel('/content/drive/MyDrive/Colab Notebooks/DSGP_COURSEWORK/SL Apparel Dataset model/Dataset/testing_data_september.xlsx', index=False)\n",
        "testing_data_october.to_excel('/content/drive/MyDrive/Colab Notebooks/DSGP_COURSEWORK/SL Apparel Dataset model/Dataset/testing_data_october.xlsx', index=False)\n",
        "testing_data_november.to_excel('/content/drive/MyDrive/Colab Notebooks/DSGP_COURSEWORK/SL Apparel Dataset model/Dataset/testing_data_november.xlsx', index=False)"
      ],
      "metadata": {
        "colab": {
          "base_uri": "https://localhost:8080/"
        },
        "id": "yl-SQj32PIRn",
        "outputId": "f53a7dd5-a78b-42c0-aac7-4299618b2bc5"
      },
      "execution_count": 9,
      "outputs": [
        {
          "output_type": "stream",
          "name": "stdout",
          "text": [
            "Nov (2273, 31)\n",
            "Oct (1169, 31)\n",
            "Sept (1030, 31)\n",
            "37190    10\n",
            "37191    10\n",
            "37192    10\n",
            "37193    10\n",
            "37194    10\n",
            "         ..\n",
            "39175    10\n",
            "39176    10\n",
            "39177    10\n",
            "39178    10\n",
            "39179    10\n",
            "Name: LeaveMonth, Length: 1169, dtype: int64\n",
            "(37224, 29)\n",
            "(37224,)\n",
            "(1169, 29)\n",
            "(1169,)\n",
            "       DaysWorked  DayOfWeek  Encoded Code  LeaveMonth  Encoded Status  \\\n",
            "37190       10146          1           717          10               1   \n",
            "37191        7831          1          3420          10               1   \n",
            "37192       10016          1          1585          10               1   \n",
            "37193        7780          1          3155          10               1   \n",
            "37194        9947          1          1374          10               1   \n",
            "...           ...        ...           ...         ...             ...   \n",
            "39175        2718          5          1506          10               1   \n",
            "39176         968          5           275          10               1   \n",
            "39177         738          5          2989          10               1   \n",
            "39178        3326          5           860          10               1   \n",
            "39179        1094          5           853          10               1   \n",
            "\n",
            "       Encoded Absenteeism Type  Encoded Shift  LeaveYear  NumOfLeaveDays  \\\n",
            "37190                         1              0       2023               1   \n",
            "37191                         0              0       2023               1   \n",
            "37192                         1              0       2023               3   \n",
            "37193                         1              0       2023               1   \n",
            "37194                         0              0       2023               5   \n",
            "...                         ...            ...        ...             ...   \n",
            "39175                         0              1       2023               1   \n",
            "39176                         0              1       2023               1   \n",
            "39177                         0              1       2023               1   \n",
            "39178                         0              1       2023               1   \n",
            "39179                         1              1       2023               1   \n",
            "\n",
            "       MonthlyTotal  ...  Reason_9  Reason_10  Reason_11  Reason_12  \\\n",
            "37190          1169  ...         0          0          0          0   \n",
            "37191          1169  ...         0          0          0          0   \n",
            "37192          1169  ...         0          0          0          0   \n",
            "37193          1169  ...         0          0          0          0   \n",
            "37194          1169  ...         0          0          0          1   \n",
            "...             ...  ...       ...        ...        ...        ...   \n",
            "39175          1169  ...         0          0          0          1   \n",
            "39176          1169  ...         0          0          0          0   \n",
            "39177          1169  ...         0          0          0          0   \n",
            "39178          1169  ...         0          1          0          0   \n",
            "39179          1169  ...         0          0          0          0   \n",
            "\n",
            "       Reason_13  Reason_14  Reason_15  Reason_16  Reason_17  Reason_18  \n",
            "37190          0          0          0          0          0          0  \n",
            "37191          0          0          1          0          0          0  \n",
            "37192          0          0          0          0          0          0  \n",
            "37193          0          0          0          0          0          0  \n",
            "37194          0          0          0          0          0          0  \n",
            "...          ...        ...        ...        ...        ...        ...  \n",
            "39175          0          0          0          0          0          0  \n",
            "39176          0          0          1          0          0          0  \n",
            "39177          0          0          1          0          0          0  \n",
            "39178          0          0          0          0          0          0  \n",
            "39179          0          0          0          0          0          0  \n",
            "\n",
            "[1169 rows x 29 columns]\n"
          ]
        }
      ]
    },
    {
      "cell_type": "code",
      "source": [],
      "metadata": {
        "id": "aat9Lo5UPuvH"
      },
      "execution_count": null,
      "outputs": []
    }
  ]
}