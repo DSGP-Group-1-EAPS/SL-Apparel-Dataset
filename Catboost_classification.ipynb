{
  "cells": [
    {
      "cell_type": "markdown",
      "metadata": {
        "id": "view-in-github",
        "colab_type": "text"
      },
      "source": [
        "<a href=\"https://colab.research.google.com/github/DSGP-Group-1-EAPS/SL-Apparel-Dataset/blob/Sandun-Karunatilleke/Catboost_classification.ipynb\" target=\"_parent\"><img src=\"https://colab.research.google.com/assets/colab-badge.svg\" alt=\"Open In Colab\"/></a>"
      ]
    },
    {
      "cell_type": "markdown",
      "metadata": {
        "id": "05aLO7Ude9jp"
      },
      "source": [
        "# **Predicting using Catboost classification**"
      ]
    },
    {
      "cell_type": "markdown",
      "source": [
        "# Connecting Dataset"
      ],
      "metadata": {
        "id": "2JxSN47P6THJ"
      }
    },
    {
      "cell_type": "code",
      "source": [
        "import pandas as pd\n",
        "from catboost import CatBoostClassifier, Pool\n",
        "from sklearn.model_selection import train_test_split\n",
        "from sklearn.linear_model import LogisticRegression\n",
        "from sklearn.metrics import accuracy_score, classification_report, confusion_matrix\n",
        "from sklearn.preprocessing import StandardScaler\n",
        "from google.colab import drive\n",
        "\n",
        "# Mounting the Google Drive\n",
        "drive.mount('/content/drive')\n",
        "\n",
        "# Reading the data from the excel file and removing blank spaces in each cell\n",
        "data = pd.read_excel('/content/drive/MyDrive/Colab Notebooks/preprocessed_data_new.xlsx')\n"
      ],
      "metadata": {
        "id": "WAYc7lnucetN",
        "outputId": "8765b6c6-5e68-46e3-9237-2f9323aff2be",
        "colab": {
          "base_uri": "https://localhost:8080/"
        }
      },
      "execution_count": 14,
      "outputs": [
        {
          "output_type": "stream",
          "name": "stdout",
          "text": [
            "Drive already mounted at /content/drive; to attempt to forcibly remount, call drive.mount(\"/content/drive\", force_remount=True).\n"
          ]
        }
      ]
    },
    {
      "cell_type": "markdown",
      "source": [
        "# Extracting and scaling data (Randomly)"
      ],
      "metadata": {
        "id": "q4ZJp7yT52Qg"
      }
    },
    {
      "cell_type": "code",
      "source": [
        "# Extract features and target variable\n",
        "X = data.drop('LeavesNextMonth', axis=1)  # All columns except 'LeavesNextMonth'\n",
        "y = data['LeavesNextMonth']\n",
        "\n",
        "# Train-test split\n",
        "X_train, X_test, y_train, y_test = train_test_split(X, y, test_size=0.1, random_state=42)\n",
        "\n",
        "# Drop non-numeric columns before scaling\n",
        "X_train_numeric = X_train.select_dtypes(include=['number'])\n",
        "X_test_numeric = X_test.select_dtypes(include=['number'])\n",
        "\n",
        "# Feature scaling\n",
        "scaler = StandardScaler()\n",
        "X_train_scaled = scaler.fit_transform(X_train_numeric)\n",
        "X_test_scaled = scaler.transform(X_test_numeric)"
      ],
      "metadata": {
        "id": "nNkSaJY65_U3"
      },
      "execution_count": 15,
      "outputs": []
    },
    {
      "cell_type": "markdown",
      "source": [
        "# Create and train the Catboost classification with increased iterations"
      ],
      "metadata": {
        "id": "yEHYYXpE6BsN"
      }
    },
    {
      "cell_type": "code",
      "source": [
        "model = CatBoostClassifier(iterations=100,\n",
        "                           learning_rate=0.1,\n",
        "                           depth=6,\n",
        "                           loss_function='MultiClass')\n",
        "model.fit(X_train_scaled, y_train)\n",
        "\n",
        "# Make predictions on the test set\n",
        "y_pred = model.predict(X_test_scaled)\n",
        "probabilities = model.predict_proba(X_test_scaled)\n",
        "\n",
        "accuracy = accuracy_score(y_test, y_pred)\n",
        "\n",
        "\n",
        "# Display results\n",
        "print(\"\\nModel Evaluation:\")\n",
        "print(f\"Accuracy: {accuracy:.4f}\")\n"
      ],
      "metadata": {
        "id": "EpEson7N6PIC",
        "outputId": "244764e4-8143-4779-abca-9d9d5f0af050",
        "colab": {
          "base_uri": "https://localhost:8080/"
        }
      },
      "execution_count": 16,
      "outputs": [
        {
          "output_type": "stream",
          "name": "stdout",
          "text": [
            "0:\tlearn: 1.9922400\ttotal: 447ms\tremaining: 44.2s\n",
            "1:\tlearn: 1.8516996\ttotal: 743ms\tremaining: 36.4s\n",
            "2:\tlearn: 1.7464727\ttotal: 1.07s\tremaining: 34.7s\n",
            "3:\tlearn: 1.6592714\ttotal: 1.28s\tremaining: 30.8s\n",
            "4:\tlearn: 1.5832436\ttotal: 1.5s\tremaining: 28.4s\n",
            "5:\tlearn: 1.5219273\ttotal: 1.7s\tremaining: 26.7s\n",
            "6:\tlearn: 1.4736331\ttotal: 1.91s\tremaining: 25.4s\n",
            "7:\tlearn: 1.4316521\ttotal: 2.13s\tremaining: 24.6s\n",
            "8:\tlearn: 1.3966922\ttotal: 2.34s\tremaining: 23.7s\n",
            "9:\tlearn: 1.3633587\ttotal: 2.55s\tremaining: 23s\n",
            "10:\tlearn: 1.3357425\ttotal: 2.75s\tremaining: 22.3s\n",
            "11:\tlearn: 1.3128246\ttotal: 2.96s\tremaining: 21.7s\n",
            "12:\tlearn: 1.2895253\ttotal: 3.18s\tremaining: 21.3s\n",
            "13:\tlearn: 1.2660390\ttotal: 3.39s\tremaining: 20.8s\n",
            "14:\tlearn: 1.2482400\ttotal: 3.6s\tremaining: 20.4s\n",
            "15:\tlearn: 1.2305547\ttotal: 3.81s\tremaining: 20s\n",
            "16:\tlearn: 1.2129283\ttotal: 4.02s\tremaining: 19.6s\n",
            "17:\tlearn: 1.1992616\ttotal: 4.24s\tremaining: 19.3s\n",
            "18:\tlearn: 1.1827496\ttotal: 4.45s\tremaining: 19s\n",
            "19:\tlearn: 1.1699437\ttotal: 4.66s\tremaining: 18.6s\n",
            "20:\tlearn: 1.1585033\ttotal: 4.86s\tremaining: 18.3s\n",
            "21:\tlearn: 1.1489757\ttotal: 5.09s\tremaining: 18s\n",
            "22:\tlearn: 1.1377668\ttotal: 5.3s\tremaining: 17.7s\n",
            "23:\tlearn: 1.1293004\ttotal: 5.5s\tremaining: 17.4s\n",
            "24:\tlearn: 1.1220063\ttotal: 5.71s\tremaining: 17.1s\n",
            "25:\tlearn: 1.1132282\ttotal: 5.92s\tremaining: 16.8s\n",
            "26:\tlearn: 1.1075093\ttotal: 6.14s\tremaining: 16.6s\n",
            "27:\tlearn: 1.1016888\ttotal: 6.35s\tremaining: 16.3s\n",
            "28:\tlearn: 1.0961563\ttotal: 6.56s\tremaining: 16.1s\n",
            "29:\tlearn: 1.0910469\ttotal: 6.76s\tremaining: 15.8s\n",
            "30:\tlearn: 1.0862310\ttotal: 6.97s\tremaining: 15.5s\n",
            "31:\tlearn: 1.0828726\ttotal: 7.2s\tremaining: 15.3s\n",
            "32:\tlearn: 1.0790809\ttotal: 7.41s\tremaining: 15s\n",
            "33:\tlearn: 1.0759828\ttotal: 7.62s\tremaining: 14.8s\n",
            "34:\tlearn: 1.0733912\ttotal: 7.82s\tremaining: 14.5s\n",
            "35:\tlearn: 1.0693428\ttotal: 8.04s\tremaining: 14.3s\n",
            "36:\tlearn: 1.0658348\ttotal: 8.26s\tremaining: 14.1s\n",
            "37:\tlearn: 1.0635227\ttotal: 8.47s\tremaining: 13.8s\n",
            "38:\tlearn: 1.0599051\ttotal: 8.67s\tremaining: 13.6s\n",
            "39:\tlearn: 1.0559636\ttotal: 8.88s\tremaining: 13.3s\n",
            "40:\tlearn: 1.0523965\ttotal: 9.08s\tremaining: 13.1s\n",
            "41:\tlearn: 1.0500039\ttotal: 9.31s\tremaining: 12.9s\n",
            "42:\tlearn: 1.0462700\ttotal: 9.52s\tremaining: 12.6s\n",
            "43:\tlearn: 1.0432488\ttotal: 9.72s\tremaining: 12.4s\n",
            "44:\tlearn: 1.0395582\ttotal: 9.93s\tremaining: 12.1s\n",
            "45:\tlearn: 1.0371184\ttotal: 10.1s\tremaining: 11.9s\n",
            "46:\tlearn: 1.0354969\ttotal: 10.4s\tremaining: 11.7s\n",
            "47:\tlearn: 1.0328444\ttotal: 10.6s\tremaining: 11.4s\n",
            "48:\tlearn: 1.0283728\ttotal: 10.8s\tremaining: 11.2s\n",
            "49:\tlearn: 1.0244854\ttotal: 11s\tremaining: 11s\n",
            "50:\tlearn: 1.0229801\ttotal: 11.3s\tremaining: 10.8s\n",
            "51:\tlearn: 1.0210738\ttotal: 11.7s\tremaining: 10.8s\n",
            "52:\tlearn: 1.0187190\ttotal: 12s\tremaining: 10.6s\n",
            "53:\tlearn: 1.0170306\ttotal: 12.4s\tremaining: 10.6s\n",
            "54:\tlearn: 1.0155972\ttotal: 12.8s\tremaining: 10.4s\n",
            "55:\tlearn: 1.0141185\ttotal: 13.1s\tremaining: 10.3s\n",
            "56:\tlearn: 1.0123451\ttotal: 13.5s\tremaining: 10.2s\n",
            "57:\tlearn: 1.0110353\ttotal: 13.8s\tremaining: 10s\n",
            "58:\tlearn: 1.0092111\ttotal: 14.2s\tremaining: 9.86s\n",
            "59:\tlearn: 1.0078073\ttotal: 14.5s\tremaining: 9.7s\n",
            "60:\tlearn: 1.0063460\ttotal: 14.9s\tremaining: 9.54s\n",
            "61:\tlearn: 1.0040741\ttotal: 15.1s\tremaining: 9.28s\n",
            "62:\tlearn: 1.0018950\ttotal: 15.3s\tremaining: 9.01s\n",
            "63:\tlearn: 0.9993839\ttotal: 15.6s\tremaining: 8.76s\n",
            "64:\tlearn: 0.9984635\ttotal: 15.8s\tremaining: 8.49s\n",
            "65:\tlearn: 0.9952305\ttotal: 16s\tremaining: 8.23s\n",
            "66:\tlearn: 0.9934850\ttotal: 16.2s\tremaining: 7.98s\n",
            "67:\tlearn: 0.9919255\ttotal: 16.4s\tremaining: 7.72s\n",
            "68:\tlearn: 0.9898193\ttotal: 16.6s\tremaining: 7.47s\n",
            "69:\tlearn: 0.9883842\ttotal: 16.8s\tremaining: 7.21s\n",
            "70:\tlearn: 0.9857630\ttotal: 17s\tremaining: 6.96s\n",
            "71:\tlearn: 0.9833579\ttotal: 17.2s\tremaining: 6.7s\n",
            "72:\tlearn: 0.9821895\ttotal: 17.4s\tremaining: 6.45s\n",
            "73:\tlearn: 0.9805980\ttotal: 17.7s\tremaining: 6.21s\n",
            "74:\tlearn: 0.9788697\ttotal: 17.9s\tremaining: 5.96s\n",
            "75:\tlearn: 0.9773823\ttotal: 18.1s\tremaining: 5.71s\n",
            "76:\tlearn: 0.9755121\ttotal: 18.3s\tremaining: 5.46s\n",
            "77:\tlearn: 0.9737768\ttotal: 18.5s\tremaining: 5.22s\n",
            "78:\tlearn: 0.9722086\ttotal: 18.7s\tremaining: 4.97s\n",
            "79:\tlearn: 0.9693071\ttotal: 18.9s\tremaining: 4.73s\n",
            "80:\tlearn: 0.9689144\ttotal: 19.1s\tremaining: 4.49s\n",
            "81:\tlearn: 0.9681956\ttotal: 19.3s\tremaining: 4.25s\n",
            "82:\tlearn: 0.9653721\ttotal: 19.5s\tremaining: 4s\n",
            "83:\tlearn: 0.9630074\ttotal: 19.8s\tremaining: 3.77s\n",
            "84:\tlearn: 0.9616413\ttotal: 20s\tremaining: 3.53s\n",
            "85:\tlearn: 0.9606554\ttotal: 20.2s\tremaining: 3.29s\n",
            "86:\tlearn: 0.9596040\ttotal: 20.4s\tremaining: 3.05s\n",
            "87:\tlearn: 0.9586082\ttotal: 20.6s\tremaining: 2.81s\n",
            "88:\tlearn: 0.9577842\ttotal: 20.8s\tremaining: 2.57s\n",
            "89:\tlearn: 0.9565885\ttotal: 21s\tremaining: 2.33s\n",
            "90:\tlearn: 0.9550097\ttotal: 21.2s\tremaining: 2.1s\n",
            "91:\tlearn: 0.9537275\ttotal: 21.4s\tremaining: 1.86s\n",
            "92:\tlearn: 0.9516771\ttotal: 21.6s\tremaining: 1.63s\n",
            "93:\tlearn: 0.9508767\ttotal: 21.9s\tremaining: 1.4s\n",
            "94:\tlearn: 0.9494944\ttotal: 22.1s\tremaining: 1.16s\n",
            "95:\tlearn: 0.9476202\ttotal: 22.3s\tremaining: 928ms\n",
            "96:\tlearn: 0.9460591\ttotal: 22.5s\tremaining: 695ms\n",
            "97:\tlearn: 0.9444747\ttotal: 22.7s\tremaining: 463ms\n",
            "98:\tlearn: 0.9437809\ttotal: 22.9s\tremaining: 231ms\n",
            "99:\tlearn: 0.9415194\ttotal: 23.1s\tremaining: 0us\n",
            "\n",
            "Model Evaluation:\n",
            "Accuracy: 0.6935\n"
          ]
        }
      ]
    },
    {
      "cell_type": "markdown",
      "source": [
        "# Plotting feature importance"
      ],
      "metadata": {
        "id": "Pjilq2xA6mzG"
      }
    },
    {
      "cell_type": "code",
      "source": [
        "import matplotlib.pyplot as plt\n",
        "\n",
        "# Get feature importance\n",
        "feature_importance = model.feature_importances_\n",
        "feature_names = X_train_numeric.columns\n",
        "\n",
        "feature_importance = feature_importance[:-1]  # Remove the last element\n",
        "feature_names = feature_names[:-1]  # Remove the last feature name\n",
        "\n",
        "\n",
        "# Plot feature importance\n",
        "plt.figure(figsize=(10, 6))\n",
        "plt.barh(feature_names, feature_importance)\n",
        "plt.xlabel('Feature Importance')\n",
        "plt.ylabel('Features')\n",
        "plt.title('CatBoost Feature Importance')\n",
        "plt.show()\n"
      ],
      "metadata": {
        "id": "pJMWpWnx3z0p",
        "outputId": "b01376ec-a4e3-470b-8320-c3371992a611",
        "colab": {
          "base_uri": "https://localhost:8080/",
          "height": 564
        }
      },
      "execution_count": 20,
      "outputs": [
        {
          "output_type": "display_data",
          "data": {
            "text/plain": [
              "<Figure size 1000x600 with 1 Axes>"
            ],
            "image/png": "[encoded data removed]"
          },
          "metadata": {}
        }
      ]
    },
    {
      "cell_type": "markdown",
      "source": [
        "# Extracting and scaling data (Manually )"
      ],
      "metadata": {
        "id": "3LyQz1_U7_PQ"
      }
    },
    {
      "cell_type": "code",
      "source": [
        "# Convert 'LeaveYear' and 'LeaveMonth' to datetime\n",
        "data['LeaveDate'] = pd.to_datetime(data['LeaveYear'].astype(str) + '-' + data['LeaveMonth'].astype(str) + '-01')\n",
        "data = data.sort_values('LeaveDate')  # Sort by date\n",
        "\n",
        "# Choose a date to split the data into training and testing sets\n",
        "split_date = pd.to_datetime('2023-06-01')\n",
        "\n",
        "# Split the data based on the chosen date\n",
        "train_data = data[data['LeaveDate'] < split_date]\n",
        "test_data = data[data['LeaveDate'] >= split_date]\n",
        "\n",
        "# Extract features and target variable for training set\n",
        "X_train = train_data.drop(['LeavesNextMonth', 'TookLeaveNextMonth', 'LeaveDate'], axis=1)\n",
        "y_train = train_data['LeavesNextMonth']\n",
        "\n",
        "# Extract features and target variable for testing set\n",
        "X_test = test_data.drop(['LeavesNextMonth', 'TookLeaveNextMonth', 'LeaveDate'], axis=1)\n",
        "y_test = test_data['LeavesNextMonth']\n",
        "\n",
        "# Drop non-numeric columns before scaling\n",
        "X_train_numeric = X_train.select_dtypes(include=['number'])\n",
        "X_test_numeric = X_test.select_dtypes(include=['number'])\n",
        "\n",
        "# Feature scaling\n",
        "scaler = StandardScaler()\n",
        "X_train_scaled = scaler.fit_transform(X_train_numeric)\n",
        "X_test_scaled = scaler.transform(X_test_numeric)\n",
        "\n"
      ],
      "metadata": {
        "id": "xt7-OdgW7_Pl"
      },
      "execution_count": 21,
      "outputs": []
    },
    {
      "cell_type": "markdown",
      "source": [
        "# Create and train the Catboost classification model with increased iterations"
      ],
      "metadata": {
        "id": "xAdzodqSBXYq"
      }
    },
    {
      "cell_type": "code",
      "source": [
        "model = CatBoostClassifier(iterations=100,\n",
        "                           learning_rate=0.1,\n",
        "                           depth=6,\n",
        "                           loss_function='MultiClass')\n",
        "model.fit(X_train_scaled, y_train)\n",
        "\n",
        "# Make predictions on the test set\n",
        "y_pred = model.predict(X_test_scaled)\n",
        "probabilities = model.predict_proba(X_test_scaled)\n",
        "\n",
        "accuracy = accuracy_score(y_test, y_pred)\n",
        "\n",
        "\n",
        "# Display results\n",
        "print(\"\\nModel Evaluation:\")\n",
        "print(f\"Accuracy: {accuracy:.4f}\")\n"
      ],
      "metadata": {
        "id": "VLXvKMpr-vKA",
        "outputId": "e6e2da97-8db0-44fc-d0cc-9afa7db299aa",
        "colab": {
          "base_uri": "https://localhost:8080/"
        }
      },
      "execution_count": 23,
      "outputs": [
        {
          "output_type": "stream",
          "name": "stdout",
          "text": [
            "0:\tlearn: 2.8706036\ttotal: 200ms\tremaining: 19.8s\n",
            "1:\tlearn: 2.6789795\ttotal: 323ms\tremaining: 15.8s\n",
            "2:\tlearn: 2.5534423\ttotal: 429ms\tremaining: 13.9s\n",
            "3:\tlearn: 2.4556925\ttotal: 620ms\tremaining: 14.9s\n",
            "4:\tlearn: 2.3720191\ttotal: 826ms\tremaining: 15.7s\n",
            "5:\tlearn: 2.2934770\ttotal: 1.17s\tremaining: 18.4s\n",
            "6:\tlearn: 2.2326248\ttotal: 1.51s\tremaining: 20.1s\n",
            "7:\tlearn: 2.1790630\ttotal: 1.85s\tremaining: 21.3s\n",
            "8:\tlearn: 2.1358522\ttotal: 2.2s\tremaining: 22.2s\n",
            "9:\tlearn: 2.0977542\ttotal: 2.51s\tremaining: 22.6s\n",
            "10:\tlearn: 2.0676740\ttotal: 2.84s\tremaining: 23s\n",
            "11:\tlearn: 2.0385820\ttotal: 3.19s\tremaining: 23.4s\n",
            "12:\tlearn: 2.0134573\ttotal: 3.54s\tremaining: 23.7s\n",
            "13:\tlearn: 1.9840237\ttotal: 3.86s\tremaining: 23.7s\n",
            "14:\tlearn: 1.9666011\ttotal: 4.2s\tremaining: 23.8s\n",
            "15:\tlearn: 1.9501492\ttotal: 4.54s\tremaining: 23.9s\n",
            "16:\tlearn: 1.9380734\ttotal: 4.76s\tremaining: 23.2s\n",
            "17:\tlearn: 1.9237618\ttotal: 4.95s\tremaining: 22.5s\n",
            "18:\tlearn: 1.9083248\ttotal: 5.14s\tremaining: 21.9s\n",
            "19:\tlearn: 1.8939582\ttotal: 5.34s\tremaining: 21.4s\n",
            "20:\tlearn: 1.8809810\ttotal: 5.53s\tremaining: 20.8s\n",
            "21:\tlearn: 1.8671322\ttotal: 5.72s\tremaining: 20.3s\n",
            "22:\tlearn: 1.8553316\ttotal: 5.91s\tremaining: 19.8s\n",
            "23:\tlearn: 1.8479044\ttotal: 6.1s\tremaining: 19.3s\n",
            "24:\tlearn: 1.8415282\ttotal: 6.3s\tremaining: 18.9s\n",
            "25:\tlearn: 1.8348021\ttotal: 6.49s\tremaining: 18.5s\n",
            "26:\tlearn: 1.8240390\ttotal: 6.68s\tremaining: 18.1s\n",
            "27:\tlearn: 1.8187671\ttotal: 6.87s\tremaining: 17.7s\n",
            "28:\tlearn: 1.8130950\ttotal: 7.06s\tremaining: 17.3s\n",
            "29:\tlearn: 1.8078351\ttotal: 7.25s\tremaining: 16.9s\n",
            "30:\tlearn: 1.8027747\ttotal: 7.46s\tremaining: 16.6s\n",
            "31:\tlearn: 1.7949703\ttotal: 7.65s\tremaining: 16.2s\n",
            "32:\tlearn: 1.7879451\ttotal: 7.83s\tremaining: 15.9s\n",
            "33:\tlearn: 1.7834165\ttotal: 8.03s\tremaining: 15.6s\n",
            "34:\tlearn: 1.7795889\ttotal: 8.21s\tremaining: 15.3s\n",
            "35:\tlearn: 1.7755449\ttotal: 8.43s\tremaining: 15s\n",
            "36:\tlearn: 1.7707374\ttotal: 8.61s\tremaining: 14.7s\n",
            "37:\tlearn: 1.7657843\ttotal: 8.8s\tremaining: 14.4s\n",
            "38:\tlearn: 1.7622257\ttotal: 8.99s\tremaining: 14.1s\n",
            "39:\tlearn: 1.7588726\ttotal: 9.18s\tremaining: 13.8s\n",
            "40:\tlearn: 1.7544284\ttotal: 9.39s\tremaining: 13.5s\n",
            "41:\tlearn: 1.7509259\ttotal: 9.57s\tremaining: 13.2s\n",
            "42:\tlearn: 1.7430957\ttotal: 9.76s\tremaining: 12.9s\n",
            "43:\tlearn: 1.7354143\ttotal: 9.95s\tremaining: 12.7s\n",
            "44:\tlearn: 1.7322039\ttotal: 10.1s\tremaining: 12.4s\n",
            "45:\tlearn: 1.7283081\ttotal: 10.3s\tremaining: 12.1s\n",
            "46:\tlearn: 1.7248430\ttotal: 10.5s\tremaining: 11.9s\n",
            "47:\tlearn: 1.7210441\ttotal: 10.7s\tremaining: 11.6s\n",
            "48:\tlearn: 1.7166442\ttotal: 10.9s\tremaining: 11.4s\n",
            "49:\tlearn: 1.7138699\ttotal: 11.1s\tremaining: 11.1s\n",
            "50:\tlearn: 1.7106198\ttotal: 11.3s\tremaining: 10.9s\n",
            "51:\tlearn: 1.7065812\ttotal: 11.5s\tremaining: 10.6s\n",
            "52:\tlearn: 1.7018399\ttotal: 11.7s\tremaining: 10.4s\n",
            "53:\tlearn: 1.6993346\ttotal: 11.9s\tremaining: 10.1s\n",
            "54:\tlearn: 1.6988040\ttotal: 12s\tremaining: 9.85s\n",
            "55:\tlearn: 1.6962908\ttotal: 12.2s\tremaining: 9.61s\n",
            "56:\tlearn: 1.6943715\ttotal: 12.4s\tremaining: 9.37s\n",
            "57:\tlearn: 1.6903190\ttotal: 12.6s\tremaining: 9.14s\n",
            "58:\tlearn: 1.6888030\ttotal: 12.8s\tremaining: 8.9s\n",
            "59:\tlearn: 1.6847875\ttotal: 13s\tremaining: 8.67s\n",
            "60:\tlearn: 1.6827731\ttotal: 13.2s\tremaining: 8.44s\n",
            "61:\tlearn: 1.6796603\ttotal: 13.4s\tremaining: 8.21s\n",
            "62:\tlearn: 1.6748798\ttotal: 13.6s\tremaining: 8s\n",
            "63:\tlearn: 1.6733229\ttotal: 13.8s\tremaining: 7.76s\n",
            "64:\tlearn: 1.6697352\ttotal: 14s\tremaining: 7.54s\n",
            "65:\tlearn: 1.6659945\ttotal: 14.2s\tremaining: 7.3s\n",
            "66:\tlearn: 1.6643989\ttotal: 14.4s\tremaining: 7.08s\n",
            "67:\tlearn: 1.6619159\ttotal: 14.6s\tremaining: 6.86s\n",
            "68:\tlearn: 1.6581637\ttotal: 14.9s\tremaining: 6.68s\n",
            "69:\tlearn: 1.6544057\ttotal: 15.2s\tremaining: 6.53s\n",
            "70:\tlearn: 1.6528242\ttotal: 15.6s\tremaining: 6.36s\n",
            "71:\tlearn: 1.6498586\ttotal: 15.9s\tremaining: 6.17s\n",
            "72:\tlearn: 1.6474609\ttotal: 16.2s\tremaining: 5.99s\n",
            "73:\tlearn: 1.6458876\ttotal: 16.5s\tremaining: 5.81s\n",
            "74:\tlearn: 1.6437660\ttotal: 16.9s\tremaining: 5.63s\n",
            "75:\tlearn: 1.6412435\ttotal: 17.2s\tremaining: 5.44s\n",
            "76:\tlearn: 1.6394752\ttotal: 17.7s\tremaining: 5.27s\n",
            "77:\tlearn: 1.6372973\ttotal: 18.6s\tremaining: 5.24s\n",
            "78:\tlearn: 1.6354471\ttotal: 18.8s\tremaining: 5s\n",
            "79:\tlearn: 1.6326823\ttotal: 19s\tremaining: 4.75s\n",
            "80:\tlearn: 1.6308181\ttotal: 19.5s\tremaining: 4.57s\n",
            "81:\tlearn: 1.6294204\ttotal: 19.9s\tremaining: 4.36s\n",
            "82:\tlearn: 1.6272327\ttotal: 20s\tremaining: 4.11s\n",
            "83:\tlearn: 1.6257816\ttotal: 20.3s\tremaining: 3.86s\n",
            "84:\tlearn: 1.6226596\ttotal: 20.8s\tremaining: 3.68s\n",
            "85:\tlearn: 1.6212739\ttotal: 21.2s\tremaining: 3.45s\n",
            "86:\tlearn: 1.6185244\ttotal: 21.4s\tremaining: 3.19s\n",
            "87:\tlearn: 1.6166307\ttotal: 21.7s\tremaining: 2.96s\n",
            "88:\tlearn: 1.6150397\ttotal: 21.9s\tremaining: 2.71s\n",
            "89:\tlearn: 1.6131687\ttotal: 22.1s\tremaining: 2.46s\n",
            "90:\tlearn: 1.6111102\ttotal: 22.4s\tremaining: 2.21s\n",
            "91:\tlearn: 1.6086399\ttotal: 22.6s\tremaining: 1.96s\n",
            "92:\tlearn: 1.6053169\ttotal: 22.9s\tremaining: 1.73s\n",
            "93:\tlearn: 1.6040614\ttotal: 23.2s\tremaining: 1.48s\n",
            "94:\tlearn: 1.6015806\ttotal: 23.4s\tremaining: 1.23s\n",
            "95:\tlearn: 1.5998587\ttotal: 23.6s\tremaining: 984ms\n",
            "96:\tlearn: 1.5990200\ttotal: 23.9s\tremaining: 738ms\n",
            "97:\tlearn: 1.5977993\ttotal: 24.1s\tremaining: 492ms\n",
            "98:\tlearn: 1.5957158\ttotal: 24.3s\tremaining: 246ms\n",
            "99:\tlearn: 1.5936213\ttotal: 24.7s\tremaining: 0us\n",
            "\n",
            "Model Evaluation:\n",
            "Accuracy: 0.6605\n"
          ]
        }
      ]
    }
  ],
  "metadata": {
    "colab": {
      "collapsed_sections": [
        "CObuz32sq9kh"
      ],
      "provenance": [],
      "include_colab_link": true
    },
    "kernelspec": {
      "display_name": "Python 3",
      "name": "python3"
    },
    "language_info": {
      "name": "python"
    }
  },
  "nbformat": 4,
  "nbformat_minor": 0
}