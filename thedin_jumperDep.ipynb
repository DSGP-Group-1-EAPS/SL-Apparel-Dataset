{
  "nbformat": 4,
  "nbformat_minor": 0,
  "metadata": {
    "colab": {
      "provenance": [],
      "authorship_tag": "ABX9TyOZQqBwHMARTX+BHVT3lZxO",
      "include_colab_link": true
    },
    "kernelspec": {
      "name": "python3",
      "display_name": "Python 3"
    },
    "language_info": {
      "name": "python"
    }
  },
  "cells": [
    {
      "cell_type": "markdown",
      "metadata": {
        "id": "view-in-github",
        "colab_type": "text"
      },
      "source": [
        "<a href=\"https://colab.research.google.com/github/DSGP-Group-1-EAPS/SL-Apparel-Dataset/blob/Thedin-Bandara/thedin_jumperDep.ipynb\" target=\"_parent\"><img src=\"https://colab.research.google.com/assets/colab-badge.svg\" alt=\"Open In Colab\"/></a>"
      ]
    },
    {
      "cell_type": "code",
      "execution_count": 1,
      "metadata": {
        "id": "oQ7iqIUXYuLG"
      },
      "outputs": [],
      "source": [
        "import pandas as pd\n",
        "from statsmodels.tsa.arima.model import ARIMA\n",
        "from sklearn.metrics import mean_squared_error\n",
        "import numpy as np\n",
        "import matplotlib.pyplot as plt\n",
        "from google.colab import drive\n",
        "from statsmodels.tsa.stattools import adfuller\n"
      ]
    },
    {
      "cell_type": "code",
      "source": [
        "# Specify the file path\n",
        "!ls -l $file_path\n",
        "file_path = 'preprocessed_data_new.xlsx'\n",
        "\n",
        "# Load preprocessed data from Excel file\n",
        "file_path = 'preprocessed_data_new.xlsx'\n",
        "data = pd.read_excel(file_path)"
      ],
      "metadata": {
        "id": "t-qJMMnmY6Zy"
      },
      "execution_count": null,
      "outputs": []
    },
    {
      "cell_type": "code",
      "source": [
        "# Define a mapping of sub-departments to main departments\n",
        "sub_dept_to_main_dept = {\n",
        "    'jumper Team': [sub_dept for sub_dept in data['Department'] if sub_dept.startswith('jumper Team')],\n",
        "}\n",
        "\n",
        "# Map each sub-department to its main department\n",
        "main_dept_for_sub_dept = {}\n",
        "for main_dept, sub_depts in sub_dept_to_main_dept.items():\n",
        "    for sub_dept in sub_depts:\n",
        "        main_dept_for_sub_dept[sub_dept] = main_dept\n",
        "\n",
        "# Add a new column indicating the main department for each row\n",
        "data['MainDepartment'] = data['Department'].map(main_dept_for_sub_dept)\n",
        "\n",
        "# Summarize total absence by main department\n",
        "total_absence_by_main_dept = data.groupby(['LeaveYear','LeaveMonth','MainDepartment']).size().reset_index(name='totalAbsence')\n",
        "print(total_absence_by_main_dept)\n",
        "\n",
        "# # Pivot table to have main department as columns and date as index\n",
        "# pivot_table = total_absence_by_main_dept.pivot(index='Date', columns='MainDepartment', values='NumOfLeaveDays')\n",
        "\n",
        "# # Fill missing values with 0\n",
        "# pivot_table.fillna(0, inplace=True)\n",
        "\n",
        "# Visualize the data\n",
        "plt.figure(figsize=(10, 6))\n",
        "plt.plot(total_absence_by_main_dept['totalAbsence'])\n",
        "plt.title('Total Absence by Main Department Over Time')\n",
        "plt.xlabel('Date')\n",
        "plt.ylabel('Total Absence Days')\n",
        "plt.legend(title='Main Department')\n",
        "plt.show()\n",
        "\n",
        "# Check for stationarity\n",
        "def adf_test(timeseries):\n",
        "    # Perform Dickey-Fuller test\n",
        "    result = adfuller(timeseries)\n",
        "    print('ADF Statistic:', result[0])\n",
        "    print('p-value:', result[1])\n",
        "    print('Critical Values:')\n",
        "    for key, value in result[4].items():\n",
        "        print('\\t%s: %.3f' % (key, value))\n",
        "\n",
        "\n",
        "# Train-test split\n",
        "train_size = int(len(total_absence_by_main_dept['totalAbsence']) * 0.8)\n",
        "train, test = total_absence_by_main_dept['totalAbsence'].iloc[:train_size], total_absence_by_main_dept['totalAbsence'].iloc[train_size:]\n",
        "\n",
        "# # Fit ARIMA model for each main department\n",
        "model = ARIMA(train, order=(5,6,1))\n",
        "model_fit = model.fit()\n",
        "print(model_fit.summary())\n",
        "\n",
        "forecast = model_fit.forecast(steps=len(test))\n",
        "print(forecast)\n",
        "\n",
        "mse = mean_squared_error(test, forecast)\n",
        "print(\"MSE : \", mse)\n",
        "\n",
        "rsme = np.sqrt(mse)\n",
        "print(\"RSME : \", rsme)\n",
        "\n",
        "plt.plot(test, label=\"Actual\")\n",
        "plt.plot(forecast, label=\"Forecast\", color=\"red\")\n",
        "plt.legend()\n",
        "plt.show()\n",
        "\n",
        "\n"
      ],
      "metadata": {
        "id": "5IvH04fMY8R7"
      },
      "execution_count": null,
      "outputs": []
    }
  ]
}