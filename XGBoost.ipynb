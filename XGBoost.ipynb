{
  "nbformat": 4,
  "nbformat_minor": 0,
  "metadata": {
    "colab": {
      "provenance": [],
      "authorship_tag": "ABX9TyN6cVGQlHViYdgbaQRRgaZ6",
      "include_colab_link": true
    },
    "kernelspec": {
      "name": "python3",
      "display_name": "Python 3"
    },
    "language_info": {
      "name": "python"
    }
  },
  "cells": [
    {
      "cell_type": "markdown",
      "metadata": {
        "id": "view-in-github",
        "colab_type": "text"
      },
      "source": [
        "<a href=\"https://colab.research.google.com/github/DSGP-Group-1-EAPS/SL-Apparel-Dataset/blob/Kavindu-Deshanjana/XGBoost.ipynb\" target=\"_parent\"><img src=\"https://colab.research.google.com/assets/colab-badge.svg\" alt=\"Open In Colab\"/></a>"
      ]
    },
    {
      "cell_type": "markdown",
      "source": [
        "## Importing nesassary libraries"
      ],
      "metadata": {
        "id": "_bV7sGx5k9kv"
      }
    },
    {
      "cell_type": "code",
      "execution_count": 1,
      "metadata": {
        "id": "pNGc2z7bk3rd"
      },
      "outputs": [],
      "source": [
        "import pandas as pd\n",
        "import numpy as np\n",
        "import matplotlib.pyplot as plt\n",
        "import seaborn as sns\n",
        "from sklearn.model_selection import train_test_split\n",
        "from sklearn.preprocessing import LabelEncoder\n",
        "import xgboost as xgb\n",
        "from sklearn.metrics import mean_squared_error\n",
        "from google.colab import drive\n",
        "from sklearn.metrics import mean_absolute_error, r2_score, mean_squared_log_error, explained_variance_score\n"
      ]
    },
    {
      "cell_type": "markdown",
      "source": [
        "### Data Preprocessing"
      ],
      "metadata": {
        "id": "-Eftw00DlbPZ"
      }
    },
    {
      "cell_type": "code",
      "source": [
        "# Mounting the Google Drive\n",
        "drive.mount('/content/drive')\n",
        "\n",
        "# Reading the preprocessed data from the specified location\n",
        "data = pd.read_excel('/content/drive/MyDrive/DSGP_COURSEWORK/SL Apparel Dataset model/Dataset/preprocessed_data_new.xlsx')\n",
        "\n",
        "def onehot_encode(df, column, prefix):\n",
        "    df = df.copy()\n",
        "\n",
        "    dummies = pd.get_dummies(df[column], prefix=prefix)\n",
        "    df = pd.concat([df, dummies], axis=1)\n",
        "    df = df.drop(column, axis=1)\n",
        "\n",
        "    return df\n",
        "\n",
        "\n",
        "def preprocess_inputs(df):\n",
        "    df = df.copy()\n",
        "\n",
        "    # Drop ID columns\n",
        "    df = df.drop('Date', axis=1)\n",
        "    df = df.drop('Code', axis=1)\n",
        "    df = df.drop('Shift', axis=1)\n",
        "    df = df.drop('Department', axis=1)\n",
        "    df = df.drop('Absenteeism Type', axis=1)\n",
        "    df = df.drop('Status', axis=1)\n",
        "    df = df.drop('Leave Type', axis=1)\n",
        "    df = df.drop('Absent/Present', axis=1)\n",
        "    df = df.drop('Reason', axis=1)\n",
        "    df = df.drop('Joined Date', axis=1)\n",
        "    df = df.drop('TargetCategory', axis=1)\n",
        "    df = df.drop('TookLeaveNextMonth', axis=1)\n",
        "    # One-hot encode the reason column\n",
        "    df = onehot_encode(\n",
        "        df,\n",
        "        column='Encoded Reason',\n",
        "        prefix='Reason'\n",
        "    )"
      ],
      "metadata": {
        "colab": {
          "base_uri": "https://localhost:8080/"
        },
        "id": "Unomp-PslezF",
        "outputId": "6eb8fdcf-7f2a-47b0-ab4c-cdeb2162db01"
      },
      "execution_count": 10,
      "outputs": [
        {
          "output_type": "stream",
          "name": "stdout",
          "text": [
            "Drive already mounted at /content/drive; to attempt to forcibly remount, call drive.mount(\"/content/drive\", force_remount=True).\n"
          ]
        }
      ]
    },
    {
      "cell_type": "markdown",
      "source": [
        "### Training the Model\n"
      ],
      "metadata": {
        "id": "wc-pTo8zmQuo"
      }
    },
    {
      "cell_type": "code",
      "source": [
        "\n",
        "# Define features and target variable\n",
        "features = ['Encoded Reason', 'Encoded Status', 'Encoded Absenteeism Type', 'Encoded Shift', 'DaysWorked', 'DayOfWeek', 'LeaveMonth', 'LeaveYear', 'NumOfLeaveDays']\n",
        "target = 'LeavesNextMonth'\n",
        "\n",
        "# Split data into training and testing sets\n",
        "train = df[df['Date'] <= '2022-12-31']\n",
        "test = df[df['Date'] > '2022-12-31']\n",
        "\n",
        "# Define features and target variables for training and testing\n",
        "X_train = train[features]\n",
        "y_train = train[target]\n",
        "\n",
        "X_test = test[features]\n",
        "y_test = test[target]\n",
        "\n",
        "# Train the XGBoost regression model\n",
        "reg = xgb.XGBRegressor(base_score=0.5, booster='gbtree',\n",
        "                        n_estimators=1000,\n",
        "                        early_stopping_rounds=50,\n",
        "                        max_depth=3,\n",
        "                        learning_rate=0.01)\n",
        "reg.fit(X_train, y_train,\n",
        "        eval_set=[(X_train, y_train), (X_test, y_test)],\n",
        "        eval_metric='rmse',\n",
        "        verbose=100)\n",
        "\n",
        "# Plot feature importance\n",
        "fi = pd.DataFrame(data=reg.feature_importances_,\n",
        "                  index=features,\n",
        "                  columns=['importance'])\n",
        "fi.sort_values('importance').plot(kind='barh', title='Feature Importance')\n",
        "plt.show()\n",
        "\n",
        "# Make predictions on the test set\n",
        "predictions = reg.predict(X_test)\n",
        "\n",
        "# Round up predicted days to nearest whole number\n",
        "predictions_rounded = np.ceil(predictions)\n",
        "\n",
        "# Calculate RMSE\n",
        "rmse = np.sqrt(mean_squared_error(y_test, predictions))\n",
        "print(f'Root Mean Squared Error: {rmse:.2f}')\n",
        "\n",
        "# Employees predicted to be absent next month with predicted number of days\n",
        "predicted_absentees = pd.DataFrame({'Code': test['Code'], 'PredictedAbsentDays': predictions_rounded, 'Actual': test['LeavesNextMonth']})\n",
        "print(\"Employees' IDs predicted to be absent next month with predicted number of days (rounded up):\")\n",
        "print(predicted_absentees)\n",
        "\n",
        "# Calculate Mean Absolute Error (MAE)\n",
        "mae = mean_absolute_error(y_test, predictions)\n",
        "print(f'Mean Absolute Error: {mae:.2f}')\n",
        "\n",
        "# Calculate R-squared (R2)\n",
        "r2 = r2_score(y_test, predictions)\n",
        "print(f'R-squared (R2): {r2:.2f}')\n",
        "\n",
        "# Calculate Mean Squared Logarithmic Error (MSLE)\n",
        "msle = mean_squared_log_error(y_test, predictions)\n",
        "print(f'Mean Squared Logarithmic Error (MSLE): {msle:.5f}')\n",
        "\n",
        "# Calculate Explained Variance Score\n",
        "explained_variance = explained_variance_score(y_test, predictions)\n",
        "print(f'Explained Variance Score: {explained_variance:.2f}')\n",
        "\n",
        "\n",
        "# Importing accuracy_score from sklearn.metrics\n",
        "from sklearn.metrics import accuracy_score\n",
        "\n",
        "# Calculate accuracy\n",
        "accuracy = accuracy_score(test['LeavesNextMonth'], predictions_rounded)\n",
        "print(f'Accuracy: {accuracy * 100:.2f}%')\n"
      ],
      "metadata": {
        "colab": {
          "base_uri": "https://localhost:8080/",
          "height": 923
        },
        "id": "4XdAAKjnmUcK",
        "outputId": "a4401de2-a571-4951-aad3-dfeceb351f90"
      },
      "execution_count": 5,
      "outputs": [
        {
          "output_type": "stream",
          "name": "stdout",
          "text": [
            "[0]\tvalidation_0-rmse:9.59541\tvalidation_1-rmse:5.89505\n"
          ]
        },
        {
          "output_type": "stream",
          "name": "stderr",
          "text": [
            "/usr/local/lib/python3.10/dist-packages/xgboost/sklearn.py:889: UserWarning: `eval_metric` in `fit` method is deprecated for better compatibility with scikit-learn, use `eval_metric` in constructor or`set_params` instead.\n",
            "  warnings.warn(\n"
          ]
        },
        {
          "output_type": "stream",
          "name": "stdout",
          "text": [
            "[100]\tvalidation_0-rmse:7.47093\tvalidation_1-rmse:5.37328\n",
            "[113]\tvalidation_0-rmse:7.36684\tvalidation_1-rmse:5.40688\n"
          ]
        },
        {
          "output_type": "display_data",
          "data": {
            "text/plain": [
              "<Figure size 640x480 with 1 Axes>"
            ],
            "image/png": "[encoded data removed]"
          },
          "metadata": {}
        },
        {
          "output_type": "stream",
          "name": "stdout",
          "text": [
            "Root Mean Squared Error: 5.30\n",
            "Employees' IDs predicted to be absent next month with predicted number of days (rounded up):\n",
            "         Code  PredictedAbsentDays  Actual\n",
            "27747  AA3785                  7.0       1\n",
            "27748  AA2316                  7.0       0\n",
            "27749  AA2585                  7.0       0\n",
            "27750   AA594                  7.0       0\n",
            "27751  AA1465                  7.0       1\n",
            "...       ...                  ...     ...\n",
            "40661  AA2212                  2.0       0\n",
            "40662   AA723                  2.0       0\n",
            "40663  AA1280                  2.0       0\n",
            "40664  AA1964                  2.0       0\n",
            "40665    AA12                  2.0       0\n",
            "\n",
            "[12919 rows x 3 columns]\n",
            "Mean Absolute Error: 3.35\n",
            "R-squared (R2): 0.08\n",
            "Mean Squared Logarithmic Error (MSLE): 1.18062\n",
            "Explained Variance Score: 0.08\n",
            "Accuracy: 4.67%\n"
          ]
        }
      ]
    },
    {
      "cell_type": "code",
      "source": [],
      "metadata": {
        "colab": {
          "base_uri": "https://localhost:8080/",
          "height": 210
        },
        "id": "Yhc4Uv-mm889",
        "outputId": "28b347ec-a053-493c-a581-435b61f5e345"
      },
      "execution_count": 12,
      "outputs": [
        {
          "output_type": "error",
          "ename": "TypeError",
          "evalue": "cannot unpack non-iterable NoneType object",
          "traceback": [
            "\u001b[0;31m---------------------------------------------------------------------------\u001b[0m",
            "\u001b[0;31mTypeError\u001b[0m                                 Traceback (most recent call last)",
            "\u001b[0;32m<ipython-input-12-fdfe66de89a8>\u001b[0m in \u001b[0;36m<cell line: 7>\u001b[0;34m()\u001b[0m\n\u001b[1;32m      5\u001b[0m \u001b[0;34m\u001b[0m\u001b[0m\n\u001b[1;32m      6\u001b[0m \u001b[0mdata\u001b[0m \u001b[0;34m=\u001b[0m \u001b[0mdata\u001b[0m\u001b[0;34m[\u001b[0m\u001b[0mdata\u001b[0m\u001b[0;34m[\u001b[0m\u001b[0;34m'Date'\u001b[0m\u001b[0;34m]\u001b[0m \u001b[0;34m<\u001b[0m \u001b[0;34m'2023-12-01'\u001b[0m\u001b[0;34m]\u001b[0m\u001b[0;34m\u001b[0m\u001b[0;34m\u001b[0m\u001b[0m\n\u001b[0;32m----> 7\u001b[0;31m \u001b[0mX_train\u001b[0m\u001b[0;34m,\u001b[0m \u001b[0mX_test\u001b[0m\u001b[0;34m,\u001b[0m \u001b[0my_train\u001b[0m\u001b[0;34m,\u001b[0m \u001b[0my_test\u001b[0m \u001b[0;34m=\u001b[0m \u001b[0mpreprocess_inputs\u001b[0m\u001b[0;34m(\u001b[0m\u001b[0mdata\u001b[0m\u001b[0;34m)\u001b[0m\u001b[0;34m\u001b[0m\u001b[0;34m\u001b[0m\u001b[0m\n\u001b[0m",
            "\u001b[0;31mTypeError\u001b[0m: cannot unpack non-iterable NoneType object"
          ]
        }
      ]
    },
    {
      "cell_type": "markdown",
      "source": [
        "Ranidus code"
      ],
      "metadata": {
        "id": "LW81vyyN-T4R"
      }
    },
    {
      "cell_type": "code",
      "source": [],
      "metadata": {
        "colab": {
          "base_uri": "https://localhost:8080/",
          "height": 210
        },
        "id": "9J4lzYT--TTJ",
        "outputId": "faef6b94-c762-4baa-b70a-baf561b7632b"
      },
      "execution_count": 1,
      "outputs": [
        {
          "output_type": "error",
          "ename": "ModuleNotFoundError",
          "evalue": "No module named 'catboost'",
          "traceback": [
            "\u001b[0;31m---------------------------------------------------------------------------\u001b[0m",
            "\u001b[0;31mModuleNotFoundError\u001b[0m                       Traceback (most recent call last)",
            "\u001b[0;32m<ipython-input-1-1b4cf28f0b1d>\u001b[0m in \u001b[0;36m<cell line: 18>\u001b[0;34m()\u001b[0m\n\u001b[1;32m     16\u001b[0m \u001b[0;32mfrom\u001b[0m \u001b[0mxgboost\u001b[0m \u001b[0;32mimport\u001b[0m \u001b[0mXGBRegressor\u001b[0m\u001b[0;34m\u001b[0m\u001b[0;34m\u001b[0m\u001b[0m\n\u001b[1;32m     17\u001b[0m \u001b[0;32mfrom\u001b[0m \u001b[0mlightgbm\u001b[0m \u001b[0;32mimport\u001b[0m \u001b[0mLGBMRegressor\u001b[0m\u001b[0;34m\u001b[0m\u001b[0;34m\u001b[0m\u001b[0m\n\u001b[0;32m---> 18\u001b[0;31m \u001b[0;32mfrom\u001b[0m \u001b[0mcatboost\u001b[0m \u001b[0;32mimport\u001b[0m \u001b[0mCatBoostRegressor\u001b[0m\u001b[0;34m\u001b[0m\u001b[0;34m\u001b[0m\u001b[0m\n\u001b[0m",
            "\u001b[0;31mModuleNotFoundError\u001b[0m: No module named 'catboost'"
          ]
        }
      ]
    },
    {
      "cell_type": "code",
      "source": [
        "import pandas as pd\n",
        "import numpy as np\n",
        "from google.colab import drive\n",
        "from sklearn.model_selection import train_test_split\n",
        "from xgboost import XGBRegressor\n",
        "from sklearn.metrics import accuracy_score\n",
        "from sklearn.metrics import mean_absolute_error, r2_score, mean_squared_log_error, explained_variance_score\n",
        "\n",
        "# Mounting the Google Drive\n",
        "drive.mount('/content/drive')\n",
        "\n",
        "# Load the preprocessed data\n",
        "data = pd.read_excel('/content/drive/MyDrive/DSGP_COURSEWORK/SL Apparel Dataset model/Dataset/preprocessed_data_new.xlsx')\n",
        "\n",
        "def onehot_encode(df, column, prefix):\n",
        "    df = df.copy()\n",
        "\n",
        "    dummies = pd.get_dummies(df[column], prefix=prefix)\n",
        "    df = pd.concat([df, dummies], axis=1)\n",
        "    df = df.drop(column, axis=1)\n",
        "\n",
        "    return df\n",
        "\n",
        "def preprocess_inputs(df):\n",
        "    df = df.copy()\n",
        "\n",
        "    # Drop unnecessary columns\n",
        "    columns_to_drop = ['Date', 'Code', 'Shift', 'Department', 'Absenteeism Type', 'Status', 'Leave Type',\n",
        "                       'Absent/Present', 'Reason', 'Joined Date', 'TargetCategory', 'TookLeaveNextMonth']\n",
        "    df = df.drop(columns_to_drop, axis=1)\n",
        "\n",
        "    # One-hot encode the reason column\n",
        "    df = onehot_encode(df, column='Encoded Reason', prefix='Reason')\n",
        "\n",
        "    # Split df into X and y\n",
        "    y = df['LeavesNextMonth'].copy()\n",
        "    X = df.drop('LeavesNextMonth', axis=1)\n",
        "\n",
        "    # Train-test split\n",
        "    X_train, X_test, y_train, y_test = train_test_split(X, y, train_size=0.8, random_state=123)\n",
        "\n",
        "    return X_train, X_test, y_train, y_test\n",
        "\n",
        "# Preprocess data\n",
        "data = data[data['Date'] < '2023-12-01']\n",
        "X_train, X_test, y_train, y_test = preprocess_inputs(data)\n",
        "\n",
        "# Train the XGBoost regression model\n",
        "xgb_model = XGBRegressor()\n",
        "xgb_model.fit(X_train, y_train)\n",
        "\n",
        "# Make predictions on the test set\n",
        "predictions = xgb_model.predict(X_test)\n",
        "\n",
        "# Define a function to map predicted values to classes\n",
        "def map_to_class(value):\n",
        "    if value is None:\n",
        "        return 'Unknown'\n",
        "    elif value >= 2:\n",
        "        return 'B'\n",
        "    else:\n",
        "        return 'A'\n",
        "\n",
        "# Map predicted values to classes\n",
        "predicted_classes = [map_to_class(value) for value in predictions]\n",
        "\n",
        "# Calculate R-squared (R2)\n",
        "r2 = r2_score(y_test, predictions)\n",
        "print(f'R-squared (R2): {r2:.2f}')\n",
        "\n",
        "# Make predictions on the test data\n",
        "predictions_rf = xgb_model.predict(X_test)\n",
        "actual_classes = [map_to_class(value) for value in y_test]\n",
        "\n",
        "# Map predicted values to classes\n",
        "predicted_classes_rf = [map_to_class(value) for value in predictions_rf]\n",
        "results_df = pd.DataFrame({'Actual': y_test, 'Predicted': predictions_rf})\n",
        "# Create a DataFrame to display actual and predicted values\n",
        "results_classified_df = pd.DataFrame({'Actual': actual_classes, 'Predicted': predicted_classes_rf})\n",
        "\n",
        "# Calculate accuracy\n",
        "accuracy_rf = accuracy_score(actual_classes, predicted_classes_rf)\n",
        "\n",
        "# Map predicted values to classes\n",
        "predicted_classes_rf = [map_to_class(value) for value in predictions_rf if value is not None]\n",
        "actual_classes_filtered = [actual for idx, actual in enumerate(actual_classes) if predictions_rf[idx] is not None]\n",
        "\n",
        "# Calculate accuracy\n",
        "accuracy_rf = accuracy_score(actual_classes_filtered, predicted_classes_rf)\n",
        "\n",
        "\n",
        "print(\"Actual values and predictions:\")\n",
        "print(results_df)\n",
        "print(\"\\n\\nAccuracy of Predicted Classes (XGBoost):\", accuracy_rf)\n",
        "\n",
        "# Display the DataFrame\n",
        "print(results_classified_df)\n"
      ],
      "metadata": {
        "colab": {
          "base_uri": "https://localhost:8080/"
        },
        "id": "0-9Gt0v--Yxd",
        "outputId": "dc8778ae-5e1b-458d-cfad-9f4db79ce6ae"
      },
      "execution_count": 18,
      "outputs": [
        {
          "output_type": "stream",
          "name": "stdout",
          "text": [
            "Drive already mounted at /content/drive; to attempt to forcibly remount, call drive.mount(\"/content/drive\", force_remount=True).\n",
            "R-squared (R2): 0.56\n",
            "Actual values and predictions:\n",
            "       Actual  Predicted\n",
            "29176       0   1.509778\n",
            "15446       1   5.726143\n",
            "28579       0   0.969079\n",
            "27999       0   1.434221\n",
            "3763        0   2.794360\n",
            "...       ...        ...\n",
            "36030      16   4.634670\n",
            "9579        0   4.342109\n",
            "6868        1   6.416487\n",
            "30861       7   2.617118\n",
            "849         1   6.177671\n",
            "\n",
            "[7949 rows x 2 columns]\n",
            "\n",
            "\n",
            "Accuracy of Predicted Classes (XGBoost): 0.6672537426091332\n",
            "     Actual Predicted\n",
            "0         A         A\n",
            "1         A         B\n",
            "2         A         A\n",
            "3         A         A\n",
            "4         A         B\n",
            "...     ...       ...\n",
            "7944      B         B\n",
            "7945      A         B\n",
            "7946      A         B\n",
            "7947      B         B\n",
            "7948      A         B\n",
            "\n",
            "[7949 rows x 2 columns]\n"
          ]
        }
      ]
    }
  ]
}