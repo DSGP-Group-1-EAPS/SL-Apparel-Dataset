{
  "nbformat": 4,
  "nbformat_minor": 0,
  "metadata": {
    "colab": {
      "provenance": [],
      "authorship_tag": "ABX9TyPUuPZbZUim2jABz4EA1kIZ",
      "include_colab_link": true
    },
    "kernelspec": {
      "name": "python3",
      "display_name": "Python 3"
    },
    "language_info": {
      "name": "python"
    }
  },
  "cells": [
    {
      "cell_type": "markdown",
      "metadata": {
        "id": "view-in-github",
        "colab_type": "text"
      },
      "source": [
        "<a href=\"https://colab.research.google.com/github/DSGP-Group-1-EAPS/SL-Apparel-Dataset/blob/Ranidu-Gurusinghe/ARIMA_and_Random_Forest_Classifier.ipynb\" target=\"_parent\"><img src=\"https://colab.research.google.com/assets/colab-badge.svg\" alt=\"Open In Colab\"/></a>"
      ]
    },
    {
      "cell_type": "markdown",
      "source": [
        "##Importing Libraries"
      ],
      "metadata": {
        "id": "7cC-0PGMSjsD"
      }
    },
    {
      "cell_type": "code",
      "execution_count": 353,
      "metadata": {
        "id": "rckwCeHvSOhE"
      },
      "outputs": [],
      "source": [
        "from google.colab import drive\n",
        "import pandas as pd\n"
      ]
    },
    {
      "cell_type": "markdown",
      "source": [
        "##Loading Data"
      ],
      "metadata": {
        "id": "AYFWG-5jSm8Z"
      }
    },
    {
      "cell_type": "code",
      "source": [
        "# Mount Google Drive\n",
        "drive.mount('/content/drive')\n",
        "\n",
        "# Load the preprocessed data from Excel file\n",
        "file_path = '/content/drive/MyDrive/Colab Notebooks/DSGP_COURSEWORK/SL Apparel Dataset model/Dataset/preprocessed_data_new.xlsx'\n",
        "data = pd.read_excel(file_path)\n",
        "\n",
        "# Display the loaded data\n",
        "print(data.head())"
      ],
      "metadata": {
        "colab": {
          "base_uri": "https://localhost:8080/"
        },
        "id": "_b-VVr9xTPu7",
        "outputId": "657ddcfd-3cc2-46f6-86a1-c162c74ce65b"
      },
      "execution_count": 352,
      "outputs": [
        {
          "output_type": "stream",
          "name": "stdout",
          "text": [
            "Drive already mounted at /content/drive; to attempt to forcibly remount, call drive.mount(\"/content/drive\", force_remount=True).\n",
            "        Date    Shift   Code          Department Absenteeism Type    Status  \\\n",
            "0 2021-12-01  Shift A  AA369  Team - MAT 4A - BD         Informed  Notified   \n",
            "1 2021-12-01  Shift A  AA362  Team - MAT 4A - BD         Informed  Notified   \n",
            "2 2021-12-01  Shift A  AA359  Team - MAT 4A - BD         Informed  Notified   \n",
            "3 2021-12-01  Shift A  AA541  Team - MAT 4A - BD         Informed  Notified   \n",
            "4 2021-12-01  Shift A  AA398  Team - MAT 3A - BD         Informed  Notified   \n",
            "\n",
            "   Leave Type Absent/Present     Reason Joined Date  ...  LeaveMonth  \\\n",
            "0           1            MAT  Maternity  2015-09-11  ...          12   \n",
            "1           1            MAT  Maternity  2018-11-14  ...          12   \n",
            "2           1            MAT  Maternity  2019-10-09  ...          12   \n",
            "3           1            MAT  Maternity  2020-10-02  ...          12   \n",
            "4           1            MAT  Maternity  2008-02-29  ...          12   \n",
            "\n",
            "   Encoded Reason  Encoded Status  Encoded Absenteeism Type  Encoded Shift  \\\n",
            "0              11               1                         0              0   \n",
            "1              11               1                         0              0   \n",
            "2              11               1                         0              0   \n",
            "3              11               1                         0              0   \n",
            "4              11               1                         0              0   \n",
            "\n",
            "   LeaveYear  NumOfLeaveDays  TookLeaveNextMonth  LeavesNextMonth  \\\n",
            "0       2021               4                   0                0   \n",
            "1       2021               4                   1               24   \n",
            "2       2021               4                   1               16   \n",
            "3       2021               4                   1                2   \n",
            "4       2021               4                   1                1   \n",
            "\n",
            "   TargetCategory  \n",
            "0               A  \n",
            "1               B  \n",
            "2               B  \n",
            "3               A  \n",
            "4               A  \n",
            "\n",
            "[5 rows x 23 columns]\n"
          ]
        }
      ]
    },
    {
      "cell_type": "code",
      "source": [
        "unique_employee_codes = data['Code'].unique()\n",
        "print(unique_employee_codes)"
      ],
      "metadata": {
        "colab": {
          "base_uri": "https://localhost:8080/"
        },
        "id": "vZ1HA7FfT_vS",
        "outputId": "2727e96d-70e5-4ec0-fbf7-263cdd9e2170"
      },
      "execution_count": 354,
      "outputs": [
        {
          "output_type": "stream",
          "name": "stdout",
          "text": [
            "['AA369' 'AA362' 'AA359' ... 'AA2313' 'AA3449' 'AA4244']\n"
          ]
        }
      ]
    },
    {
      "cell_type": "code",
      "source": [
        "leave_days_AA369 = data[data['Code'] == 'AA359'][['LeaveYear','LeaveMonth']]\n",
        "print(leave_days_AA369)\n"
      ],
      "metadata": {
        "colab": {
          "base_uri": "https://localhost:8080/"
        },
        "id": "EMbbcfCiUbHn",
        "outputId": "9bab135b-a450-4044-ccbd-c5baba495f01"
      },
      "execution_count": 355,
      "outputs": [
        {
          "output_type": "stream",
          "name": "stdout",
          "text": [
            "       LeaveYear  LeaveMonth\n",
            "2           2021          12\n",
            "403         2021          12\n",
            "933         2021          12\n",
            "1700        2021          12\n",
            "1814        2021          12\n",
            "1820        2021          12\n",
            "3020        2021          12\n",
            "3192        2022           1\n",
            "3723        2022           1\n",
            "4206        2022           1\n",
            "12343       2022           5\n",
            "12344       2022           5\n",
            "13962       2022           5\n",
            "13963       2022           5\n",
            "14335       2022           5\n",
            "14717       2022           5\n",
            "15063       2022           5\n",
            "15631       2022           6\n",
            "15632       2022           6\n",
            "16946       2022           6\n",
            "18059       2022           6\n",
            "18232       2022           7\n",
            "18644       2022           7\n",
            "18856       2022           7\n",
            "19054       2022           7\n",
            "19438       2022           7\n",
            "19893       2022           8\n",
            "24992       2022          11\n",
            "39016       2023          11\n",
            "39027       2023          11\n"
          ]
        }
      ]
    },
    {
      "cell_type": "code",
      "source": [
        "leave_days_by_month = data.groupby(['LeaveYear', 'LeaveMonth']).size().reset_index(name='TotalLeaveDays')\n",
        "print(leave_days_by_month)\n",
        "ts_data = leave_days_by_month['TotalLeaveDays']"
      ],
      "metadata": {
        "colab": {
          "base_uri": "https://localhost:8080/"
        },
        "id": "-xgt3K3vYm6A",
        "outputId": "58e47222-6de8-4988-e95e-3b55524b1118"
      },
      "execution_count": 356,
      "outputs": [
        {
          "output_type": "stream",
          "name": "stdout",
          "text": [
            "    LeaveYear  LeaveMonth  TotalLeaveDays\n",
            "0        2021          12            3184\n",
            "1        2022           1            2181\n",
            "2        2022           2            2353\n",
            "3        2022           3            2471\n",
            "4        2022           4            1770\n",
            "5        2022           5            3351\n",
            "6        2022           6            2834\n",
            "7        2022           7            1580\n",
            "8        2022           8            1724\n",
            "9        2022           9            1575\n",
            "10       2022          10            1905\n",
            "11       2022          11            1664\n",
            "12       2022          12            1155\n",
            "13       2023           1            1104\n",
            "14       2023           2             412\n",
            "15       2023           3            1264\n",
            "16       2023           4             469\n",
            "17       2023           5            1758\n",
            "18       2023           6            1260\n",
            "19       2023           7            1098\n",
            "20       2023           8            1082\n",
            "21       2023           9            1030\n",
            "22       2023          10            1169\n",
            "23       2023          11            1351\n",
            "24       2023          12             922\n"
          ]
        }
      ]
    },
    {
      "cell_type": "code",
      "source": [
        "import pandas as pd\n",
        "import matplotlib.pyplot as plt\n",
        "\n",
        "\n",
        "# Visualize the time series data\n",
        "plt.figure(figsize=(12, 6))\n",
        "plt.plot(ts_data)\n",
        "plt.title('Time Series Data')\n",
        "plt.xlabel('Date')\n",
        "plt.ylabel('Total Number of Leaves')\n",
        "plt.grid(True)\n",
        "plt.show()\n",
        "\n",
        "# Perform statistical tests for stationarity\n",
        "from statsmodels.tsa.stattools import adfuller\n",
        "\n",
        "def adf_test(timeseries):\n",
        "    # Perform Augmented Dickey-Fuller test\n",
        "    result = adfuller(timeseries, autolag='AIC')\n",
        "    print('ADF Statistic:', result[0])\n",
        "    print('p-value:', result[1])\n",
        "    print('Critical Values:')\n",
        "    for key, value in result[4].items():\n",
        "        print(f'   {key}: {value}')\n",
        "\n",
        "adf_test(ts_data)\n",
        "\n"
      ],
      "metadata": {
        "colab": {
          "base_uri": "https://localhost:8080/",
          "height": 673
        },
        "id": "kb198u3pvPRj",
        "outputId": "882f1623-5759-4933-e3fe-7fba02d08f10"
      },
      "execution_count": 357,
      "outputs": [
        {
          "output_type": "display_data",
          "data": {
            "text/plain": [
              "<Figure size 1200x600 with 1 Axes>"
            ],
            "image/png": "[encoded data removed]"
          },
          "metadata": {}
        },
        {
          "output_type": "stream",
          "name": "stdout",
          "text": [
            "ADF Statistic: -0.9336382039217688\n",
            "p-value: 0.7766931768801943\n",
            "Critical Values:\n",
            "   1%: -3.8092091249999998\n",
            "   5%: -3.0216450000000004\n",
            "   10%: -2.6507125\n"
          ]
        }
      ]
    },
    {
      "cell_type": "markdown",
      "source": [
        "time series data is non-stationary, indicating the presence of trends or seasonality"
      ],
      "metadata": {
        "id": "kqRXcLWoaze4"
      }
    },
    {
      "cell_type": "markdown",
      "source": [
        "##Developing ARIMA Model"
      ],
      "metadata": {
        "id": "YVdSFMZbd012"
      }
    },
    {
      "cell_type": "code",
      "source": [
        "import pandas as pd\n",
        "import matplotlib.pyplot as plt\n",
        "from statsmodels.tsa.arima.model import ARIMA\n",
        "from sklearn.metrics import mean_squared_error\n",
        "import numpy as np\n",
        "\n",
        "# Step 3: Split Data\n",
        "train_size = int(len(ts_data) * 0.8)\n",
        "train_data, test_data = ts_data[:train_size], ts_data[train_size:]\n",
        "\n",
        "# Step 4: Build and Train ARIMA Model\n",
        "order = (4, 1, 0)  # Example ARIMA parameters (p, d, q)\n",
        "model = ARIMA(train_data, order=order)\n",
        "trained_model = model.fit()\n",
        "\n",
        "# Step 5: Validate Model\n",
        "forecast = trained_model.forecast(steps=len(test_data))\n",
        "print(forecast)\n",
        "# Step 6: Evaluate Model\n",
        "mse = mean_squared_error(test_data, forecast)\n",
        "print(\"Mean Squared Error:\", mse)\n",
        "rmse = np.sqrt(mse)\n",
        "print(\"Root Mean Squared Error (RMSE):\", rmse)\n",
        "\n",
        "# Visualize Results\n",
        "plt.plot(test_data, label='Actual')\n",
        "plt.plot(forecast, color='red', label='Forecast')\n",
        "plt.legend()\n",
        "plt.show()\n"
      ],
      "metadata": {
        "colab": {
          "base_uri": "https://localhost:8080/",
          "height": 575
        },
        "id": "Jv266w40a0Rl",
        "outputId": "5136d8b6-afe2-41cb-8ae7-ee8dce118b54"
      },
      "execution_count": 358,
      "outputs": [
        {
          "output_type": "stream",
          "name": "stdout",
          "text": [
            "20    1345.249929\n",
            "21     894.856740\n",
            "22    1321.424693\n",
            "23    1194.472169\n",
            "24    1153.867391\n",
            "Name: predicted_mean, dtype: float64\n",
            "Mean Squared Error: 37812.192346177544\n",
            "Root Mean Squared Error (RMSE): 194.45357375522195\n"
          ]
        },
        {
          "output_type": "display_data",
          "data": {
            "text/plain": [
              "<Figure size 640x480 with 1 Axes>"
            ],
            "image/png": "[encoded data removed]"
          },
          "metadata": {}
        }
      ]
    },
    {
      "cell_type": "markdown",
      "source": [
        "##Developing Random Forest Classifier"
      ],
      "metadata": {
        "id": "yE8lHUTti1Yu"
      }
    },
    {
      "cell_type": "code",
      "source": [
        "# Define a dictionary mapping each (year, month) tuple to its corresponding total leave count\n",
        "# for year in data['LeaveYear']:\n",
        "#   for month in data['LeaveMonth']:\n",
        "#     for monthlytot in ts_data:\n",
        "#       monthly_totals = (year, month), monthlytot\n",
        "monthly_totals = {\n",
        "    (2021, 12): 3184,\n",
        "    (2022, 1): 2181,\n",
        "    (2022, 2): 2353,\n",
        "    (2022, 3): 2471,\n",
        "    (2022, 4): 1770,\n",
        "    (2022, 5): 3351,\n",
        "    (2022, 6): 2834,\n",
        "    (2022, 7): 1580,\n",
        "    (2022, 8): 1724,\n",
        "    (2022, 9): 1575,\n",
        "    (2022, 10): 1905,\n",
        "    (2022, 11): 1664,\n",
        "    (2022, 12): 1155,\n",
        "    (2023, 1): 1104,\n",
        "    (2023, 2): 412,\n",
        "    (2023, 3): 1264,\n",
        "    (2023, 4): 469,\n",
        "    (2023, 5): 1758,\n",
        "    (2023, 6): 1260,\n",
        "    (2023, 7): 1098,\n",
        "    (2023, 8): 1082,\n",
        "    (2023, 9): 1030,\n",
        "    (2023, 10): 1169,\n",
        "    (2023, 11): 1351\n",
        "}\n",
        "forecast={\n",
        "    (2023, 7): 1323,\n",
        "    (2023, 8): 865,\n",
        "    (2023, 9): 1295,\n",
        "    (2023, 10): 1187\n",
        "}\n",
        "\n",
        "# Create a new column 'MonthlyTotal' by mapping the (year, month) tuple to its corresponding total leave count\n",
        "data['MonthlyTotal'] = data.apply(lambda row: monthly_totals.get((row['LeaveYear'], row['LeaveMonth']), 0), axis=1)\n",
        "\n",
        "# Display the updated DataFrame\n",
        "print(data)\n"
      ],
      "metadata": {
        "colab": {
          "base_uri": "https://localhost:8080/"
        },
        "id": "9mKz1Fa1ZcVI",
        "outputId": "02ef1b79-42b9-4551-8126-be7175dce831"
      },
      "execution_count": 359,
      "outputs": [
        {
          "output_type": "stream",
          "name": "stdout",
          "text": [
            "            Date    Shift    Code                    Department  \\\n",
            "0     2021-12-01  Shift A   AA369            Team - MAT 4A - BD   \n",
            "1     2021-12-01  Shift A   AA362            Team - MAT 4A - BD   \n",
            "2     2021-12-01  Shift A   AA359            Team - MAT 4A - BD   \n",
            "3     2021-12-01  Shift A   AA541            Team - MAT 4A - BD   \n",
            "4     2021-12-01  Shift A   AA398            Team - MAT 3A - BD   \n",
            "...          ...      ...     ...                           ...   \n",
            "40661 2023-12-22  Shift A  AA2212  Sewing Team - 145A - II - BD   \n",
            "40662 2023-12-22  Shift A   AA723   Sewing Team - 109A - I - BD   \n",
            "40663 2023-12-22  Shift A  AA1280   Sewing Team - 152A - I - BD   \n",
            "40664 2023-12-22  Shift A  AA1964   Sewing Team - 135A - I - BD   \n",
            "40665 2023-12-22  Shift A    AA12   Sewing Team - 153A - I - BD   \n",
            "\n",
            "      Absenteeism Type    Status  Leave Type Absent/Present           Reason  \\\n",
            "0             Informed  Notified           1            MAT        Maternity   \n",
            "1             Informed  Notified           1            MAT        Maternity   \n",
            "2             Informed  Notified           1            MAT        Maternity   \n",
            "3             Informed  Notified           1            MAT        Maternity   \n",
            "4             Informed  Notified           1            MAT        Maternity   \n",
            "...                ...       ...         ...            ...              ...   \n",
            "40661       Uninformed  Notified           1         Absent   Health Related   \n",
            "40662         Informed  Notified           1         Absent  Personal Reason   \n",
            "40663         Informed  Notified           1         Absent  Personal Reason   \n",
            "40664         Informed  Notified           1         Absent  Personal Reason   \n",
            "40665         Informed  Notified           1         Absent  Personal Reason   \n",
            "\n",
            "      Joined Date  ...  Encoded Reason  Encoded Status  \\\n",
            "0      2015-09-11  ...              11               1   \n",
            "1      2018-11-14  ...              11               1   \n",
            "2      2019-10-09  ...              11               1   \n",
            "3      2020-10-02  ...              11               1   \n",
            "4      2008-02-29  ...              11               1   \n",
            "...           ...  ...             ...             ...   \n",
            "40661  2018-06-12  ...               9               1   \n",
            "40662  2017-11-15  ...              15               1   \n",
            "40663  2018-12-19  ...              15               1   \n",
            "40664  2021-07-02  ...              15               1   \n",
            "40665  2021-01-20  ...              15               1   \n",
            "\n",
            "       Encoded Absenteeism Type  Encoded Shift  LeaveYear  NumOfLeaveDays  \\\n",
            "0                             0              0       2021               4   \n",
            "1                             0              0       2021               4   \n",
            "2                             0              0       2021               4   \n",
            "3                             0              0       2021               4   \n",
            "4                             0              0       2021               4   \n",
            "...                         ...            ...        ...             ...   \n",
            "40661                         1              0       2023               1   \n",
            "40662                         0              0       2023               1   \n",
            "40663                         0              0       2023               1   \n",
            "40664                         0              0       2023               1   \n",
            "40665                         0              0       2023               1   \n",
            "\n",
            "       TookLeaveNextMonth  LeavesNextMonth  TargetCategory  MonthlyTotal  \n",
            "0                       0                0               A          3184  \n",
            "1                       1               24               B          3184  \n",
            "2                       1               16               B          3184  \n",
            "3                       1                2               A          3184  \n",
            "4                       1                1               A          3184  \n",
            "...                   ...              ...             ...           ...  \n",
            "40661                   0                0               A             0  \n",
            "40662                   0                0               A             0  \n",
            "40663                   0                0               A             0  \n",
            "40664                   0                0               A             0  \n",
            "40665                   0                0               A             0  \n",
            "\n",
            "[40666 rows x 24 columns]\n"
          ]
        }
      ]
    },
    {
      "cell_type": "code",
      "source": [
        "def onehot_encode(df, column, prefix):\n",
        "    df = df.copy()\n",
        "\n",
        "    dummies = pd.get_dummies(df[column], prefix=prefix)\n",
        "    df = pd.concat([df, dummies], axis=1)\n",
        "    df = df.drop(column, axis=1)\n",
        "\n",
        "    return df"
      ],
      "metadata": {
        "id": "xDsoe_WTi0cD"
      },
      "execution_count": 360,
      "outputs": []
    },
    {
      "cell_type": "code",
      "source": [
        "from sklearn.model_selection import train_test_split\n",
        "def preprocess_inputs(df):\n",
        "    df = df.copy()\n",
        "\n",
        "    # Drop ID columns\n",
        "\n",
        "    df = df.drop('Code', axis=1)\n",
        "    df = df.drop('Shift', axis=1)\n",
        "    df = df.drop('Department', axis=1)\n",
        "    df = df.drop('Absenteeism Type', axis=1)\n",
        "    df = df.drop('Status', axis=1)\n",
        "    df = df.drop('Leave Type', axis=1)\n",
        "    df = df.drop('Absent/Present', axis=1)\n",
        "    df = df.drop('Reason', axis=1)\n",
        "    df = df.drop('Joined Date', axis=1)\n",
        "    df = df.drop('LeavesNextMonth', axis=1)\n",
        "    df = df.drop('TookLeaveNextMonth', axis=1)\n",
        "    # One-hot encode the reason column\n",
        "    df = onehot_encode(\n",
        "        df,\n",
        "        column='Encoded Reason',\n",
        "        prefix='Reason'\n",
        "    )\n",
        "\n",
        "    # Filter the data for November 2023\n",
        "    testing_data_november = df[(df['LeaveYear'] == 2023) & (df['LeaveMonth'] >= 11)]\n",
        "    print(\"Nov\", testing_data_november.shape)\n",
        "    df = df[df['Date'] < '2023-11-01']\n",
        "    testing_data_october = df[(df['LeaveYear'] == 2023) & (df['LeaveMonth'] >= 10)]\n",
        "    print(\"Oct\", testing_data_october.shape)\n",
        "    df = df[df['Date'] < '2023-10-01']\n",
        "    testing_data_september = df[(df['LeaveYear'] == 2023) & (df['LeaveMonth'] >= 9)]\n",
        "    print(\"Sept\", testing_data_september.shape)\n",
        "\n",
        "\n",
        "\n",
        "    testing_data = df[df['Date'] > '2023-09-01']\n",
        "    df = df[df['Date'] < '2023-10-01']\n",
        "    df = df.drop('Date', axis=1)\n",
        "    testing_data = testing_data.drop('Date', axis=1)\n",
        "    testing_data_october_copy = testing_data_october.copy()\n",
        "    testing_data_october_copy = testing_data_october_copy.drop('Date', axis=1)\n",
        "\n",
        "\n",
        "\n",
        "    # Split df into X and y\n",
        "    Y_train = df['TargetCategory'].copy()\n",
        "    X_train = df.drop('TargetCategory', axis=1)\n",
        "    X_test = testing_data_october_copy.drop('TargetCategory', axis=1)\n",
        "    Y_test = testing_data_october_copy['TargetCategory'].copy()\n",
        "\n",
        "    X_test['MonthlyTotal'] = data.apply(lambda row: forecast.get((row['LeaveYear'], row['LeaveMonth']), 0), axis=1)\n",
        "\n",
        "    return testing_data_september, testing_data_october, testing_data_november, X_train, X_test, Y_train, Y_test"
      ],
      "metadata": {
        "id": "-O8WzuYAfufc"
      },
      "execution_count": 361,
      "outputs": []
    },
    {
      "cell_type": "code",
      "source": [
        "# Split the remaining data into training and testing sets\n",
        "testing_data_september, testing_data_october, testing_data_november, X_train, X_test, y_train, y_test = preprocess_inputs(data)\n",
        "\n",
        "\n",
        "print(X_train.shape)\n",
        "print(y_train.shape)\n",
        "print(X_test.shape)\n",
        "print(y_test.shape)\n",
        "print(X_test)\n",
        "testing_data_september.to_excel('/content/drive/MyDrive/Colab Notebooks/DSGP_COURSEWORK/SL Apparel Dataset model/Dataset/testing_data_september.xlsx', index=False)\n",
        "testing_data_october.to_excel('/content/drive/MyDrive/Colab Notebooks/DSGP_COURSEWORK/SL Apparel Dataset model/Dataset/testing_data_october.xlsx', index=False)\n",
        "testing_data_november.to_excel('/content/drive/MyDrive/Colab Notebooks/DSGP_COURSEWORK/SL Apparel Dataset model/Dataset/testing_data_november.xlsx', index=False)"
      ],
      "metadata": {
        "colab": {
          "base_uri": "https://localhost:8080/"
        },
        "id": "UkfvXYPkjGpx",
        "outputId": "742988a2-b3f1-4960-eecf-69075222764c"
      },
      "execution_count": 362,
      "outputs": [
        {
          "output_type": "stream",
          "name": "stdout",
          "text": [
            "Nov (2273, 31)\n",
            "Oct (1169, 31)\n",
            "Sept (1030, 31)\n",
            "(37224, 29)\n",
            "(37224,)\n",
            "(1169, 29)\n",
            "(1169,)\n",
            "       DaysWorked  DayOfWeek  Encoded Code  LeaveMonth  Encoded Status  \\\n",
            "37190       10146          1           717          10               1   \n",
            "37191        7831          1          3420          10               1   \n",
            "37192       10016          1          1585          10               1   \n",
            "37193        7780          1          3155          10               1   \n",
            "37194        9947          1          1374          10               1   \n",
            "...           ...        ...           ...         ...             ...   \n",
            "39175        2718          5          1506          10               1   \n",
            "39176         968          5           275          10               1   \n",
            "39177         738          5          2989          10               1   \n",
            "39178        3326          5           860          10               1   \n",
            "39179        1094          5           853          10               1   \n",
            "\n",
            "       Encoded Absenteeism Type  Encoded Shift  LeaveYear  NumOfLeaveDays  \\\n",
            "37190                         1              0       2023               1   \n",
            "37191                         0              0       2023               1   \n",
            "37192                         1              0       2023               3   \n",
            "37193                         1              0       2023               1   \n",
            "37194                         0              0       2023               5   \n",
            "...                         ...            ...        ...             ...   \n",
            "39175                         0              1       2023               1   \n",
            "39176                         0              1       2023               1   \n",
            "39177                         0              1       2023               1   \n",
            "39178                         0              1       2023               1   \n",
            "39179                         1              1       2023               1   \n",
            "\n",
            "       MonthlyTotal  ...  Reason_9  Reason_10  Reason_11  Reason_12  \\\n",
            "37190          1187  ...         0          0          0          0   \n",
            "37191          1187  ...         0          0          0          0   \n",
            "37192          1187  ...         0          0          0          0   \n",
            "37193          1187  ...         0          0          0          0   \n",
            "37194          1187  ...         0          0          0          1   \n",
            "...             ...  ...       ...        ...        ...        ...   \n",
            "39175          1187  ...         0          0          0          1   \n",
            "39176          1187  ...         0          0          0          0   \n",
            "39177          1187  ...         0          0          0          0   \n",
            "39178          1187  ...         0          1          0          0   \n",
            "39179          1187  ...         0          0          0          0   \n",
            "\n",
            "       Reason_13  Reason_14  Reason_15  Reason_16  Reason_17  Reason_18  \n",
            "37190          0          0          0          0          0          0  \n",
            "37191          0          0          1          0          0          0  \n",
            "37192          0          0          0          0          0          0  \n",
            "37193          0          0          0          0          0          0  \n",
            "37194          0          0          0          0          0          0  \n",
            "...          ...        ...        ...        ...        ...        ...  \n",
            "39175          0          0          0          0          0          0  \n",
            "39176          0          0          1          0          0          0  \n",
            "39177          0          0          1          0          0          0  \n",
            "39178          0          0          0          0          0          0  \n",
            "39179          0          0          0          0          0          0  \n",
            "\n",
            "[1169 rows x 29 columns]\n"
          ]
        }
      ]
    },
    {
      "cell_type": "code",
      "source": [
        "from imblearn.over_sampling import SMOTE\n",
        "from sklearn.ensemble import RandomForestClassifier\n",
        "from sklearn.metrics import classification_report\n",
        "\n",
        "# Instantiate SMOTE\n",
        "smote = SMOTE(random_state=123)\n",
        "\n",
        "# Apply SMOTE to your training data\n",
        "X_train_resampled, y_train_resampled = smote.fit_resample(X_train, y_train)\n",
        "\n",
        "print(X_train_resampled.shape)"
      ],
      "metadata": {
        "colab": {
          "base_uri": "https://localhost:8080/"
        },
        "id": "RF96D-Ur6HUg",
        "outputId": "11604c6a-39ad-447b-dff1-9dbc3a9d2ee2"
      },
      "execution_count": 363,
      "outputs": [
        {
          "output_type": "stream",
          "name": "stdout",
          "text": [
            "(49570, 29)\n"
          ]
        }
      ]
    },
    {
      "cell_type": "code",
      "source": [
        "from sklearn. ensemble import RandomForestClassifier\n",
        "rf_model = RandomForestClassifier(n_estimators=500, max_depth=40,random_state=123)\n",
        "rf_model.fit(X_train_resampled, y_train_resampled)"
      ],
      "metadata": {
        "colab": {
          "base_uri": "https://localhost:8080/",
          "height": 74
        },
        "id": "jXtn8xqHjUTD",
        "outputId": "6ff5a2d0-2736-4eb4-fdd5-6e19c87803f7"
      },
      "execution_count": 364,
      "outputs": [
        {
          "output_type": "execute_result",
          "data": {
            "text/plain": [
              "RandomForestClassifier(max_depth=40, n_estimators=500, random_state=123)"
            ],
            "text/html": [
              "<style>#sk-container-id-5 {color: black;background-color: white;}#sk-container-id-5 pre{padding: 0;}#sk-container-id-5 div.sk-toggleable {background-color: white;}#sk-container-id-5 label.sk-toggleable__label {cursor: pointer;display: block;width: 100%;margin-bottom: 0;padding: 0.3em;box-sizing: border-box;text-align: center;}#sk-container-id-5 label.sk-toggleable__label-arrow:before {content: \"▸\";float: left;margin-right: 0.25em;color: #696969;}#sk-container-id-5 label.sk-toggleable__label-arrow:hover:before {color: black;}#sk-container-id-5 div.sk-estimator:hover label.sk-toggleable__label-arrow:before {color: black;}#sk-container-id-5 div.sk-toggleable__content {max-height: 0;max-width: 0;overflow: hidden;text-align: left;background-color: #f0f8ff;}#sk-container-id-5 div.sk-toggleable__content pre {margin: 0.2em;color: black;border-radius: 0.25em;background-color: #f0f8ff;}#sk-container-id-5 input.sk-toggleable__control:checked~div.sk-toggleable__content {max-height: 200px;max-width: 100%;overflow: auto;}#sk-container-id-5 input.sk-toggleable__control:checked~label.sk-toggleable__label-arrow:before {content: \"▾\";}#sk-container-id-5 div.sk-estimator input.sk-toggleable__control:checked~label.sk-toggleable__label {background-color: #d4ebff;}#sk-container-id-5 div.sk-label input.sk-toggleable__control:checked~label.sk-toggleable__label {background-color: #d4ebff;}#sk-container-id-5 input.sk-hidden--visually {border: 0;clip: rect(1px 1px 1px 1px);clip: rect(1px, 1px, 1px, 1px);height: 1px;margin: -1px;overflow: hidden;padding: 0;position: absolute;width: 1px;}#sk-container-id-5 div.sk-estimator {font-family: monospace;background-color: #f0f8ff;border: 1px dotted black;border-radius: 0.25em;box-sizing: border-box;margin-bottom: 0.5em;}#sk-container-id-5 div.sk-estimator:hover {background-color: #d4ebff;}#sk-container-id-5 div.sk-parallel-item::after {content: \"\";width: 100%;border-bottom: 1px solid gray;flex-grow: 1;}#sk-container-id-5 div.sk-label:hover label.sk-toggleable__label {background-color: #d4ebff;}#sk-container-id-5 div.sk-serial::before {content: \"\";position: absolute;border-left: 1px solid gray;box-sizing: border-box;top: 0;bottom: 0;left: 50%;z-index: 0;}#sk-container-id-5 div.sk-serial {display: flex;flex-direction: column;align-items: center;background-color: white;padding-right: 0.2em;padding-left: 0.2em;position: relative;}#sk-container-id-5 div.sk-item {position: relative;z-index: 1;}#sk-container-id-5 div.sk-parallel {display: flex;align-items: stretch;justify-content: center;background-color: white;position: relative;}#sk-container-id-5 div.sk-item::before, #sk-container-id-5 div.sk-parallel-item::before {content: \"\";position: absolute;border-left: 1px solid gray;box-sizing: border-box;top: 0;bottom: 0;left: 50%;z-index: -1;}#sk-container-id-5 div.sk-parallel-item {display: flex;flex-direction: column;z-index: 1;position: relative;background-color: white;}#sk-container-id-5 div.sk-parallel-item:first-child::after {align-self: flex-end;width: 50%;}#sk-container-id-5 div.sk-parallel-item:last-child::after {align-self: flex-start;width: 50%;}#sk-container-id-5 div.sk-parallel-item:only-child::after {width: 0;}#sk-container-id-5 div.sk-dashed-wrapped {border: 1px dashed gray;margin: 0 0.4em 0.5em 0.4em;box-sizing: border-box;padding-bottom: 0.4em;background-color: white;}#sk-container-id-5 div.sk-label label {font-family: monospace;font-weight: bold;display: inline-block;line-height: 1.2em;}#sk-container-id-5 div.sk-label-container {text-align: center;}#sk-container-id-5 div.sk-container {/* jupyter's `normalize.less` sets `[hidden] { display: none; }` but bootstrap.min.css set `[hidden] { display: none !important; }` so we also need the `!important` here to be able to override the default hidden behavior on the sphinx rendered scikit-learn.org. See: https://github.com/scikit-learn/scikit-learn/issues/21755 */display: inline-block !important;position: relative;}#sk-container-id-5 div.sk-text-repr-fallback {display: none;}</style><div id=\"sk-container-id-5\" class=\"sk-top-container\"><div class=\"sk-text-repr-fallback\"><pre>RandomForestClassifier(max_depth=40, n_estimators=500, random_state=123)</pre><b>In a Jupyter environment, please rerun this cell to show the HTML representation or trust the notebook. <br />On GitHub, the HTML representation is unable to render, please try loading this page with nbviewer.org.</b></div><div class=\"sk-container\" hidden><div class=\"sk-item\"><div class=\"sk-estimator sk-toggleable\"><input class=\"sk-toggleable__control sk-hidden--visually\" id=\"sk-estimator-id-5\" type=\"checkbox\" checked><label for=\"sk-estimator-id-5\" class=\"sk-toggleable__label sk-toggleable__label-arrow\">RandomForestClassifier</label><div class=\"sk-toggleable__content\"><pre>RandomForestClassifier(max_depth=40, n_estimators=500, random_state=123)</pre></div></div></div></div></div>"
            ]
          },
          "metadata": {},
          "execution_count": 364
        }
      ]
    },
    {
      "cell_type": "code",
      "source": [
        "from sklearn.metrics import accuracy_score\n",
        "\n",
        "\n",
        "predictions_rf = rf_model.predict(X_test)\n",
        "results_df = pd.DataFrame({'Actual': y_test, 'Predicted': predictions_rf})\n",
        "accuracy = accuracy_score(y_test, predictions_rf)\n",
        "\n",
        "\n",
        "print(\"Actual values and predictions:\")\n",
        "print(results_df)\n",
        "print(\"\\n\\nAccuracy of Predicted Classes:\", accuracy)\n"
      ],
      "metadata": {
        "colab": {
          "base_uri": "https://localhost:8080/"
        },
        "id": "WhSo061slAqp",
        "outputId": "28bcd508-251b-4fe6-b836-b606b9c5085b"
      },
      "execution_count": 365,
      "outputs": [
        {
          "output_type": "stream",
          "name": "stdout",
          "text": [
            "Actual values and predictions:\n",
            "      Actual Predicted\n",
            "37190      A         A\n",
            "37191      A         A\n",
            "37192      A         A\n",
            "37193      A         A\n",
            "37194      A         A\n",
            "...      ...       ...\n",
            "39175      A         A\n",
            "39176      A         A\n",
            "39177      A         A\n",
            "39178      B         A\n",
            "39179      A         A\n",
            "\n",
            "[1169 rows x 2 columns]\n",
            "\n",
            "\n",
            "Accuracy of Predicted Classes: 0.8306244653550042\n"
          ]
        }
      ]
    },
    {
      "cell_type": "code",
      "source": [
        "from sklearn.metrics import classification_report\n",
        "\n",
        "# Generate classification report\n",
        "class_report = classification_report(y_test, predictions_rf)\n",
        "\n",
        "# Print the classification report\n",
        "print(\"Classification Report:\")\n",
        "print(class_report)"
      ],
      "metadata": {
        "colab": {
          "base_uri": "https://localhost:8080/"
        },
        "id": "M5dco95Hlcl8",
        "outputId": "1d029d48-06dd-4402-b74a-35516f982b4e"
      },
      "execution_count": 366,
      "outputs": [
        {
          "output_type": "stream",
          "name": "stdout",
          "text": [
            "Classification Report:\n",
            "              precision    recall  f1-score   support\n",
            "\n",
            "           A       0.84      0.95      0.89       849\n",
            "           B       0.79      0.52      0.62       320\n",
            "\n",
            "    accuracy                           0.83      1169\n",
            "   macro avg       0.82      0.73      0.76      1169\n",
            "weighted avg       0.83      0.83      0.82      1169\n",
            "\n"
          ]
        }
      ]
    },
    {
      "cell_type": "code",
      "source": [
        "from sklearn.metrics import confusion_matrix\n",
        "import matplotlib.pyplot as plt\n",
        "import seaborn as sns\n",
        "conf_matrix = confusion_matrix(y_test, predictions_rf)\n",
        "# Plot confusion matrix\n",
        "plt.figure(figsize=(8, 6))\n",
        "sns.heatmap(conf_matrix, annot=True, fmt='d', cmap='Blues', cbar=False)\n",
        "plt.xlabel('Predicted')\n",
        "plt.ylabel('Actual')\n",
        "plt.title('Confusion Matrix')\n",
        "plt.show()"
      ],
      "metadata": {
        "colab": {
          "base_uri": "https://localhost:8080/",
          "height": 564
        },
        "id": "v1mVtcT3lZBB",
        "outputId": "bd4b4792-b61b-4c17-9870-22df6836405e"
      },
      "execution_count": 367,
      "outputs": [
        {
          "output_type": "display_data",
          "data": {
            "text/plain": [
              "<Figure size 800x600 with 1 Axes>"
            ],
            "image/png": "[encoded data removed]"
          },
          "metadata": {}
        }
      ]
    },
    {
      "cell_type": "code",
      "source": [
        "# Get the predicted probabilities for each class\n",
        "predicted_probabilities = rf_model.predict_proba(X_test)\n",
        "\n",
        "# Get the index of class B\n",
        "class_b_index = list(rf_model.classes_).index('B')\n",
        "\n",
        "# Extract the probabilities for class B\n",
        "class_b_probabilities = predicted_probabilities[:, class_b_index]\n",
        "\n",
        "# Assuming the confidence level is the probability of class B\n",
        "confidence_level_b = class_b_probabilities\n",
        "\n",
        "# Get the predicted class\n",
        "predicted_class = rf_model.predict(X_test)\n",
        "\n",
        "# Iterate over each prediction in class B\n",
        "for i, (actual, predicted, probability) in enumerate(zip(y_test, predicted_class, confidence_level_b)):\n",
        "    if predicted == 'B':\n",
        "        print(f\"Actual: {actual}, Predicted: {predicted}, Probability: {probability}\")\n"
      ],
      "metadata": {
        "colab": {
          "base_uri": "https://localhost:8080/"
        },
        "id": "ojheSGDTbn4i",
        "outputId": "c67b5587-6d3d-49fa-8f14-d5e3200909ec"
      },
      "execution_count": 368,
      "outputs": [
        {
          "output_type": "stream",
          "name": "stdout",
          "text": [
            "Actual: B, Predicted: B, Probability: 0.664\n",
            "Actual: A, Predicted: B, Probability: 0.86\n",
            "Actual: B, Predicted: B, Probability: 0.838\n",
            "Actual: A, Predicted: B, Probability: 0.582\n",
            "Actual: B, Predicted: B, Probability: 0.916\n",
            "Actual: B, Predicted: B, Probability: 0.928\n",
            "Actual: B, Predicted: B, Probability: 0.94\n",
            "Actual: B, Predicted: B, Probability: 0.93\n",
            "Actual: B, Predicted: B, Probability: 0.948\n",
            "Actual: B, Predicted: B, Probability: 0.854\n",
            "Actual: B, Predicted: B, Probability: 0.882\n",
            "Actual: B, Predicted: B, Probability: 0.694\n",
            "Actual: A, Predicted: B, Probability: 0.688\n",
            "Actual: B, Predicted: B, Probability: 0.964\n",
            "Actual: B, Predicted: B, Probability: 0.924\n",
            "Actual: B, Predicted: B, Probability: 0.942\n",
            "Actual: B, Predicted: B, Probability: 0.59\n",
            "Actual: A, Predicted: B, Probability: 0.568\n",
            "Actual: A, Predicted: B, Probability: 0.716\n",
            "Actual: B, Predicted: B, Probability: 0.928\n",
            "Actual: B, Predicted: B, Probability: 0.728\n",
            "Actual: B, Predicted: B, Probability: 0.784\n",
            "Actual: B, Predicted: B, Probability: 0.852\n",
            "Actual: B, Predicted: B, Probability: 0.74\n",
            "Actual: B, Predicted: B, Probability: 0.54\n",
            "Actual: A, Predicted: B, Probability: 0.9\n",
            "Actual: B, Predicted: B, Probability: 0.814\n",
            "Actual: B, Predicted: B, Probability: 0.53\n",
            "Actual: A, Predicted: B, Probability: 0.82\n",
            "Actual: B, Predicted: B, Probability: 0.614\n",
            "Actual: B, Predicted: B, Probability: 0.896\n",
            "Actual: B, Predicted: B, Probability: 0.844\n",
            "Actual: B, Predicted: B, Probability: 0.826\n",
            "Actual: B, Predicted: B, Probability: 0.536\n",
            "Actual: B, Predicted: B, Probability: 0.768\n",
            "Actual: B, Predicted: B, Probability: 0.644\n",
            "Actual: B, Predicted: B, Probability: 0.672\n",
            "Actual: B, Predicted: B, Probability: 0.54\n",
            "Actual: A, Predicted: B, Probability: 0.622\n",
            "Actual: B, Predicted: B, Probability: 0.832\n",
            "Actual: A, Predicted: B, Probability: 0.648\n",
            "Actual: A, Predicted: B, Probability: 0.556\n",
            "Actual: A, Predicted: B, Probability: 0.626\n",
            "Actual: A, Predicted: B, Probability: 0.526\n",
            "Actual: A, Predicted: B, Probability: 0.76\n",
            "Actual: B, Predicted: B, Probability: 0.704\n",
            "Actual: A, Predicted: B, Probability: 0.636\n",
            "Actual: B, Predicted: B, Probability: 0.804\n",
            "Actual: B, Predicted: B, Probability: 0.868\n",
            "Actual: B, Predicted: B, Probability: 0.85\n",
            "Actual: B, Predicted: B, Probability: 0.856\n",
            "Actual: B, Predicted: B, Probability: 0.87\n",
            "Actual: B, Predicted: B, Probability: 0.852\n",
            "Actual: B, Predicted: B, Probability: 0.858\n",
            "Actual: B, Predicted: B, Probability: 0.746\n",
            "Actual: B, Predicted: B, Probability: 0.858\n",
            "Actual: B, Predicted: B, Probability: 0.828\n",
            "Actual: B, Predicted: B, Probability: 0.864\n",
            "Actual: B, Predicted: B, Probability: 0.69\n",
            "Actual: B, Predicted: B, Probability: 0.52\n",
            "Actual: B, Predicted: B, Probability: 0.514\n",
            "Actual: B, Predicted: B, Probability: 0.582\n",
            "Actual: B, Predicted: B, Probability: 0.536\n",
            "Actual: B, Predicted: B, Probability: 0.87\n",
            "Actual: B, Predicted: B, Probability: 0.956\n",
            "Actual: B, Predicted: B, Probability: 0.932\n",
            "Actual: B, Predicted: B, Probability: 0.97\n",
            "Actual: B, Predicted: B, Probability: 0.602\n",
            "Actual: B, Predicted: B, Probability: 0.97\n",
            "Actual: A, Predicted: B, Probability: 0.524\n",
            "Actual: B, Predicted: B, Probability: 0.962\n",
            "Actual: B, Predicted: B, Probability: 0.632\n",
            "Actual: B, Predicted: B, Probability: 0.958\n",
            "Actual: B, Predicted: B, Probability: 0.578\n",
            "Actual: A, Predicted: B, Probability: 0.88\n",
            "Actual: B, Predicted: B, Probability: 0.974\n",
            "Actual: B, Predicted: B, Probability: 0.968\n",
            "Actual: B, Predicted: B, Probability: 0.542\n",
            "Actual: B, Predicted: B, Probability: 0.94\n",
            "Actual: B, Predicted: B, Probability: 0.804\n",
            "Actual: B, Predicted: B, Probability: 0.886\n",
            "Actual: B, Predicted: B, Probability: 0.61\n",
            "Actual: B, Predicted: B, Probability: 0.502\n",
            "Actual: B, Predicted: B, Probability: 0.55\n",
            "Actual: B, Predicted: B, Probability: 0.546\n",
            "Actual: A, Predicted: B, Probability: 0.604\n",
            "Actual: A, Predicted: B, Probability: 0.758\n",
            "Actual: B, Predicted: B, Probability: 0.736\n",
            "Actual: A, Predicted: B, Probability: 0.59\n",
            "Actual: B, Predicted: B, Probability: 0.792\n",
            "Actual: A, Predicted: B, Probability: 0.534\n",
            "Actual: B, Predicted: B, Probability: 0.846\n",
            "Actual: B, Predicted: B, Probability: 0.82\n",
            "Actual: B, Predicted: B, Probability: 0.798\n",
            "Actual: A, Predicted: B, Probability: 0.572\n",
            "Actual: A, Predicted: B, Probability: 0.53\n",
            "Actual: B, Predicted: B, Probability: 0.894\n",
            "Actual: B, Predicted: B, Probability: 0.904\n",
            "Actual: B, Predicted: B, Probability: 0.83\n",
            "Actual: B, Predicted: B, Probability: 0.728\n",
            "Actual: A, Predicted: B, Probability: 0.556\n",
            "Actual: B, Predicted: B, Probability: 0.926\n",
            "Actual: A, Predicted: B, Probability: 0.546\n",
            "Actual: B, Predicted: B, Probability: 0.862\n",
            "Actual: B, Predicted: B, Probability: 0.89\n",
            "Actual: A, Predicted: B, Probability: 0.532\n",
            "Actual: B, Predicted: B, Probability: 0.64\n",
            "Actual: A, Predicted: B, Probability: 0.838\n",
            "Actual: B, Predicted: B, Probability: 0.768\n",
            "Actual: B, Predicted: B, Probability: 0.57\n",
            "Actual: B, Predicted: B, Probability: 0.63\n",
            "Actual: B, Predicted: B, Probability: 0.696\n",
            "Actual: A, Predicted: B, Probability: 0.708\n",
            "Actual: A, Predicted: B, Probability: 0.56\n",
            "Actual: A, Predicted: B, Probability: 0.718\n",
            "Actual: B, Predicted: B, Probability: 0.752\n",
            "Actual: A, Predicted: B, Probability: 0.592\n",
            "Actual: A, Predicted: B, Probability: 0.568\n",
            "Actual: B, Predicted: B, Probability: 0.746\n",
            "Actual: B, Predicted: B, Probability: 0.832\n",
            "Actual: B, Predicted: B, Probability: 0.824\n",
            "Actual: B, Predicted: B, Probability: 0.818\n",
            "Actual: B, Predicted: B, Probability: 0.872\n",
            "Actual: B, Predicted: B, Probability: 0.844\n",
            "Actual: B, Predicted: B, Probability: 0.892\n",
            "Actual: B, Predicted: B, Probability: 0.772\n",
            "Actual: B, Predicted: B, Probability: 0.922\n",
            "Actual: A, Predicted: B, Probability: 0.73\n",
            "Actual: B, Predicted: B, Probability: 0.544\n",
            "Actual: B, Predicted: B, Probability: 0.716\n",
            "Actual: B, Predicted: B, Probability: 0.798\n",
            "Actual: B, Predicted: B, Probability: 0.898\n",
            "Actual: A, Predicted: B, Probability: 0.544\n",
            "Actual: B, Predicted: B, Probability: 0.576\n",
            "Actual: A, Predicted: B, Probability: 0.592\n",
            "Actual: B, Predicted: B, Probability: 0.538\n",
            "Actual: B, Predicted: B, Probability: 0.63\n",
            "Actual: B, Predicted: B, Probability: 0.524\n",
            "Actual: B, Predicted: B, Probability: 0.606\n",
            "Actual: B, Predicted: B, Probability: 0.544\n",
            "Actual: B, Predicted: B, Probability: 0.54\n",
            "Actual: B, Predicted: B, Probability: 0.506\n",
            "Actual: B, Predicted: B, Probability: 0.51\n",
            "Actual: A, Predicted: B, Probability: 0.73\n",
            "Actual: B, Predicted: B, Probability: 0.506\n",
            "Actual: B, Predicted: B, Probability: 0.576\n",
            "Actual: B, Predicted: B, Probability: 0.73\n",
            "Actual: B, Predicted: B, Probability: 0.552\n",
            "Actual: B, Predicted: B, Probability: 0.834\n",
            "Actual: B, Predicted: B, Probability: 0.662\n",
            "Actual: B, Predicted: B, Probability: 0.558\n",
            "Actual: B, Predicted: B, Probability: 0.726\n",
            "Actual: B, Predicted: B, Probability: 0.636\n",
            "Actual: B, Predicted: B, Probability: 0.794\n",
            "Actual: B, Predicted: B, Probability: 0.856\n",
            "Actual: B, Predicted: B, Probability: 0.848\n",
            "Actual: B, Predicted: B, Probability: 0.722\n",
            "Actual: B, Predicted: B, Probability: 0.65\n",
            "Actual: B, Predicted: B, Probability: 0.772\n",
            "Actual: B, Predicted: B, Probability: 0.828\n",
            "Actual: B, Predicted: B, Probability: 0.614\n",
            "Actual: B, Predicted: B, Probability: 0.616\n",
            "Actual: A, Predicted: B, Probability: 0.58\n",
            "Actual: B, Predicted: B, Probability: 0.756\n",
            "Actual: A, Predicted: B, Probability: 0.502\n",
            "Actual: B, Predicted: B, Probability: 0.82\n",
            "Actual: B, Predicted: B, Probability: 0.816\n",
            "Actual: B, Predicted: B, Probability: 0.52\n",
            "Actual: B, Predicted: B, Probability: 0.932\n",
            "Actual: B, Predicted: B, Probability: 0.94\n",
            "Actual: B, Predicted: B, Probability: 0.926\n",
            "Actual: B, Predicted: B, Probability: 0.94\n",
            "Actual: B, Predicted: B, Probability: 0.91\n",
            "Actual: B, Predicted: B, Probability: 0.538\n",
            "Actual: B, Predicted: B, Probability: 0.878\n",
            "Actual: B, Predicted: B, Probability: 0.506\n",
            "Actual: B, Predicted: B, Probability: 0.946\n",
            "Actual: B, Predicted: B, Probability: 0.942\n",
            "Actual: B, Predicted: B, Probability: 0.942\n",
            "Actual: B, Predicted: B, Probability: 0.802\n",
            "Actual: B, Predicted: B, Probability: 0.568\n",
            "Actual: B, Predicted: B, Probability: 0.72\n",
            "Actual: B, Predicted: B, Probability: 0.794\n",
            "Actual: A, Predicted: B, Probability: 0.556\n",
            "Actual: B, Predicted: B, Probability: 0.514\n",
            "Actual: A, Predicted: B, Probability: 0.568\n",
            "Actual: B, Predicted: B, Probability: 0.796\n",
            "Actual: A, Predicted: B, Probability: 0.644\n",
            "Actual: B, Predicted: B, Probability: 0.76\n",
            "Actual: B, Predicted: B, Probability: 0.952\n",
            "Actual: B, Predicted: B, Probability: 0.948\n",
            "Actual: B, Predicted: B, Probability: 0.932\n",
            "Actual: B, Predicted: B, Probability: 0.864\n",
            "Actual: B, Predicted: B, Probability: 0.532\n",
            "Actual: B, Predicted: B, Probability: 0.896\n",
            "Actual: B, Predicted: B, Probability: 0.63\n",
            "Actual: B, Predicted: B, Probability: 0.926\n",
            "Actual: B, Predicted: B, Probability: 0.888\n",
            "Actual: B, Predicted: B, Probability: 0.758\n",
            "Actual: B, Predicted: B, Probability: 0.776\n",
            "Actual: B, Predicted: B, Probability: 0.584\n",
            "Actual: B, Predicted: B, Probability: 0.808\n",
            "Actual: B, Predicted: B, Probability: 0.926\n",
            "Actual: A, Predicted: B, Probability: 0.594\n",
            "Actual: B, Predicted: B, Probability: 0.812\n",
            "Actual: A, Predicted: B, Probability: 0.52\n",
            "Actual: A, Predicted: B, Probability: 0.598\n",
            "Actual: B, Predicted: B, Probability: 0.534\n"
          ]
        }
      ]
    },
    {
      "cell_type": "code",
      "source": [
        "# Filter predictions with probability > 0.9\n",
        "high_confidence_predictions = [(actual, predicted, probability) for actual, predicted, probability in zip(y_test, predicted_class, confidence_level_b) if probability > 0.9]\n",
        "\n",
        "# Display filtered predictions\n",
        "for actual, predicted, probability in high_confidence_predictions:\n",
        "    print(f\"Actual: {actual}, Predicted: {predicted}, Probability: {probability}\")"
      ],
      "metadata": {
        "colab": {
          "base_uri": "https://localhost:8080/"
        },
        "id": "iLA7anm0cz8m",
        "outputId": "02765cb8-5e09-4281-c579-217e9ea2701b"
      },
      "execution_count": 369,
      "outputs": [
        {
          "output_type": "stream",
          "name": "stdout",
          "text": [
            "Actual: B, Predicted: B, Probability: 0.916\n",
            "Actual: B, Predicted: B, Probability: 0.928\n",
            "Actual: B, Predicted: B, Probability: 0.94\n",
            "Actual: B, Predicted: B, Probability: 0.93\n",
            "Actual: B, Predicted: B, Probability: 0.948\n",
            "Actual: B, Predicted: B, Probability: 0.964\n",
            "Actual: B, Predicted: B, Probability: 0.924\n",
            "Actual: B, Predicted: B, Probability: 0.942\n",
            "Actual: B, Predicted: B, Probability: 0.928\n",
            "Actual: B, Predicted: B, Probability: 0.956\n",
            "Actual: B, Predicted: B, Probability: 0.932\n",
            "Actual: B, Predicted: B, Probability: 0.97\n",
            "Actual: B, Predicted: B, Probability: 0.97\n",
            "Actual: B, Predicted: B, Probability: 0.962\n",
            "Actual: B, Predicted: B, Probability: 0.958\n",
            "Actual: B, Predicted: B, Probability: 0.974\n",
            "Actual: B, Predicted: B, Probability: 0.968\n",
            "Actual: B, Predicted: B, Probability: 0.94\n",
            "Actual: B, Predicted: B, Probability: 0.904\n",
            "Actual: B, Predicted: B, Probability: 0.926\n",
            "Actual: B, Predicted: B, Probability: 0.922\n",
            "Actual: B, Predicted: B, Probability: 0.932\n",
            "Actual: B, Predicted: B, Probability: 0.94\n",
            "Actual: B, Predicted: B, Probability: 0.926\n",
            "Actual: B, Predicted: B, Probability: 0.94\n",
            "Actual: B, Predicted: B, Probability: 0.91\n",
            "Actual: B, Predicted: B, Probability: 0.946\n",
            "Actual: B, Predicted: B, Probability: 0.942\n",
            "Actual: B, Predicted: B, Probability: 0.942\n",
            "Actual: B, Predicted: B, Probability: 0.952\n",
            "Actual: B, Predicted: B, Probability: 0.948\n",
            "Actual: B, Predicted: B, Probability: 0.932\n",
            "Actual: B, Predicted: B, Probability: 0.926\n",
            "Actual: B, Predicted: B, Probability: 0.926\n"
          ]
        }
      ]
    },
    {
      "cell_type": "code",
      "source": [
        "# Filter predictions with probability > 0.9 and predicted as category B\n",
        "high_confidence_category_b = [X_test.iloc[i]['Encoded Code'] for i, (_, predicted, probability) in enumerate(zip(y_test, predicted_class, confidence_level_b)) if predicted == 'B' and probability > 0.9]\n",
        "\n",
        "# Display encoded codes of employees predicted to be in category B with >0.9 probability\n",
        "print(\"Encoded codes of employees predicted to be in category B with >0.9 probability:\")\n",
        "for encoded_code in high_confidence_category_b:\n",
        "    print(encoded_code)\n"
      ],
      "metadata": {
        "colab": {
          "base_uri": "https://localhost:8080/"
        },
        "id": "AXZd0qkUdXzm",
        "outputId": "24c8a911-8958-40a6-e76b-f2e50852ebf4"
      },
      "execution_count": 370,
      "outputs": [
        {
          "output_type": "stream",
          "name": "stdout",
          "text": [
            "Encoded codes of employees predicted to be in category B with >0.9 probability:\n",
            "4102\n",
            "1316\n",
            "1666\n",
            "1965\n",
            "1752\n",
            "3308\n",
            "3984\n",
            "4098\n",
            "4096\n",
            "4096\n",
            "243\n",
            "2306\n",
            "2766\n",
            "1072\n",
            "320\n",
            "4042\n",
            "4036\n",
            "3895\n",
            "1752\n",
            "3308\n",
            "3308\n",
            "4096\n",
            "2306\n",
            "2031\n",
            "2766\n",
            "1072\n",
            "4042\n",
            "4036\n",
            "4032\n",
            "1442\n",
            "1316\n",
            "1666\n",
            "1752\n",
            "4098\n"
          ]
        }
      ]
    }
  ]
}